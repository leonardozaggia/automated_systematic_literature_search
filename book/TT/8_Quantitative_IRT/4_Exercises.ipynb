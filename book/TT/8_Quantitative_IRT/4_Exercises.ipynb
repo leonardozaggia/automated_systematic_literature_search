{
 "cells": [
  {
   "cell_type": "markdown",
   "id": "74795333",
   "metadata": {},
   "source": [
    "## 6.4 Exercises\n",
    "\n",
    "## 1️⃣ Data Exploration\n",
    "**Goal:** Inspect the dataset structure.\n",
    "\n",
    "**Instructions:**\n",
    "1. Download the dataset [here](https://github.com/leonardozaggia/psy126/tree/main/book/TT/8_Quantitative_IRT/data) and load the dataset.\n",
    "2. Explore it using the functions you know.\n",
    "3. Remove columns that are not items.\n",
    "4. Show summary statistics (`.sd()`, and `.mean()`) and correlation between items (`.corr()`).\n",
    "5. Visualise the correlation between items (you can use `sns.heatmap()`)\n",
    "6. And plot the score distribution of one item, you can use: `sns.histplot(df['column'])`."
   ]
  },
  {
   "cell_type": "markdown",
   "id": "9b000ff5",
   "metadata": {},
   "source": [
    "before starting make sure you have lavaan installed:\n",
    "\n",
    "1. **Open Anaconda Prompt** (Windows) or **Terminal** (Mac).\n",
    "\n",
    "2. **Copy and paste the appropriate command:**\n",
    "\n",
    "- **Windows:**\n",
    "  ```\n",
    "  R -e \"install.packages('lavaan', repos='https://cran.uni-muenster.de')\"\n",
    "  ```\n",
    "\n",
    "- **Mac:**\n",
    "  ```\n",
    "  R -e \"install.packages('lavaan', repos='https://cran.r-project.org')\"\n",
    "  ```"
   ]
  },
  {
   "cell_type": "code",
   "execution_count": null,
   "id": "1a1c089f",
   "metadata": {},
   "outputs": [],
   "source": [
    "# Use this cell to import any package you need"
   ]
  },
  {
   "cell_type": "code",
   "execution_count": null,
   "id": "7f8d6e75",
   "metadata": {},
   "outputs": [],
   "source": [
    "# Your code here"
   ]
  },
  {
   "cell_type": "markdown",
   "id": "b7b3c518",
   "metadata": {},
   "source": [
    "## 2️⃣ Model Comparison\n",
    "\n",
    "**Goal:** Fit two different models and compare their performance.\n",
    "\n",
    "**Instructions:**\n",
    "1. Perform dimensionality assessment using one of the method introduced in the Dichotomous session (ex. `princals()`)\n",
    "2. Fit a new model (you can call it `better_model`), after excluding one item from your dataset.\n",
    "3. Fit a Tau-Congeneric on the dataset containing all of the items and compare it to `better_model`.\n",
    "4. Discuss which model performs better and why."
   ]
  },
  {
   "cell_type": "code",
   "execution_count": null,
   "id": "6555d0d0",
   "metadata": {},
   "outputs": [],
   "source": [
    "# Import packages to use dimensionality assessment tools\n",
    "from rpy2.robjects.packages import importr\n",
    "importr(\"MPsychoR\")\n",
    "importr(\"psych\")\n",
    "importr(\"mirt\")"
   ]
  },
  {
   "cell_type": "code",
   "execution_count": null,
   "id": "0d37376c",
   "metadata": {},
   "outputs": [],
   "source": [
    "# Your code here"
   ]
  },
  {
   "cell_type": "markdown",
   "id": "808f7ecb",
   "metadata": {},
   "source": [
    "## 3️⃣ Sorting item parameters\n",
    "\n",
    "**Goal:** Practise basic control‑flow constructs.\n",
    "\n",
    "**Exercises:**\n",
    "1. Create a new `load_sorted` and a new `inter_sorted` variables.\n",
    "2. Use a for loop, if-else, and correct indexing to loop through df and sort the loadings and the intercept column.\n",
    "3. Do this without using any `.sort()` function\n"
   ]
  },
  {
   "cell_type": "code",
   "execution_count": null,
   "id": "1f8e6883",
   "metadata": {},
   "outputs": [],
   "source": [
    "from rpy2 import robjects as ro\n",
    "from rpy2.robjects import pandas2ri\n",
    "import pandas as pd\n",
    "pe = ro.r('parameterEstimates(fitmtc)')       \n",
    "pe = pandas2ri.rpy2py(pe)\n",
    "df = pd.DataFrame({\n",
    "    'item': pe.loc[0:5, 'rhs'].values,\n",
    "    'loading': pe.loc[0:5, 'est'].values,\n",
    "    'intercept': pe.loc[13:18, 'est'].values\n",
    "})\n",
    "\n",
    "df"
   ]
  }
 ],
 "metadata": {
  "kernelspec": {
   "display_name": "Python 3",
   "name": "python3"
  }
 },
 "nbformat": 4,
 "nbformat_minor": 5
}
