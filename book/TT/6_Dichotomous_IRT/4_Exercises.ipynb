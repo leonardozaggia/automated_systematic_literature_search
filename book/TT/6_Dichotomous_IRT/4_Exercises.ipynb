{
 "cells": [
  {
   "cell_type": "markdown",
   "id": "8d7f6d2b",
   "metadata": {},
   "source": [
    "# 4.4 Exercises\n",
    "## Dichotomous IRT\n",
    "We will now solve a few exercises on Item Response Theory with Dichotomous Data."
   ]
  },
  {
   "cell_type": "markdown",
   "id": "c9cd629f",
   "metadata": {},
   "source": [
    "## 1️⃣ Dimensionality assessment\n",
    "**Instructions:**\n",
    "- Download and load the dataset\n",
  "- Test unidimensionality on the addition items of the `zareki` dataset.\n",
  "- What conclusion can you draw from the results of the analysis?\n",
  "- Are there any items that seem to violate unidimensionality? If so, remove them and run the analysis again. What has changed?"
   ]
  },
  {
   "cell_type": "code",
   "execution_count": null,
   "id": "219ba699",
   "metadata": {},
   "outputs": [],
   "source": [
    "# Data handling\n",
    "\n",
    "# Princals\n",
    "\n",
    "# EFA tetrachoric correlation\n",
    "\n",
    "# ICA"
   ]
  },
  {
   "cell_type": "markdown",
   "id": "b6ef069f",
   "metadata": {},
   "source": [
    "## 2️⃣: The Rasch model\n",
    "**Instructions:**\n",
  "- Analyze the item parameters of a Rasch model on all the mathematical items in the `zareki` dataset\n",
    "    - Assess general model fit\n",
    "    - Assess misfit at the item level\n",
    "    - Clean the dataset and re-fit the Rasch model\n",
    "    - Interpret the result\n",
    "- Plot the item response functions (ICC)"
   ]
  },
  {
   "cell_type": "code",
   "execution_count": null,
   "id": "65a3d4c3",
   "metadata": {},
   "outputs": [],
   "source": [
    "# Data handling\n",
    "\n",
    "# FIT testing\n",
    "\n",
    "# Cleaning and comparison\n",
    "\n",
    "# ICC"
   ]
  },
  {
   "cell_type": "markdown",
   "id": "9526f636",
   "metadata": {},
   "source": [
    "## 3️⃣: 2-PL model\n",
    "**Instructions:**\n",
    "- Replicate the analysis above, but this time use a 2-PL model\n",
    "- Extract item difficulties and item discrimination into a python pandas.dataframe\n",
    "- Create 2 subplots. \n",
    "    - 1st subplot: barplot showing item difficulties\n",
    "    - 2nd subplot: barplot showing item discrimination\n",
    "    - add xlabels and ylabels and a title "
   ]
  },
  {
   "cell_type": "code",
   "execution_count": null,
   "id": "39aa6e95",
   "metadata": {},
   "outputs": [],
   "source": [
    "# 2-PL model\n",
    "\n",
    "# Item parameters extraction\n",
    "\n",
    "# Plotting "
   ]
  }
 ],
 "metadata": {
  "language_info": {
   "name": "python"
  }
 },
 "nbformat": 4,
 "nbformat_minor": 5
}
