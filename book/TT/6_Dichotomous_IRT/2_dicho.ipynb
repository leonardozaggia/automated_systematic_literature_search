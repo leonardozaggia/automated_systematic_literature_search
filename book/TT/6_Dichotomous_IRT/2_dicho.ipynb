{
 "cells": [
  {
   "cell_type": "markdown",
   "metadata": {
    "id": "0dtwBaFyRwzF"
   },
   "source": [
  "# 4.1 Assessing Dimensionality\n",
    "\n",
    "We first start with activating the environment and import the required R and Python packages.\n",
    "Since we already set up and tested our environment in the first session, everything should work smoothly."
   ]
  },
  {
   "cell_type": "markdown",
   "metadata": {},
   "source": [
    "\n",
    "---\n",
    "\n",
    "<details>\n",
    "<summary>   Workaround for PATH issues locating R </summary>\n",
    "\n",
    "If your environment is not functioning properly, you may need to uninstall Miniconda and carefully follow the [1.1 Installation](../../introduction/1_psy126/1_Setup.md) guide.\n",
    "\n",
    "As a temporary workaround, you can copy and run the following code cell at the beginning of your .ipynb notebook to ensure that rpy2 can locate a working version of R. Note that you'll need to repeat this each time you work with a new .ipynb notebook using rpy2.\n",
    "\n",
    "Although not recommended, this will allow you to follow along with the seminar materials and exercises for now.\n",
    "\n",
    "```python\n",
    "import os\n",
    "import subprocess\n",
    "import glob\n",
    "\n",
    "# Find the most recent version of R installed in the Program Files\\R directory\n",
    "r_base_path = r'C:\\Program Files\\R'\n",
    "r_versions = glob.glob(os.path.join(r_base_path, 'R-*'))\n",
    "r_versions.sort(reverse=True)\n",
    "latest_r_version = r_versions[0]\n",
    "\n",
    "# Set R environment variable\n",
    "os.environ['R_HOME'] = latest_r_version\n",
    "\n",
    "# Full path to the R executable\n",
    "r_executable = os.path.join(latest_r_version, 'bin', 'R.exe')\n",
    "\n",
    "# Install R packages\n",
    "subprocess.run([r_executable, '-e', \"install.packages(c('MPsychoR','mirt', 'Gifi', 'psych', 'eRm', 'ltm'), repos='https://cran.uni-muenster.de', quiet=TRUE)\"], check=True)\n",
    "\n",
    "```\n",
    "</details> \n",
    "\n",
    "<details>\n",
    "<summary>    Workaround for using Colab </summary>\n",
    "\n",
    "At this point in the seminar, none of you should still be using Colab — the reason will become evident shortly.\n",
    "\n",
    "While rpy2 can technically be used in Colab, doing so requires reinstalling all necessary R packages every time you open the notebook, refresh the browser, or reinitialize the kernel (whether intentionally or by accident).\n",
    "\n",
    "This setup process takes a significant amount of time — roughly 15 minutes depending on Google’s server load — making it impractical for effective work.\n",
    "\n",
    "However, if you still intend to use Colab for testing at home, you would need to run the following commands in your Colab-based Jupyter notebook:\n",
    "\n",
    "\n",
    "```python\n",
    "!R -e \"install.packages(c('MPsychoR','mirt', 'mice', 'psych', 'eRm', 'ltm'), repos='https://cran.uni-muenster.de', quiet=TRUE)\"\n",
    "!pip install rpy2==3.5.17\n",
    "```\n",
    "</details> \n",
    "\n",
    "---\n",
    "\n"
   ]
  },
  {
   "cell_type": "code",
   "execution_count": 1,
   "metadata": {
    "colab": {
     "base_uri": "https://localhost:8080/"
    },
    "executionInfo": {
     "elapsed": 6896,
     "status": "ok",
     "timestamp": 1742037929335,
     "user": {
      "displayName": "Tim Dreßler",
      "userId": "10678244503421566183"
     },
     "user_tz": -60
    },
    "id": "Nl9kj03Fo3xG",
    "outputId": "bfd639f3-eb60-40b2-a702-94b2e774d4ef"
   },
   "outputs": [
    {
     "name": "stderr",
     "output_type": "stream",
     "text": [
      "c:\\Users\\maku1542\\AppData\\Local\\miniconda3\\envs\\psy126\\Lib\\site-packages\\rpy2\\robjects\\packages.py:367: UserWarning: The symbol 'quartz' is not in this R namespace/package.\n",
      "  warnings.warn(\n"
     ]
    },
    {
     "data": {
      "text/plain": [
       "rpy2.robjects.packages.Package as a <module 'mirt'>"
      ]
     },
     "execution_count": 1,
     "metadata": {},
     "output_type": "execute_result"
    }
   ],
   "source": [
    "# General imports\n",
    "import numpy as np\n",
    "import pandas as pd\n",
    "\n",
    "# Rpy2 imports\n",
    "from rpy2 import robjects as ro\n",
    "from rpy2.robjects import pandas2ri, numpy2ri\n",
    "from rpy2.robjects.packages import importr\n",
    "\n",
    "# Automatic conversion of arrays and dataframes\n",
    "pandas2ri.activate()\n",
    "numpy2ri.activate()\n",
    "\n",
    "# Set random seed for reproducibility\n",
    "ro.r('set.seed(123)')\n",
    "\n",
  "# IPython extension for magic plotting\n",
    "%load_ext rpy2.ipython\n",
    "\n",
    "# R imports\n",
    "importr('base')\n",
    "importr('MPsychoR')\n",
    "importr('Gifi')\n",
    "importr('psych')\n",
    "importr('stats')\n",
    "importr('eRm')\n",
    "importr('ltm')\n",
    "importr('mirt')"
   ]
  },
  {
   "cell_type": "markdown",
   "metadata": {
    "id": "XNi7rUZn3YyE"
   },
   "source": [
    "## 1. The dataset\n",
    "\n",
    "To illustrate dimensionality assessment using these approaches, we consider a\n",
    "dataset from Koller and Alexandrowicz (2010). They used the Neuropsychological\n",
    "Test Battery for Number Processing and Calculation in Children (`ZAREKI`-R; von\n",
    "Aster et al., 2006) for the assessment of dyscalculia in children. There are **n** **=**\n",
    "**341** children (2nd to 4th year of elementary school) in their sample, eight items on\n",
    "addition, eight items on subtraction, and two covariates (time needed for completion\n",
    "in minutes as well as grade). In this example we consider *eight binary subtraction\n",
    "items only*."
   ]
  },
  {
   "cell_type": "code",
   "execution_count": 2,
   "metadata": {
    "colab": {
     "base_uri": "https://localhost:8080/",
     "height": 206
    },
    "executionInfo": {
     "elapsed": 85,
     "status": "ok",
     "timestamp": 1742037997645,
     "user": {
      "displayName": "Tim Dreßler",
      "userId": "10678244503421566183"
     },
     "user_tz": -60
    },
    "id": "IzCbtjUM3oU9",
    "outputId": "530738aa-7de8-4cb3-b1b7-241ca8dbbaa8"
   },
   "outputs": [
    {
     "data": {
      "application/vnd.microsoft.datawrangler.viewer.v0+json": {
       "columns": [
        {
         "name": "index",
         "rawType": "object",
         "type": "string"
        },
        {
         "name": "subtr1",
         "rawType": "float64",
         "type": "float"
        },
        {
         "name": "subtr2",
         "rawType": "float64",
         "type": "float"
        },
        {
         "name": "subtr3",
         "rawType": "float64",
         "type": "float"
        },
        {
         "name": "subtr4",
         "rawType": "float64",
         "type": "float"
        },
        {
         "name": "subtr5",
         "rawType": "float64",
         "type": "float"
        },
        {
         "name": "subtr6",
         "rawType": "float64",
         "type": "float"
        },
        {
         "name": "subtr7",
         "rawType": "float64",
         "type": "float"
        },
        {
         "name": "subtr8",
         "rawType": "float64",
         "type": "float"
        }
       ],
       "conversionMethod": "pd.DataFrame",
       "ref": "46c536df-d2cb-4136-9526-1d00f9790daf",
       "rows": [
        [
         "1",
         "1.0",
         "1.0",
         "1.0",
         "1.0",
         "1.0",
         "1.0",
         "0.0",
         "1.0"
        ],
        [
         "2",
         "1.0",
         "1.0",
         "1.0",
         "1.0",
         "1.0",
         "1.0",
         "0.0",
         "1.0"
        ],
        [
         "3",
         "1.0",
         "1.0",
         "0.0",
         "1.0",
         "1.0",
         "0.0",
         "0.0",
         "1.0"
        ],
        [
         "4",
         "1.0",
         "1.0",
         "0.0",
         "1.0",
         "1.0",
         "0.0",
         "1.0",
         "1.0"
        ],
        [
         "5",
         "1.0",
         "1.0",
         "0.0",
         "1.0",
         "1.0",
         "0.0",
         "0.0",
         "1.0"
        ]
       ],
       "shape": {
        "columns": 8,
        "rows": 5
       }
      },
      "text/html": [
       "<div>\n",
       "<style scoped>\n",
       "    .dataframe tbody tr th:only-of-type {\n",
       "        vertical-align: middle;\n",
       "    }\n",
       "\n",
       "    .dataframe tbody tr th {\n",
       "        vertical-align: top;\n",
       "    }\n",
       "\n",
       "    .dataframe thead th {\n",
       "        text-align: right;\n",
       "    }\n",
       "</style>\n",
       "<table border=\"1\" class=\"dataframe\">\n",
       "  <thead>\n",
       "    <tr style=\"text-align: right;\">\n",
       "      <th></th>\n",
       "      <th>subtr1</th>\n",
       "      <th>subtr2</th>\n",
       "      <th>subtr3</th>\n",
       "      <th>subtr4</th>\n",
       "      <th>subtr5</th>\n",
       "      <th>subtr6</th>\n",
       "      <th>subtr7</th>\n",
       "      <th>subtr8</th>\n",
       "    </tr>\n",
       "  </thead>\n",
       "  <tbody>\n",
       "    <tr>\n",
       "      <th>1</th>\n",
       "      <td>1.0</td>\n",
       "      <td>1.0</td>\n",
       "      <td>1.0</td>\n",
       "      <td>1.0</td>\n",
       "      <td>1.0</td>\n",
       "      <td>1.0</td>\n",
       "      <td>0.0</td>\n",
       "      <td>1.0</td>\n",
       "    </tr>\n",
       "    <tr>\n",
       "      <th>2</th>\n",
       "      <td>1.0</td>\n",
       "      <td>1.0</td>\n",
       "      <td>1.0</td>\n",
       "      <td>1.0</td>\n",
       "      <td>1.0</td>\n",
       "      <td>1.0</td>\n",
       "      <td>0.0</td>\n",
       "      <td>1.0</td>\n",
       "    </tr>\n",
       "    <tr>\n",
       "      <th>3</th>\n",
       "      <td>1.0</td>\n",
       "      <td>1.0</td>\n",
       "      <td>0.0</td>\n",
       "      <td>1.0</td>\n",
       "      <td>1.0</td>\n",
       "      <td>0.0</td>\n",
       "      <td>0.0</td>\n",
       "      <td>1.0</td>\n",
       "    </tr>\n",
       "    <tr>\n",
       "      <th>4</th>\n",
       "      <td>1.0</td>\n",
       "      <td>1.0</td>\n",
       "      <td>0.0</td>\n",
       "      <td>1.0</td>\n",
       "      <td>1.0</td>\n",
       "      <td>0.0</td>\n",
       "      <td>1.0</td>\n",
       "      <td>1.0</td>\n",
       "    </tr>\n",
       "    <tr>\n",
       "      <th>5</th>\n",
       "      <td>1.0</td>\n",
       "      <td>1.0</td>\n",
       "      <td>0.0</td>\n",
       "      <td>1.0</td>\n",
       "      <td>1.0</td>\n",
       "      <td>0.0</td>\n",
       "      <td>0.0</td>\n",
       "      <td>1.0</td>\n",
       "    </tr>\n",
       "  </tbody>\n",
       "</table>\n",
       "</div>"
      ],
      "text/plain": [
       "   subtr1  subtr2  subtr3  subtr4  subtr5  subtr6  subtr7  subtr8\n",
       "1     1.0     1.0     1.0     1.0     1.0     1.0     0.0     1.0\n",
       "2     1.0     1.0     1.0     1.0     1.0     1.0     0.0     1.0\n",
       "3     1.0     1.0     0.0     1.0     1.0     0.0     0.0     1.0\n",
       "4     1.0     1.0     0.0     1.0     1.0     0.0     1.0     1.0\n",
       "5     1.0     1.0     0.0     1.0     1.0     0.0     0.0     1.0"
      ]
     },
     "execution_count": 2,
     "metadata": {},
     "output_type": "execute_result"
    }
   ],
   "source": [
    "# Load the data in R\n",
    "ro.r(\"data(zareki)\")\n",
    "\n",
    "# Get as DataFrame\n",
    "zareki = pandas2ri.rpy2py(ro.globalenv['zareki'])\n",
    "\n",
    "# Subset the df to only include items starting with \"subtr\"\n",
    "sub_items = []\n",
    "for col in zareki.columns:\n",
    "    if col.startswith(\"subtr\"):\n",
    "        sub_items.append(col)\n",
    "\n",
    "zarsub = zareki.loc[:, sub_items]\n",
    "zarsub.head()"
   ]
  },
  {
   "cell_type": "markdown",
   "metadata": {
    "id": "YpmoVFU75SCm"
   },
   "source": [
    "### **Princals()**\n",
    "\n",
    "We are interested in whether the subtraction items measure a single latent trait\n",
    "or if multiple traits are needed. We start our dimensionality assessment with fitting\n",
    "a two-dimensional Princals solution using the **Gifi** package (Mair and De Leeuw,\n",
    "2017) in order to get a picture of item associations in a 2D space."
   ]
  },
  {
   "cell_type": "code",
   "execution_count": 3,
   "metadata": {
    "colab": {
     "base_uri": "https://localhost:8080/"
    },
    "executionInfo": {
     "elapsed": 1531,
     "status": "ok",
     "timestamp": 1742038086798,
     "user": {
      "displayName": "Tim Dreßler",
      "userId": "10678244503421566183"
     },
     "user_tz": -60
    },
    "id": "-4Ak8Fg051Hk",
    "outputId": "9c3040b1-4589-41a7-8c26-cdf261ba2be2"
   },
   "outputs": [
    {
     "name": "stdout",
     "output_type": "stream",
     "text": [
      "\n",
      "Loadings (cutoff = 0.1):\n",
      "       Comp1  Comp2 \n",
      "subtr2  0.623       \n",
      "subtr3  0.565  0.119\n",
      "subtr6  0.609 -0.153\n",
      "subtr7  0.657       \n",
      "subtr8  0.584 -0.194\n",
      "subtr5  0.308 -0.787\n",
      "subtr1  0.340  0.464\n",
      "subtr4  0.500  0.398\n",
      "\n",
      "Importance (Variance Accounted For):\n",
      "                 Comp1   Comp2\n",
      "Eigenvalues     2.3111  1.0723\n",
      "VAF            28.8882 13.4040\n",
      "Cumulative VAF 28.8900 42.2900\n",
      "\n",
      "None\n"
     ]
    }
   ],
   "source": [
    "# Put data back into R\n",
    "ro.globalenv['zarsub'] = zarsub\n",
    "\n",
    "# Princals\n",
    "ro.r(\"prinzar <- princals(zarsub)\")\n",
    "print(ro.r(\"summary(prinzar)\"))"
   ]
  },
  {
   "cell_type": "code",
   "execution_count": 4,
   "metadata": {
    "colab": {
     "base_uri": "https://localhost:8080/",
     "height": 497
    },
    "executionInfo": {
     "elapsed": 262,
     "status": "ok",
     "timestamp": 1742038081555,
     "user": {
      "displayName": "Tim Dreßler",
      "userId": "10678244503421566183"
     },
     "user_tz": -60
    },
    "id": "eS_sfrRpj5fj",
    "outputId": "411b8975-8325-4c46-e4bc-7ea8e0e07919"
   },
   "outputs": [
    {
     "name": "stdout",
     "output_type": "stream",
     "text": [
      "\n",
      "Loadings (cutoff = 0.1):\n",
      "       Comp1  Comp2 \n",
      "subtr2  0.623       \n",
      "subtr3  0.565  0.119\n",
      "subtr6  0.609 -0.153\n",
      "subtr7  0.657       \n",
      "subtr8  0.584 -0.194\n",
      "subtr5  0.308 -0.787\n",
      "subtr1  0.340  0.464\n",
      "subtr4  0.500  0.398\n",
      "\n",
      "Importance (Variance Accounted For):\n",
      "                 Comp1   Comp2\n",
      "Eigenvalues     2.3111  1.0723\n",
      "VAF            28.8882 13.4040\n",
      "Cumulative VAF 28.8900 42.2900\n",
      "\n"
     ]
    },
    {
     "data": {
      "image/png": "[encoded data removed]",
      "text/plain": [
       "<IPython.core.display.Image object>"
      ]
     },
     "metadata": {},
     "output_type": "display_data"
    }
   ],
   "source": [
    "%%R\n",
    "summary(prinzar)\n",
    "plot(prinzar)"
   ]
  },
  {
   "cell_type": "markdown",
   "metadata": {
    "id": "27izE5uX57gU"
   },
   "source": [
    "If the items were unidimensional,\n",
    "the arrows should approximately point in the same direction or equally spreaded across the plotted space, showing no clustering. We see that\n",
    "item `subtr5` is somewhat separated from the rest, whereas the remaining ones look\n",
    "fairly homogeneous. This plot suggested that unidimensionality might be violated\n",
    "due to `subtr5`. Therefore, we exclude `subtr5` and re-run the analysis:"
   ]
  },
  {
   "cell_type": "code",
   "execution_count": 5,
   "metadata": {
    "colab": {
     "base_uri": "https://localhost:8080/"
    },
    "executionInfo": {
     "elapsed": 718,
     "status": "ok",
     "timestamp": 1742038156586,
     "user": {
      "displayName": "Tim Dreßler",
      "userId": "10678244503421566183"
     },
     "user_tz": -60
    },
    "id": "nXzt_OOg6GBZ",
    "outputId": "79b109c6-41d8-4f35-bf30-b6b422c3f1fa"
   },
   "outputs": [
    {
     "name": "stdout",
     "output_type": "stream",
     "text": [
      "\n",
      "Loadings (cutoff = 0.1):\n",
      "       Comp1  Comp2 \n",
      "subtr2  0.622  0.132\n",
      "subtr3  0.581 -0.449\n",
      "subtr4  0.522       \n",
      "subtr6  0.600 -0.172\n",
      "subtr7  0.666 -0.199\n",
      "subtr8  0.570  0.148\n",
      "subtr1  0.360  0.818\n",
      "\n",
      "Importance (Variance Accounted For):\n",
      "                 Comp1   Comp2\n",
      "Eigenvalues     2.2559  0.9838\n",
      "VAF            32.2271 14.0541\n",
      "Cumulative VAF 32.2300 46.2800\n",
      "\n",
      "None\n"
     ]
    }
   ],
   "source": [
    "# Remove subtr5 from the dataframe\n",
    "zarsub2 = zarsub.drop(\"subtr5\", axis=1)\n",
    "\n",
    "# Put data back into R\n",
    "ro.globalenv['zarsub2'] = zarsub2\n",
    "\n",
    "# Princals\n",
    "ro.r(\"prinzar <- princals(zarsub2)\")\n",
    "print(ro.r(\"summary(prinzar)\"))"
   ]
  },
  {
   "cell_type": "code",
   "execution_count": 6,
   "metadata": {
    "colab": {
     "base_uri": "https://localhost:8080/",
     "height": 497
    },
    "executionInfo": {
     "elapsed": 28,
     "status": "ok",
     "timestamp": 1742038162781,
     "user": {
      "displayName": "Tim Dreßler",
      "userId": "10678244503421566183"
     },
     "user_tz": -60
    },
    "id": "Z254KocAkFOc",
    "outputId": "3a62df91-6a6c-4452-ea13-e637cf912edf"
   },
   "outputs": [
    {
     "data": {
      "image/png": "[encoded data removed]",
      "text/plain": [
       "<IPython.core.display.Image object>"
      ]
     },
     "metadata": {},
     "output_type": "display_data"
    }
   ],
   "source": [
    "%%R\n",
    "plot(prinzar)"
   ]
  },
  {
   "cell_type": "markdown",
   "metadata": {
    "id": "XOW8ONIO7Rep"
   },
   "source": [
    "Looking at the plot do you notice any additional item standing out from the group?"
   ]
  },
  {
   "cell_type": "code",
   "execution_count": 7,
   "metadata": {
    "colab": {
     "base_uri": "https://localhost:8080/"
    },
    "executionInfo": {
     "elapsed": 1668,
     "status": "ok",
     "timestamp": 1742038190196,
     "user": {
      "displayName": "Tim Dreßler",
      "userId": "10678244503421566183"
     },
     "user_tz": -60
    },
    "id": "W5ra_6mW7S_S",
    "outputId": "8b3afdff-24f4-4ec0-9457-21c117380a84"
   },
   "outputs": [
    {
     "name": "stdout",
     "output_type": "stream",
     "text": [
      "\n",
      "Loadings (cutoff = 0.1):\n",
      "       Comp1  Comp2 \n",
      "subtr2  0.619 -0.363\n",
      "subtr3  0.608  0.375\n",
      "subtr4  0.520  0.506\n",
      "subtr6  0.612       \n",
      "subtr7  0.676       \n",
      "subtr8  0.570 -0.569\n",
      "\n",
      "Importance (Variance Accounted For):\n",
      "                 Comp1   Comp2\n",
      "Eigenvalues     2.1797  0.8603\n",
      "VAF            36.3284 14.3375\n",
      "Cumulative VAF 36.3300 50.6700\n",
      "\n",
      "None\n"
     ]
    }
   ],
   "source": [
    "# subtr1 is separated from the rest, it should be removed\n",
    "# Remove subtr1 from the dataframe\n",
    "zarsub3 = zarsub2.drop(\"subtr1\", axis=1)\n",
    "\n",
    "# Put data back into R\n",
    "ro.globalenv['zarsub3'] = zarsub3\n",
    "\n",
    "# Princals\n",
    "ro.r(\"prinzar <- princals(zarsub3)\")\n",
    "print(ro.r(\"summary(prinzar)\"))"
   ]
  },
  {
   "cell_type": "code",
   "execution_count": 8,
   "metadata": {
    "colab": {
     "base_uri": "https://localhost:8080/",
     "height": 497
    },
    "executionInfo": {
     "elapsed": 64,
     "status": "ok",
     "timestamp": 1742038198223,
     "user": {
      "displayName": "Tim Dreßler",
      "userId": "10678244503421566183"
     },
     "user_tz": -60
    },
    "id": "LJmtghbvkVQg",
    "outputId": "471f01a2-9797-4d45-bf24-448ccb11ea41"
   },
   "outputs": [
    {
     "data": {
      "image/png": "[encoded data removed]",
      "text/plain": [
       "<IPython.core.display.Image object>"
      ]
     },
     "metadata": {},
     "output_type": "display_data"
    }
   ],
   "source": [
    "%%R\n",
    "plot(prinzar)"
   ]
  },
  {
   "cell_type": "markdown",
   "metadata": {
    "id": "FIY49aiH7tmb"
   },
   "source": [
    "Now items are well distributed, supporting evidence for unidimensionality. We can say that accordingly to our\n",
    "categorical principal component analysis, we can assume unidimensionality.\n",
    "\n",
    "### **EFA tetrachoric**\n",
    "\n",
    "As a second tool, we use an EFA on the tetrachoric correlation matrix.\n",
    "We utilize several criteria to assess dimensionality including:\n",
    "- *Parallel Analysis*\n",
    "- *Velicer's Minimum Average Partial (MAP)*\n",
    "- *Very Simple Structure (VSS)*\n",
    "- *Bayesian Information Criterion (BIC)*\n",
    "\n",
    "These criteria help us identify the optimal number of latent dimensions that\n",
    "best explain the relationships among our variables.\n",
    "\n",
    "To conduct the `EFA` on the tetrachoric correlation matrix, we set the maximum\n",
    "number of factors to two.\n",
    "\n",
    "First, lets fit the model to all subtraction items."
   ]
  },
  {
   "cell_type": "code",
   "execution_count": 21,
   "metadata": {},
   "outputs": [
    {
     "name": "stdout",
     "output_type": "stream",
     "text": [
      "\n",
      "\n",
      "Parallel analysis suggests that the number of factors =  NA  and the number of components =  2 \n",
      "\n",
      "\n",
      "Number of factors\n",
      "Call: vss(x = x, n = n, rotate = rotate, diagonal = diagonal, fm = fm, \n",
      "    n.obs = n.obs, plot = FALSE, title = title, use = use, cor = cor)\n",
      "VSS complexity 1 achieves a maximimum of 0.77  with  2  factors\n",
      "VSS complexity 2 achieves a maximimum of 0.83  with  2  factors\n",
      "The Velicer MAP achieves a minimum of 0.03  with  1  factors \n",
      "Empirical BIC achieves a minimum of  -33.98  with  2  factors\n",
      "Sample Size adjusted BIC achieves a minimum of  22.19  with  2  factors\n",
      "\n",
      "Statistics by number of factors \n",
      "  vss1 vss2   map dof chisq    prob sqresid  fit RMSEA   BIC SABIC complex\n",
      "1 0.75 0.00 0.034  20   119 3.8e-16     3.8 0.75 0.121   2.7    66     1.0\n",
      "2 0.77 0.83 0.061  13    57 2.0e-07     2.6 0.83 0.099 -19.1    22     1.2\n",
      "  eChisq  SRMR eCRMS  eBIC\n",
      "1    112 0.077 0.091  -4.3\n",
      "2     42 0.047 0.069 -34.0\n",
      "\n"
     ]
    }
   ],
   "source": [
    "# Perform EFA\n",
    "ro.r(\"fa.parallel(zarsub, fa = 'pc', cor = 'tet', fm = 'ml', n.iter = 1)\")\n",
    "efazar = ro.r(\"nfactors(zarsub, n=2, fm='ml', cor='tet')\")\n",
    "print(efazar)"
   ]
  },
  {
   "cell_type": "markdown",
   "metadata": {},
   "source": [
    "#### Interpretation\n",
    "- **Parallel Analysis** <br>\n",
    "    `Parallel analysis` compares the eigenvalues from your actual data with those obtained from randomly generated data of the same size. If your data’s eigenvalue is greater than the corresponding random one, that component is likely meaningful. The results from `fa.parallel()` reports that 2 components are found.\n",
    "- **Velicer's Minimum Average Partial (MAP)** <br>\n",
    "    `MAP` assesses the average partial correlation after extracting successive components. The number of components is optimal when the average partial correlation reaches its minimum.\n",
    "- **Very Simple Structure (VSS)** <br>\n",
    "    `VSS` checks how well a simplified factor structure (with only the largest loadings) reproduces the original correlation matrix. Higher values indicate a better fit.\n",
    "- **Bayesian Information Criterion (BIC)** <br>\n",
    "    `BIC` balances model fit and complexity. Lower BIC values indicate better models, penalizing overfitting.\n"
   ]
  },
  {
   "cell_type": "markdown",
   "metadata": {},
   "source": [
    "\n",
    "Now we instead use the following code chunk to try the same steps on the dataset without\n",
    "those items that violated unidimensionality. What do you notice? Are there any differences?"
   ]
  },
  {
   "cell_type": "code",
   "execution_count": 22,
   "metadata": {},
   "outputs": [
    {
     "name": "stdout",
     "output_type": "stream",
     "text": [
      "\n"
     ]
    },
    {
     "name": "stdout",
     "output_type": "stream",
     "text": [
      "\n",
      "Parallel analysis suggests that the number of factors =  NA  and the number of components =  1 \n",
      "\n",
      "\n",
      "Number of factors\n",
      "Call: vss(x = x, n = n, rotate = rotate, diagonal = diagonal, fm = fm, \n",
      "    n.obs = n.obs, plot = FALSE, title = title, use = use, cor = cor)\n",
      "VSS complexity 1 achieves a maximimum of 0.82  with  1  factors\n",
      "VSS complexity 2 achieves a maximimum of 0.86  with  2  factors\n",
      "The Velicer MAP achieves a minimum of 0.04  with  1  factors \n",
      "Empirical BIC achieves a minimum of  -42.93  with  1  factors\n",
      "Sample Size adjusted BIC achieves a minimum of  -8.72  with  1  factors\n",
      "\n",
      "Statistics by number of factors \n",
      "  vss1 vss2   map dof chisq  prob sqresid  fit RMSEA BIC SABIC complex eChisq\n",
      "1 0.82 0.00 0.044   9  15.2 0.085     2.1 0.82 0.045 -37  -8.7     1.0    9.6\n",
      "2 0.69 0.86 0.116   4   5.3 0.260     1.6 0.86 0.031 -18  -5.4     1.2    3.3\n",
      "   SRMR eCRMS eBIC\n",
      "1 0.031 0.039  -43\n",
      "2 0.018 0.035  -20\n",
      "\n"
     ]
    }
   ],
   "source": [
    "# Perform EFA\n",
    "ro.r(\"fa.parallel(zarsub3, fa = 'pc', cor = 'tet', fm = 'ml', n.iter = 1)\")\n",
    "efazar = ro.r(\"nfactors(zarsub3, n=2, fm='ml', cor='tet')\")\n",
    "print(efazar)"
   ]
  },
  {
   "cell_type": "code",
   "execution_count": 24,
   "metadata": {
    "colab": {
     "base_uri": "https://localhost:8080/"
    },
    "id": "IFiIEN_972ef",
    "outputId": "2b1ea7f4-e921-4395-de5d-3426532d1897"
   },
   "outputs": [
    {
     "name": "stdout",
     "output_type": "stream",
     "text": [
      "\n",
      "\n",
      "Parallel analysis suggests that the number of factors =  NA  and the number of components =  2 \n"
     ]
    },
    {
     "data": {
      "image/png": "[encoded data removed]",
      "text/plain": [
       "<IPython.core.display.Image object>"
      ]
     },
     "metadata": {},
     "output_type": "display_data"
    }
   ],
   "source": [
    "from rpy2.robjects.lib import grdevices\n",
    "from IPython.display import Image, display\n",
    "\n",
    "with grdevices.render_to_bytesio(grdevices.png, height=600, width=800) as img:\n",
    "   ro.r(\"fa.parallel(zarsub, fa = 'pc', cor = 'tet', fm = 'ml', n.iter = 1)\")\n",
    "display(Image(img.getvalue()))"
   ]
  },
  {
   "cell_type": "code",
   "execution_count": 25,
   "metadata": {},
   "outputs": [
    {
     "name": "stdout",
     "output_type": "stream",
     "text": [
      "\n",
      "\n",
      "Parallel analysis suggests that the number of factors =  NA  and the number of components =  1 \n"
     ]
    },
    {
     "data": {
      "image/png": "[encoded data removed]",
      "text/plain": [
       "<IPython.core.display.Image object>"
      ]
     },
     "metadata": {},
     "output_type": "display_data"
    },
    {
     "name": "stdout",
     "output_type": "stream",
     "text": [
      "\n",
      "\n",
      "Parallel analysis suggests that the number of factors =  NA  and the number of components =  1 \n"
     ]
    }
   ],
   "source": [
    "with grdevices.render_to_bytesio(grdevices.png, height=600, width=800) as img:\n",
    "   ro.r(\"fa.parallel(zarsub3, fa = 'pc', cor = 'tet', fm = 'ml', n.iter = 1)\")\n",
    "display(Image(img.getvalue()))\n",
    "\n",
    "ro.r(\"fa.parallel(zarsub3, fa = 'pc', cor = 'tet', fm = 'ml', n.iter = 1)\")"
   ]
  },
  {
   "cell_type": "markdown",
   "metadata": {
    "id": "g8Csj-Q5-V-5"
   },
   "source": [
    "The Parallel Analysis suggests 1 factor, the VSS suggests two factors, the MAP one factor, and\n",
    "the BIC two factors. As an additional diagnostic tool, a parallel analysis using the\n",
    "fa.parallel function can be performed as well. Note that if the input items are\n",
    "polytomous, setting cor=\"poly\" does the job.\n",
    "\n",
    "### **IFA**\n",
    "\n",
    "As a third tool, let us use `IFA` as implemented in the `mirt` package (Chalmers,\n",
    "2012). We fit a *one-factor* model and a *two-factor* model, and we compare these\n",
    "nested fits via the `AIC`/`BIC` criteria."
   ]
  },
  {
   "cell_type": "code",
   "execution_count": null,
   "metadata": {
    "colab": {
     "base_uri": "https://localhost:8080/"
    },
    "executionInfo": {
     "elapsed": 4209,
     "status": "ok",
     "timestamp": 1742038365608,
     "user": {
      "displayName": "Tim Dreßler",
      "userId": "10678244503421566183"
     },
     "user_tz": -60
    },
    "id": "8Te_BJDE-e84",
    "outputId": "a9ef4e64-b587-422e-fef4-4e965a8f8776"
   },
   "outputs": [
    {
     "name": "stdout",
     "output_type": "stream",
     "text": [
      "\n",
      "Call:\n",
      "mirt(data = zarsub, model = 1, TOL = 0.001, verbose = FALSE)\n",
      "\n",
      "Full-information item factor analysis with 1 factor(s).\n",
      "Converged within 0.001 tolerance after 15 EM iterations.\n",
      "mirt version: 1.44.0 \n",
      "M-step optimizer: BFGS \n",
      "EM acceleration: Ramsay \n",
      "Number of rectangular quadrature: 61\n",
      "Latent density type: Gaussian \n",
      "\n",
      "Log-likelihood = -1263.202\n",
      "Estimated parameters: 16 \n",
      "AIC = 2558.405\n",
      "BIC = 2619.715; SABIC = 2568.959\n",
      "G2 (239) = 153.35, p = 1\n",
      "RMSEA = 0, CFI = NaN, TLI = NaN\n",
      "\n",
      "\n",
      "Call:\n",
      "mirt(data = zarsub, model = 2, TOL = 0.001, verbose = FALSE)\n",
      "\n",
      "Full-information item factor analysis with 2 factor(s).\n",
      "Converged within 0.001 tolerance after 72 EM iterations.\n",
      "mirt version: 1.44.0 \n",
      "M-step optimizer: BFGS \n",
      "EM acceleration: Ramsay \n",
      "Number of rectangular quadrature: 31\n",
      "Latent density type: Gaussian \n",
      "\n",
      "Log-likelihood = -1257.625\n",
      "Estimated parameters: 23 \n",
      "AIC = 2561.249\n",
      "BIC = 2649.383; SABIC = 2576.422\n",
      "G2 (232) = 142.19, p = 1\n",
      "RMSEA = 0, CFI = NaN, TLI = NaN\n",
      "\n"
     ]
    }
   ],
   "source": [
    "# Run IFA\n",
    "fitifa1 = ro.r(\"mirt(zarsub, 1, verbose = FALSE, TOL = 0.001)\")\n",
    "print(fitifa1)\n",
    "\n",
    "fitifa2 = ro.r(\"mirt(zarsub, 2, verbose = FALSE, TOL = 0.001)\")\n",
    "print(fitifa2)"
   ]
  },
  {
   "cell_type": "markdown",
   "metadata": {
    "id": "zpIb4q6v-3vw"
   },
   "source": [
    "AIC and BIC are (slightly) lower for the 1D solution, indicating a better fit for the 1D fit.\n",
    "\n",
    "### Assessing dimensionality - Sum'ed up\n",
    "\n",
    "Using all these tools in combination, we conclude that there is no drastic\n",
    "unidimensionality violation in these data. Still, we obtained some hints that it might\n",
    "be slightly violated. Princals gave a good indication that the items 5 and 1 may not behave\n",
    "in the same way as the remaining items. The most straight forward approach is to exclude the items that violates unidimensionality.\n",
    "Alternatively, in the case where numerous items are found to violate unidimensionality, there are also options for fitting a two-dimensional IRT model on the entire set of item, but we will not cover these approaches here."
   ]
  },
  {
   "cell_type": "markdown",
   "metadata": {
    "id": "4WpgYCK6BCNB"
   },
   "source": [
    "### General remarks regarding fit assessment in IRT\n",
    "\n",
    "IRT models can be used for several purposes. On the\n",
    "one extreme, we can use IRT for scale construction. That is, we want to find a set of\n",
    "“high-quality” items that measure an underlying construct as good as possible. On\n",
    "the other extreme, we use a (well-established) scale, and our main interest is to score\n",
    "the persons, and not so much to eliminate (slightly) misfitting items. Depending on\n",
    "the purpose of the IRT analysis, different criteria may be used for fit assessment and\n",
    "interpreted with various degrees of strictness: in a scale construction scenario, we\n",
    "want to be strict, whereas in a person scoring scenario, we can be more laid back\n",
    "in terms of misfit. The point is that users should not rely blindly on p-values spit\n",
    "out by various model tests but rather assess the fit in relation to the purpose the\n",
    "model is being used for (see Maydeu-Olivares, 2015). In any case, a good a priori\n",
    "dimensionality assessment is crucial."
   ]
  }
 ],
 "metadata": {
  "colab": {
   "provenance": [
    {
     "file_id": "1shSM8oE3V3nElvkpfKPtfJNamsVKnTSR",
     "timestamp": 1741293629262
    },
    {
     "file_id": "1oY59GO8mlzEJZlf-csY2pKRUXDCCIMFo",
     "timestamp": 1741164113567
    },
    {
     "file_id": "1_Hdy9GX2W03RQoKnijnEid9-KJzzTmJi",
     "timestamp": 1740862927421
    }
   ]
  },
  "kernelspec": {
   "display_name": "psy126",
   "language": "python",
   "name": "python3"
  },
  "language_info": {
   "codemirror_mode": {
    "name": "ipython",
    "version": 3
   },
   "file_extension": ".py",
   "mimetype": "text/x-python",
   "name": "python",
   "nbconvert_exporter": "python",
   "pygments_lexer": "ipython3",
   "version": "3.13.2"
  }
 },
 "nbformat": 4,
 "nbformat_minor": 0
}
