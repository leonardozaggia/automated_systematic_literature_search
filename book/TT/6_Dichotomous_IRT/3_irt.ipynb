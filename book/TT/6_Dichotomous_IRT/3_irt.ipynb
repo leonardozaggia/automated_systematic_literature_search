{
 "cells": [
  {
   "cell_type": "markdown",
   "metadata": {
    "id": "0dtwBaFyRwzF"
   },
   "source": [
    "# 4.3 Item Response Theory (IRT)\n",
    "\n"
   ]
  },
  {
   "cell_type": "code",
   "execution_count": 1,
   "metadata": {
    "colab": {
     "base_uri": "https://localhost:8080/"
    },
    "executionInfo": {
     "elapsed": 6896,
     "status": "ok",
     "timestamp": 1742037929335,
     "user": {
      "displayName": "Tim Dreßler",
      "userId": "10678244503421566183"
     },
     "user_tz": -60
    },
    "id": "Nl9kj03Fo3xG",
    "outputId": "bfd639f3-eb60-40b2-a702-94b2e774d4ef"
   },
   "outputs": [
    {
     "name": "stderr",
     "output_type": "stream",
     "text": [
      "c:\\Users\\maku1542\\AppData\\Local\\miniconda3\\envs\\psy126\\Lib\\site-packages\\rpy2\\robjects\\packages.py:367: UserWarning: The symbol 'quartz' is not in this R namespace/package.\n",
      "  warnings.warn(\n"
     ]
    }
   ],
   "source": [
    "# Imports\n",
    "import numpy as np\n",
    "import pandas as pd\n",
    "from rpy2 import robjects as ro\n",
    "from rpy2.robjects import pandas2ri, numpy2ri\n",
    "from rpy2.robjects.packages import importr\n",
    "\n",
    "# Miscellaneous\n",
    "pandas2ri.activate()\n",
    "numpy2ri.activate()\n",
    "ro.r('set.seed(123)')\n",
    "%load_ext rpy2.ipython\n",
    "\n",
    "# R imports\n",
    "importr('base')\n",
    "importr('mirt')\n",
    "importr('MPsychoR')\n",
    "importr('Gifi')\n",
    "importr('psych')\n",
    "importr('stats')\n",
    "importr('eRm')\n",
    "importr('ltm')\n",
    "\n",
    "# Load the data\n",
    "ro.r(\"data(zareki)\")\n",
    "zareki = pandas2ri.rpy2py(ro.globalenv['zareki'])\n",
    "zarsub = zareki.loc[:, zareki.columns.str.startswith(\"subtr\")]\n",
    "zarsub2 = zarsub.drop(\"subtr5\", axis=1)\n",
    "zarsub3 = zarsub.drop(\"subtr1\", axis=1)\n",
    "\n",
    "# Convert to R data frames\n",
    "ro.globalenv['zarsub'] = zarsub\n",
    "ro.globalenv['zarsub2'] = zarsub2\n",
    "ro.globalenv['zarsub3'] = zarsub3"
   ]
  },
  {
   "cell_type": "markdown",
   "metadata": {
    "id": "4QniHnk1BDuO"
   },
   "source": [
    "## 2. The Rasch model\n",
    "\n",
    "The Rasch model can be used if we aim to construct a scale\n",
    "that fulfills highest measurement standards. Using the Rasch Model, we model the probability that person *X* scores 1 on item *i*. Each item gets its individual item location parameter $β_i$. Within the context of ability tests, $β_i$ is often referred to as item easiness parameter.\n",
    "Correspondingly, −$β_i$ is the item difficulty parameter. Each person gets a person\n",
    "parameter $θ_v$, often called person ability parameter, which is obtained in a second\n",
    "estimation step. Both the β’s and the θ’s are on an interval scale and can be mapped\n",
    "on the same latent trait (i.e., they are directly comparable). \n",
    "\n",
    "The Rasch model has three fundamental assumptions:\n",
    "\n",
    "* unidimensionality of the latent trait,\n",
    "* parallel item characteristic curves (ICCs),\n",
    "* local independence.\n",
    "\n",
    "Unidimensionality was covered in detail in the section above. ICCs in conjunction\n",
    "with parallel shifts will be explained further below, after fitting the Rasch model.\n",
    "Local independence means that given a person parameter, item responses become\n",
    "independent. This assumption is difficult to check and often omitted in practice.\n",
    "\n",
    "Let us fit a Rasch model on the ZAREKI-R subtraction items from above. If\n",
    "these data fit the Rasch model, all three assumptions can be considered as fulfilled.\n",
    "In R, Rasch models can be computed using the `eRm` package (Mair and Hatzinger,\n",
    "2007b) which uses a conditional maximum likelihood (CML) approach. \n",
    "\n",
    "The function for fitting the rashmodel is `RM()` and as argument it only requires\n",
    "the data with which we want to fit the model. Have a look at the output: "
   ]
  },
  {
   "cell_type": "code",
   "execution_count": 3,
   "metadata": {
    "colab": {
     "base_uri": "https://localhost:8080/"
    },
    "executionInfo": {
     "elapsed": 120,
     "status": "ok",
     "timestamp": 1742038436255,
     "user": {
      "displayName": "Tim Dreßler",
      "userId": "10678244503421566183"
     },
     "user_tz": -60
    },
    "id": "s5jlZ7ZoBL15",
    "outputId": "c76bad03-b7db-4a69-e002-d2ed1c17bc62"
   },
   "outputs": [
    {
     "name": "stdout",
     "output_type": "stream",
     "text": [
      "\n",
      "Results of RM estimation: \n",
      "\n",
      "Call:  RM(X = zarsub) \n",
      "\n",
      "Conditional log-likelihood: -646.9202 \n",
      "Number of iterations: 12 \n",
      "Number of parameters: 7 \n",
      "\n",
      "Item (Category) Difficulty Parameters (eta):\n",
      "             subtr2    subtr3     subtr4    subtr5    subtr6    subtr7\n",
      "Estimate -0.7552998 1.6808330 -0.4774069 -0.280543 0.4163264 1.5508677\n",
      "Std.Err   0.1619354 0.1310474  0.1515977  0.145557 0.1316531 0.1296646\n",
      "             subtr8\n",
      "Estimate -0.1884142\n",
      "Std.Err   0.1430739\n",
      "\n",
      "\n",
      "\n"
     ]
    }
   ],
   "source": [
    "fitrasch1 = ro.r(\"RM(zarsub)\")\n",
    "print(fitrasch1)"
   ]
  },
  {
   "cell_type": "markdown",
   "metadata": {
    "id": "IkD5TWNEBXV3"
   },
   "source": [
    "This model call fits the item parameters only. In the print output, the item\n",
    "parameters are called *η*. There seems to be one parameter missing: the one for `subtr1`. This is due to the fact that there is a restriction involved in the estimation, in\n",
    "order to make the model identifiable. The full vector of *β* parameters for all items\n",
    "can be obtained via a multiplication with a design matrix *W* which is constructed\n",
    "internally (i.e., *β = Wη*). In order to extract the entire set of easiness parameters, we can say:"
   ]
  },
  {
   "cell_type": "code",
   "execution_count": 4,
   "metadata": {
    "colab": {
     "base_uri": "https://localhost:8080/"
    },
    "executionInfo": {
     "elapsed": 44,
     "status": "ok",
     "timestamp": 1742038485892,
     "user": {
      "displayName": "Tim Dreßler",
      "userId": "10678244503421566183"
     },
     "user_tz": -60
    },
    "id": "nzttBJ9gB9nO",
    "outputId": "84727ddd-6334-44b5-f7f1-7d7d0accafbc"
   },
   "outputs": [
    {
     "name": "stdout",
     "output_type": "stream",
     "text": [
      "[-1.946 -0.755 -0.477 -0.281 -0.188  0.416  1.551  1.681]\n"
     ]
    }
   ],
   "source": [
    "# Get beta parameters\n",
    "betapar = ro.r[\"coef\"](fitrasch1)\n",
    "rounded_sorted = np.sort(np.round(-betapar, 3))\n",
    "\n",
    "print(rounded_sorted)"
   ]
  },
  {
   "cell_type": "markdown",
   "metadata": {
    "id": "h-tVssEYCbAX"
   },
   "source": [
    "Here we can now see the difficulty parameters, sorted from the easiest to the most difficult item.\n",
    "\n",
    "### Assessing general model fit\n",
    "\n",
    "Still, we need to verify whether the model fits, otherwise the interpretation of\n",
    "these parameters is meaningless. A good strategy is to apply the LR-test proposed by\n",
    "Andersen (1973), which is based on the following idea. Rasch measurement implies\n",
    "that the item parameters have to be invariant across person subgroups (measurement\n",
    "invariance). Therefore, for the Rasch model to fit, the item parameters based on\n",
    "separate subgroup fits have to be approximately the same. This needs to hold for\n",
    "any subgroup split. For instance, we can split the sample according to a median\n",
    "or mean split based on the number of items solved or, even better, perform the split\n",
    "according to one or multiple binary covariates. Here we use time as external splitting\n",
    "variable (fast vs. slow according to a median split):"
   ]
  },
  {
   "cell_type": "code",
   "execution_count": 5,
   "metadata": {
    "colab": {
     "base_uri": "https://localhost:8080/"
    },
    "executionInfo": {
     "elapsed": 5,
     "status": "ok",
     "timestamp": 1742038487009,
     "user": {
      "displayName": "Tim Dreßler",
      "userId": "10678244503421566183"
     },
     "user_tz": -60
    },
    "id": "Ijv5kVQpCb2X",
    "outputId": "7bd362a1-adb5-4409-ad21-fbfbdf7cef7c"
   },
   "outputs": [
    {
     "name": "stdout",
     "output_type": "stream",
     "text": [
      "['fast', 'fast', 'fast', 'fast', 'fast', ..., 'slow', 'slow', 'slow', 'slow', 'slow']\n",
      "Length: 341\n",
      "Categories (2, object): ['fast', 'slow']\n"
     ]
    }
   ],
   "source": [
    "# Get Median\n",
    "median_time = zareki[\"time\"].median()\n",
    "\n",
    "# Create list to store category labels\n",
    "time_labels = []\n",
    "for t in zareki[\"time\"]:\n",
    "    if t > median_time:\n",
    "        time_labels.append(\"fast\")\n",
    "    else:\n",
    "        time_labels.append(\"slow\")\n",
    "\n",
    "# Create categorical variable\n",
    "timecat = pd.Categorical(time_labels, categories=[\"fast\", \"slow\"])\n",
    "\n",
    "print(timecat)"
   ]
  },
  {
   "cell_type": "code",
   "execution_count": 6,
   "metadata": {
    "colab": {
     "base_uri": "https://localhost:8080/"
    },
    "executionInfo": {
     "elapsed": 236,
     "status": "ok",
     "timestamp": 1742038557579,
     "user": {
      "displayName": "Tim Dreßler",
      "userId": "10678244503421566183"
     },
     "user_tz": -60
    },
    "id": "c3iSBJ88EzHj",
    "outputId": "08de6375-0f48-438f-e131-f592af5ff3fa"
   },
   "outputs": [
    {
     "name": "stdout",
     "output_type": "stream",
     "text": [
      "\n",
      "Andersen LR-test: \n",
      "LR-value: 24.097 \n",
      "Chi-square df: 7 \n",
      "p-value:  0.001 \n",
      "\n",
      "\n"
     ]
    }
   ],
   "source": [
    "# Put variables into R\n",
    "ro.globalenv['fitrasch1'] = fitrasch1\n",
    "ro.globalenv['timecat'] = timecat\n",
    "\n",
    "# LR Test\n",
    "fitLR = ro.r(\"LRtest(fitrasch1, timecat)\")\n",
    "print(fitLR)"
   ]
  },
  {
   "cell_type": "markdown",
   "metadata": {
    "id": "L1wqlvViEPP3"
   },
   "source": [
    "It gives a significant result which implies that the likelihoods differ across the two groups. The model does not fit. Which item is responsible for the misfit? We can explore this question in detail using a Wald test with the same split criterion.\n",
    "\n",
    "### Assessing misfit at the item level"
   ]
  },
  {
   "cell_type": "code",
   "execution_count": 7,
   "metadata": {
    "colab": {
     "base_uri": "https://localhost:8080/"
    },
    "executionInfo": {
     "elapsed": 206,
     "status": "ok",
     "timestamp": 1742038559402,
     "user": {
      "displayName": "Tim Dreßler",
      "userId": "10678244503421566183"
     },
     "user_tz": -60
    },
    "id": "ifbg_t7vFO4G",
    "outputId": "798d7300-b28a-40f8-8dd4-fd1f58142223"
   },
   "outputs": [
    {
     "name": "stdout",
     "output_type": "stream",
     "text": [
      "\n",
      "Wald test on item level (z-values):\n",
      "\n",
      "            z-statistic p-value\n",
      "beta subtr1      -0.360   0.719\n",
      "beta subtr2       0.237   0.813\n",
      "beta subtr3      -2.342   0.019\n",
      "beta subtr4       0.730   0.465\n",
      "beta subtr5       4.199   0.000\n",
      "beta subtr6      -0.548   0.584\n",
      "beta subtr7      -1.529   0.126\n",
      "beta subtr8      -0.469   0.639\n",
      "\n",
      "\n"
     ]
    }
   ],
   "source": [
    "# Wald test\n",
    "fitWalt1 = ro.r(\"Waldtest(fitrasch1, timecat)\")\n",
    "print(fitWalt1)"
   ]
  },
  {
   "cell_type": "markdown",
   "metadata": {
    "id": "vA0kFmQBFcvs"
   },
   "source": [
    "Here, we can use the magnitudes of the p-values to judge the degree of misfit and\n",
    "come to the conclusion that subtr5, already suspicious in the Princals solution\n",
    "above, is most responsible for the misfit. A graphical illustration reflecting this\n",
    "deviation can be produced as follows:"
   ]
  },
  {
   "cell_type": "code",
   "execution_count": 8,
   "metadata": {
    "id": "X-jYMY6vFdTO"
   },
   "outputs": [],
   "source": [
    "# Put variable into R\n",
    "ro.globalenv['fitLR'] = fitLR"
   ]
  },
  {
   "cell_type": "code",
   "execution_count": 9,
   "metadata": {
    "colab": {
     "base_uri": "https://localhost:8080/",
     "height": 497
    },
    "executionInfo": {
     "elapsed": 105,
     "status": "ok",
     "timestamp": 1742038581091,
     "user": {
      "displayName": "Tim Dreßler",
      "userId": "10678244503421566183"
     },
     "user_tz": -60
    },
    "id": "XovKjWo5lxqQ",
    "outputId": "c6c71fdd-013e-48cf-cef1-5c154360db23"
   },
   "outputs": [
    {
     "data": {
      "image/png": "[encoded data removed]",
      "text/plain": [
       "<IPython.core.display.Image object>"
      ]
     },
     "metadata": {},
     "output_type": "display_data"
    }
   ],
   "source": [
    "%%R\n",
    "plotGOF(fitLR, ctrline = list(col = \"gray\"), conf = list())"
   ]
  },
  {
   "cell_type": "markdown",
   "metadata": {
    "id": "u4q9jAKCGXN_"
   },
   "source": [
    "If the parameters were exactly the same across the\n",
    "two subsamples, they would lie on the diagonal, and the model would fit. The gray\n",
    "lines reflect the confidence bands around the diagonal. The 95% confidence ellipses\n",
    "for the item parameters are shown in red. We see that subtr5 is clearly outside\n",
    "the confidence band, and we have good evidence for eliminating it. We are going to\n",
    "refit the model without this item, apply the LR-test once more, and check whether\n",
    "the Rasch model fits.\n",
    "\n",
    "### Refit the model with only well fitting items\n",
    "Make a new model only including valid items and test it using the `LRtest()` function. "
   ]
  },
  {
   "cell_type": "code",
   "execution_count": 10,
   "metadata": {
    "colab": {
     "base_uri": "https://localhost:8080/"
    },
    "executionInfo": {
     "elapsed": 549,
     "status": "ok",
     "timestamp": 1742038655835,
     "user": {
      "displayName": "Tim Dreßler",
      "userId": "10678244503421566183"
     },
     "user_tz": -60
    },
    "id": "34_M52hkGX6u",
    "outputId": "06c27006-e19b-4ccd-9b4c-bd5ae5476858"
   },
   "outputs": [
    {
     "name": "stdout",
     "output_type": "stream",
     "text": [
      "\n",
      "Results of RM estimation: \n",
      "\n",
      "Call:  RM(X = zarsub2) \n",
      "\n",
      "Conditional log-likelihood: -505.4673 \n",
      "Number of iterations: 11 \n",
      "Number of parameters: 6 \n",
      "\n",
      "Item (Category) Difficulty Parameters (eta):\n",
      "             subtr2    subtr3     subtr4    subtr6    subtr7     subtr8\n",
      "Estimate -0.8262491 1.7167464 -0.5403677 0.3872352 1.5805609 -0.2422317\n",
      "Std.Err   0.1637810 0.1362896  0.1536065 0.1347287 0.1346704  0.1453549\n",
      "\n",
      "\n",
      "\n",
      "\n",
      "Andersen LR-test: \n",
      "LR-value: 5.715 \n",
      "Chi-square df: 6 \n",
      "p-value:  0.456 \n",
      "\n",
      "\n",
      "\n",
      "Wald test on item level (z-values):\n",
      "\n",
      "            z-statistic p-value\n",
      "beta subtr1       0.128   0.898\n",
      "beta subtr2       0.806   0.420\n",
      "beta subtr3      -1.855   0.064\n",
      "beta subtr4       1.323   0.186\n",
      "beta subtr6       0.031   0.975\n",
      "beta subtr7      -1.025   0.306\n",
      "beta subtr8       0.117   0.907\n",
      "\n",
      "\n"
     ]
    }
   ],
   "source": [
    "# Fit the model\n",
    "fitrasch2 = ro.r(\"RM(zarsub2)\")\n",
    "print(fitrasch2)\n",
    "\n",
    "# Put variable into R\n",
    "ro.globalenv['fitrasch2'] = fitrasch2\n",
    "\n",
    "# LR Test\n",
    "fitLR2 = ro.r(\"LRtest(fitrasch2, timecat)\")\n",
    "print(fitLR2)\n",
    "\n",
    "# Wald Test\n",
    "fitWalt2 = ro.r(\"Waldtest(fitrasch2, timecat)\")\n",
    "print(fitWalt2)\n",
    "\n",
    "# Put variable into R\n",
    "ro.globalenv['fitLR2'] = fitLR2"
   ]
  },
  {
   "cell_type": "code",
   "execution_count": 11,
   "metadata": {
    "colab": {
     "base_uri": "https://localhost:8080/",
     "height": 497
    },
    "executionInfo": {
     "elapsed": 47,
     "status": "ok",
     "timestamp": 1742038665568,
     "user": {
      "displayName": "Tim Dreßler",
      "userId": "10678244503421566183"
     },
     "user_tz": -60
    },
    "id": "znoqNJGDmG8Q",
    "outputId": "b13494a8-0609-4fd8-a355-32d4c2df3abc"
   },
   "outputs": [
    {
     "data": {
      "image/png": "[encoded data removed]",
      "text/plain": [
       "<IPython.core.display.Image object>"
      ]
     },
     "metadata": {},
     "output_type": "display_data"
    }
   ],
   "source": [
    "%%R\n",
    "plotGOF(fitLR2, ctrline = list(col = 'gray'), conf = list())"
   ]
  },
  {
   "cell_type": "markdown",
   "metadata": {
    "id": "k1Y5fZvjHbaZ"
   },
   "source": [
    "### Interpretation\n",
    "The nonsignificant p-value suggests that the model fits.\n",
    "In practice, it is suggested to run these tests on multiple external binary\n",
    "covariates. It is important to eliminate only one item at a time and then refit the\n",
    "model which, of course, can be tedious in cases where many items need to be\n",
    "eliminated. If you are curious, the `eRm` package provides the convenience function `stepwiseIt`\n",
    "which eliminates items until a particular test of choice fits.\n",
    "\n",
    "### Item-specific local independence (T1-test) local independence at a global level (T11-test)\n",
    "\n",
    "It has been shown in simulation studies (Suárez-Falcón and Glas, 2003) that the\n",
    "LR-test works well for detecting violations of unidimensionality and parallel ICC\n",
    "violations. Based on the nonsignificant result from above, we can conclude that\n",
    "these assumptions are not violated. If we want to test assumptions more explicitly,\n",
    "the nonparametric testing framework proposed by Ponocny (2001) provides a\n",
    "large amount of testing possibilities. The `eRm` package uses the `RaschSampler`\n",
    "package (Verhelst et al., 2007) internally determine to compute the test statistics.\n",
    "As an example, we examine *item-specific local independence* (T1-test) and *local independence at a global level* (T11-test)."
   ]
  },
  {
   "cell_type": "code",
   "execution_count": 12,
   "metadata": {
    "colab": {
     "base_uri": "https://localhost:8080/"
    },
    "executionInfo": {
     "elapsed": 2957,
     "status": "ok",
     "timestamp": 1742038711998,
     "user": {
      "displayName": "Tim Dreßler",
      "userId": "10678244503421566183"
     },
     "user_tz": -60
    },
    "id": "uyNzuT34wevR",
    "outputId": "e8d9edee-4ef0-48b0-924b-7c46905812e2"
   },
   "outputs": [
    {
     "name": "stdout",
     "output_type": "stream",
     "text": [
      "Nonparametric RM model test: T1 (local dependence - increased\n",
      "    inter-item correlations)\n",
      "    (counting cases with equal responses on both items)\n",
      "Number of sampled matrices: 1000 \n",
      "Number of Item-Pairs tested: 21 \n",
      "Item-Pairs with one-sided p < 0.05 \n",
      "none\n",
      "\n",
      "\n",
      "Nonparametric RM model test: T11 (global test - local dependence)\n",
      "(sum of deviations between observed and expected inter-item\n",
      "    correlations)\n",
      "Number of sampled matrices: 1000 \n",
      "one-sided p-value: 0.893 \n",
      "\n",
      "\n"
     ]
    }
   ],
   "source": [
    "# Drop not wanted columns\n",
    "zarsub4 = zarsub.drop(zarsub.columns[4], axis=1)\n",
    "\n",
    "# Put variable into R\n",
    "ro.globalenv['zarsub4'] = zarsub4\n",
    "\n",
    "# T1-test\n",
    "T1 = ro.r(\"NPtest(as.matrix(zarsub4), n=1000, method='T1')\")\n",
    "print(T1)\n",
    "\n",
    "# T11-test\n",
    "T11 = ro.r(\"NPtest(as.matrix(zarsub4), n=1000, method='T11')\")\n",
    "print(T11)"
   ]
  },
  {
   "cell_type": "markdown",
   "metadata": {
    "id": "ZhqaFE4dxcpD"
   },
   "source": [
    "The first output suggests that none of the item pairs show significant local\n",
    "dependence. The second test output confirms this result by telling us that local\n",
    "independence holds at a global level (see not-significant p-value).\n",
    "\n",
    "### Interpret item parameters\n",
    "\n",
    "At this point we can conclude that our data fit the Rasch model. This gives our\n",
    "scale the highest seal of approval. Thus, we can interpret the item parameters and,\n",
    "finally, elaborate on what (parallel) ICCs are.\n",
    "To do so, use the Rasch model fitted on only the valid items and print the parameters\n",
    "in a sorted manner: "
   ]
  },
  {
   "cell_type": "code",
   "execution_count": 13,
   "metadata": {
    "colab": {
     "base_uri": "https://localhost:8080/"
    },
    "executionInfo": {
     "elapsed": 105,
     "status": "ok",
     "timestamp": 1742038808953,
     "user": {
      "displayName": "Tim Dreßler",
      "userId": "10678244503421566183"
     },
     "user_tz": -60
    },
    "id": "UrUkB_zqxfiB",
    "outputId": "b5357ed8-6c88-4201-9c9f-73390e7cd96e"
   },
   "outputs": [
    {
     "name": "stdout",
     "output_type": "stream",
     "text": [
      "\n",
      "Results of RM estimation: \n",
      "\n",
      "Call:  RM(X = zarsub2) \n",
      "\n",
      "Conditional log-likelihood: -505.4673 \n",
      "Number of iterations: 11 \n",
      "Number of parameters: 6 \n",
      "\n",
      "Item (Category) Difficulty Parameters (eta):\n",
      "             subtr2    subtr3     subtr4    subtr6    subtr7     subtr8\n",
      "Estimate -0.8262491 1.7167464 -0.5403677 0.3872352 1.5805609 -0.2422317\n",
      "Std.Err   0.1637810 0.1362896  0.1536065 0.1347287 0.1346704  0.1453549\n",
      "\n",
      "\n",
      "\n",
      "[-2.076 -0.826 -0.54  -0.242  0.387  1.581  1.717]\n"
     ]
    }
   ],
   "source": [
    "# Fit the model\n",
    "fitrasch3 = ro.r(\"RM(zarsub2)\")\n",
    "print(fitrasch3)\n",
    "\n",
    "# Put variable into R\n",
    "ro.globalenv['fitrasch3'] = fitrasch3\n",
    "\n",
    "# Get beta parameters\n",
    "betapar = ro.r[\"coef\"](fitrasch3)\n",
    "rounded_sorted = np.sort(np.round(-betapar, 3))\n",
    "\n",
    "print(rounded_sorted)"
   ]
  },
  {
   "cell_type": "markdown",
   "metadata": {
    "id": "n8iReec3x689"
   },
   "source": [
    "### Plot ICC\n",
    "\n",
    "You might notice that the item difficulties directly correspond to the intercepts in the plot below. Lower item difficulties (e.g. item 1) therefore go along with a higher probability to score (and vice versa).\n",
    "\n",
    "ICCs, sometimes also called item response functions, determine the item behavior\n",
    "(i.e., endorsement probability) along the latent trait."
   ]
  },
  {
   "cell_type": "code",
   "execution_count": 14,
   "metadata": {
    "colab": {
     "base_uri": "https://localhost:8080/",
     "height": 497
    },
    "executionInfo": {
     "elapsed": 64,
     "status": "ok",
     "timestamp": 1742038821549,
     "user": {
      "displayName": "Tim Dreßler",
      "userId": "10678244503421566183"
     },
     "user_tz": -60
    },
    "id": "tHpn3OIcx7yj",
    "outputId": "99f85a33-7903-4fa5-f7f0-d768af5275e5"
   },
   "outputs": [
    {
     "data": {
      "image/png": "[encoded data removed]",
      "text/plain": [
       "<IPython.core.display.Image object>"
      ]
     },
     "metadata": {},
     "output_type": "display_data"
    }
   ],
   "source": [
    "%%R\n",
    "plotjointICC(fitrasch3, xlab = 'Subtraction Trait', main = 'ICCs Subtraction Items')"
   ]
  },
  {
   "cell_type": "markdown",
   "metadata": {
    "id": "dMDNWGDQydWK"
   },
   "source": [
    "First of all, we see that all ICCs are parallel, and all of them have a slope of 1.\n",
    "This is an implication of the Rasch model which will be relaxed in the next section.\n",
    "The plot shows that `subtr1` is the easiest item, since it is located furthest to the left\n",
    "on the trait, meaning that it is the item that requires the lowest amount of latent trait to have a probability of being scored correctly of 1. `subtr3` is to the far right and consequently the most difficult one. In\n",
    "this plot, the item parameters are reflected the value on the x-axis for which the\n",
    "endorsement probability is exactly 0.5. In the plot, this is demonstrated for `subtr3`."
   ]
  },
  {
   "cell_type": "markdown",
   "metadata": {
    "id": "VU34GjQWzDbW"
   },
   "source": [
    "### Estimate person parameter\n",
    "\n",
    "Once the model fits, we can estimate the person parameter in a second step:"
   ]
  },
  {
   "cell_type": "code",
   "execution_count": 15,
   "metadata": {
    "colab": {
     "base_uri": "https://localhost:8080/"
    },
    "executionInfo": {
     "elapsed": 34,
     "status": "ok",
     "timestamp": 1742038879894,
     "user": {
      "displayName": "Tim Dreßler",
      "userId": "10678244503421566183"
     },
     "user_tz": -60
    },
    "id": "SSAPFhyyzGXE",
    "outputId": "60cbd5c6-349c-4161-b854-1198217528dd"
   },
   "outputs": [
    {
     "name": "stdout",
     "output_type": "stream",
     "text": [
      "\n",
      "Person Parameters:\n",
      "\n",
      " Raw Score   Estimate Std.Error\n",
      "         0 -3.4339847        NA\n",
      "         1 -2.2893324 1.1743143\n",
      "         2 -1.2100273 0.9467207\n",
      "         3 -0.3879450 0.8812713\n",
      "         4  0.3846573 0.8862733\n",
      "         5  1.2190514 0.9524210\n",
      "         6  2.2958672 1.1656079\n",
      "         7  3.4334872        NA\n",
      "\n"
     ]
    }
   ],
   "source": [
    "zarppar = ro.r(\"person.parameter(fitrasch2)\")\n",
    "print(zarppar)"
   ]
  },
  {
   "cell_type": "markdown",
   "metadata": {
    "id": "dkbCR_zNza0S"
   },
   "source": [
    "Each individual gets its own person parameter. Children who answered the same\n",
    "number of items correctly will get the same person parameter. They are mapped on\n",
    "the same latent trait as the items. \n",
    "\n",
    "**Raw Score**: This column represents the observed raw scores on the test or assessment. These are the total number of correct responses each person obtained on the test. \n",
    "\n",
    "**Estimate**: This column represents the estimated person parameters for each raw score. The person parameters indicate the latent trait or ability level of individuals on the underlying construct being measured by the test. In the Rasch model, these estimates are usually expressed in log-odds units, also known as logits. \n",
    "\n",
    "**Std.Error**: This column represents the standard error associated with each person parameter estimate. It indicates the precision or reliability of the estimate. A lower standard error suggests a more precise estimate. \n",
    "\n",
    "For instance, for individuals with a raw score of 0 (meaning they got no items correct), the estimated person parameter is approximately -3.43 logits. This suggests that individuals who scored 0 on the test are estimated to have lower ability levels on the subtraction trait being measured.\n",
    "Conversely, individuals with higher raw scores have higher estimated person parameters, indicating higher ability levels on the underlying trait.\n",
    "Standard errors are not provided for extreme raw scores (0 and 7), due to non-estimability at the extremes. This is not an error but a mathematical property of maximum likelihood estimation (MLE) in Rasch models. See [this link](https://www.rasch.org/rmt/rmt122h.htm) for more information on how to circumvent this limitation.\n",
    "\n",
    "\n",
    "### Add person parameters to the data matrix and use them in further analyses\n",
    "\n",
    "The person parameters can be added to the data matrix and used for further\n",
    "statistical analysis as metric variable. Here we show an ANOVA with school year as\n",
    "factor (three levels)."
   ]
  },
  {
   "cell_type": "code",
   "execution_count": 19,
   "metadata": {
    "colab": {
     "base_uri": "https://localhost:8080/"
    },
    "executionInfo": {
     "elapsed": 17,
     "status": "ok",
     "timestamp": 1742039018753,
     "user": {
      "displayName": "Tim Dreßler",
      "userId": "10678244503421566183"
     },
     "user_tz": -60
    },
    "id": "1Q3HrCj3zb_5",
    "outputId": "bd41d523-3ffd-4187-beff-df993fc0f37a"
   },
   "outputs": [
    {
     "name": "stdout",
     "output_type": "stream",
     "text": [
      "   addit1  addit2  addit3  addit4  addit5  addit6  addit7  addit8  subtr1  \\\n",
      "1     1.0     1.0     1.0     1.0     1.0     1.0     1.0     0.0     1.0   \n",
      "2     1.0     1.0     1.0     1.0     0.0     1.0     1.0     0.0     1.0   \n",
      "3     1.0     1.0     1.0     1.0     1.0     1.0     1.0     1.0     1.0   \n",
      "4     1.0     1.0     1.0     1.0     1.0     1.0     1.0     1.0     1.0   \n",
      "5     1.0     1.0     1.0     1.0     1.0     1.0     1.0     1.0     1.0   \n",
      "\n",
      "   subtr2  subtr3  subtr4  subtr5  subtr6  subtr7  subtr8  school_class  time  \\\n",
      "1     1.0     1.0     1.0     1.0     1.0     0.0     1.0             1  39.0   \n",
      "2     1.0     1.0     1.0     1.0     1.0     0.0     1.0             1  37.0   \n",
      "3     1.0     0.0     1.0     1.0     0.0     0.0     1.0             1  34.0   \n",
      "4     1.0     0.0     1.0     1.0     0.0     1.0     1.0             1  28.0   \n",
      "5     1.0     0.0     1.0     1.0     0.0     0.0     1.0             1  32.0   \n",
      "\n",
      "      theta  \n",
      "1  2.295867  \n",
      "2  2.295867  \n",
      "3  0.384657  \n",
      "4  1.219051  \n",
      "5  0.384657  \n"
     ]
    }
   ],
   "source": [
    "zareki = zareki.rename(columns={'class': 'school_class'}) # Rename 'class' to something else, as it is a reserved keyword in Python (this would later cause issues in statsmodels)\n",
    "\n",
    "# Get the theta table (still an R data frame)\n",
    "theta_table = zarppar.rx2(\"theta.table\")\n",
    "\n",
    "# Extract the \"Person Parameter\" column as an R vector\n",
    "theta_vector = theta_table.rx2(\"Person Parameter\")  # This is an R FloatVector\n",
    "\n",
    "# Convert it directly to a NumPy array or list\n",
    "theta_values = list(theta_vector)  # Or use np.array(theta_vector) if you're working with NumPy\n",
    "\n",
    "# Add it to the DataFrame\n",
    "zareki['theta'] = theta_values\n",
    "\n",
    "print(zareki.head())\n"
   ]
  },
  {
   "cell_type": "code",
   "execution_count": 20,
   "metadata": {
    "colab": {
     "base_uri": "https://localhost:8080/",
     "height": 125
    },
    "executionInfo": {
     "elapsed": 3337,
     "status": "ok",
     "timestamp": 1742039024579,
     "user": {
      "displayName": "Tim Dreßler",
      "userId": "10678244503421566183"
     },
     "user_tz": -60
    },
    "id": "V4YItY6DzDJf",
    "outputId": "82b006a2-5440-4bd4-d5d8-9a1b14cb603e"
   },
   "outputs": [
    {
     "data": {
      "application/vnd.microsoft.datawrangler.viewer.v0+json": {
       "columns": [
        {
         "name": "index",
         "rawType": "object",
         "type": "string"
        },
        {
         "name": "df",
         "rawType": "float64",
         "type": "float"
        },
        {
         "name": "sum_sq",
         "rawType": "float64",
         "type": "float"
        },
        {
         "name": "mean_sq",
         "rawType": "float64",
         "type": "float"
        },
        {
         "name": "F",
         "rawType": "float64",
         "type": "float"
        },
        {
         "name": "PR(>F)",
         "rawType": "float64",
         "type": "float"
        }
       ],
       "ref": "77964711-ed4d-48b2-8c8f-5b872b92eebe",
       "rows": [
        [
         "school_class",
         "2.0",
         "129.10309395643299",
         "64.55154697821649",
         "31.795033204329123",
         "2.226392946059825e-13"
        ],
        [
         "Residual",
         "338.0",
         "686.2211068761029",
         "2.030239961171902",
         null,
         null
        ]
       ],
       "shape": {
        "columns": 5,
        "rows": 2
       }
      },
      "text/html": [
       "<div>\n",
       "<style scoped>\n",
       "    .dataframe tbody tr th:only-of-type {\n",
       "        vertical-align: middle;\n",
       "    }\n",
       "\n",
       "    .dataframe tbody tr th {\n",
       "        vertical-align: top;\n",
       "    }\n",
       "\n",
       "    .dataframe thead th {\n",
       "        text-align: right;\n",
       "    }\n",
       "</style>\n",
       "<table border=\"1\" class=\"dataframe\">\n",
       "  <thead>\n",
       "    <tr style=\"text-align: right;\">\n",
       "      <th></th>\n",
       "      <th>df</th>\n",
       "      <th>sum_sq</th>\n",
       "      <th>mean_sq</th>\n",
       "      <th>F</th>\n",
       "      <th>PR(&gt;F)</th>\n",
       "    </tr>\n",
       "  </thead>\n",
       "  <tbody>\n",
       "    <tr>\n",
       "      <th>school_class</th>\n",
       "      <td>2.0</td>\n",
       "      <td>129.103094</td>\n",
       "      <td>64.551547</td>\n",
       "      <td>31.795033</td>\n",
       "      <td>2.226393e-13</td>\n",
       "    </tr>\n",
       "    <tr>\n",
       "      <th>Residual</th>\n",
       "      <td>338.0</td>\n",
       "      <td>686.221107</td>\n",
       "      <td>2.030240</td>\n",
       "      <td>NaN</td>\n",
       "      <td>NaN</td>\n",
       "    </tr>\n",
       "  </tbody>\n",
       "</table>\n",
       "</div>"
      ],
      "text/plain": [
       "                 df      sum_sq    mean_sq          F        PR(>F)\n",
       "school_class    2.0  129.103094  64.551547  31.795033  2.226393e-13\n",
       "Residual      338.0  686.221107   2.030240        NaN           NaN"
      ]
     },
     "execution_count": 20,
     "metadata": {},
     "output_type": "execute_result"
    }
   ],
   "source": [
    "# Ensure that the column \"class\" is treated as a categorical variable.\n",
    "zareki['school_class'] = zareki['school_class'].astype('category')\n",
    "\n",
    "import statsmodels.formula.api as smf\n",
    "import statsmodels.api as sm\n",
    "\n",
    "# Fit the model and perform the ANOVA\n",
    "model = smf.ols('theta ~ school_class', data=zareki).fit()\n",
    "\n",
    "anova_table = sm.stats.anova_lm(model)\n",
    "anova_table"
   ]
  },
  {
   "cell_type": "markdown",
   "metadata": {
    "id": "fd7Qvlm50JFJ"
   },
   "source": [
    "The result suggests significant differences in ability across the 3 years. Still, the\n",
    "subtraction scale is *fair* since the Rasch model holds: *fairness* is a property of the\n",
    "item parameters, and not a person parameter property.\n",
    "\n",
    "---\n",
    "\n",
    "An important contribution to the Rasch ecosystem was the idea to embed Rasch\n",
    "models into a mixed-effects models framework. To be more precise, Rasch models\n",
    "are nothing else than mixed-effects logistic regressions with, in their most basic\n",
    "form, items as fixed effects and persons as random effects. The random intercepts\n",
    "correspond to the person parameters, the fixed effect parameters to the item location\n",
    "parameters. This idea of explanatory item response models adds many modeling\n",
    "possibilities (see De Boeck et al., 2011, for details)."
   ]
  },
  {
   "cell_type": "markdown",
   "metadata": {
    "id": "vv5wly7iRsNM"
   },
   "source": [
    "## 3. Two-parameter logistic model\n",
    "\n",
    "The parallel ICC assumption involving constant slope parameters of 1 is a rather\n",
    "strict one. One-parameter logistic model versions of Rasch (called 1-PL or OPLM) relax this assumption slightly by estimating a single item discrimination parameter\n",
    "α, generally different from 1. Still, the ICCs are parallel. This idea represents a\n",
    "different philosophical measurement perspective. Under the Rasch paradigm, we\n",
    "modify the data such that it fits the Rasch model. Under the 1-PL and the other\n",
    "models presented in this section, we try to find a model that fits our data. \n",
    "\n",
    "In practice, the two-parameter logistic model (2-PL Birnbaum, 1968) is more\n",
    "relevant than the 1-PL. It estimates an item discrimination parameter *αi* for each\n",
    "item individually, which allows the ICCs to cross. Compared to the Rasch model, it relaxes the assumption of parallel ICCs through\n",
    "$α_i$ , while unidimensionality and local independence still need to hold.\n",
    "\n",
    "### The dataset\n",
    "\n",
    "The dataset we use to illustrate the 2-PL is taken from Mair et al. (2015). In this\n",
    "study, the authors were interested in finding out why package developers contribute\n",
    "to R. Among other things, they presented three subscales of the Work Design\n",
    "Questionnaire (WDQ) by Morgeson and Humphrey (2006), in order to explore\n",
    "whether certain work design characteristics had an influence on the participation\n",
    "in package developments. In our little IRT application below, the main interest is\n",
    "not to remove many items in order to achieve a strong measurement instrument.\n",
    "Rather, the main objective is to score the developers and only remove items that are\n",
    "heavily misfitting. Hence, we use a more flexible 2-PL since a Rasch model might\n",
    "be too strict. We consider a single WDQ subscale only: “knowledge characteristics” which\n",
    "includes 18 dichotomous items related to job complexity, information processing,\n",
    "problem solving, skill variety, and specialization.\n",
    "\n",
    "### Load & inspect the data"
   ]
  },
  {
   "cell_type": "code",
   "execution_count": 21,
   "metadata": {
    "colab": {
     "base_uri": "https://localhost:8080/",
     "height": 206
    },
    "executionInfo": {
     "elapsed": 116,
     "status": "ok",
     "timestamp": 1742039076259,
     "user": {
      "displayName": "Tim Dreßler",
      "userId": "10678244503421566183"
     },
     "user_tz": -60
    },
    "id": "FcU033saR1H2",
    "outputId": "52681a80-6818-40fe-bba7-996fb0d16661"
   },
   "outputs": [
    {
     "data": {
      "application/vnd.microsoft.datawrangler.viewer.v0+json": {
       "columns": [
        {
         "name": "index",
         "rawType": "object",
         "type": "string"
        },
        {
         "name": "wdq_22",
         "rawType": "float64",
         "type": "float"
        },
        {
         "name": "wdq_23",
         "rawType": "float64",
         "type": "float"
        },
        {
         "name": "wdq_24",
         "rawType": "float64",
         "type": "float"
        },
        {
         "name": "wdq_25",
         "rawType": "float64",
         "type": "float"
        },
        {
         "name": "wdq_26",
         "rawType": "float64",
         "type": "float"
        },
        {
         "name": "wdq_27",
         "rawType": "float64",
         "type": "float"
        },
        {
         "name": "wdq_28",
         "rawType": "float64",
         "type": "float"
        },
        {
         "name": "wdq_29",
         "rawType": "float64",
         "type": "float"
        },
        {
         "name": "wdq_30",
         "rawType": "float64",
         "type": "float"
        },
        {
         "name": "wdq_31",
         "rawType": "float64",
         "type": "float"
        },
        {
         "name": "wdq_32",
         "rawType": "float64",
         "type": "float"
        },
        {
         "name": "wdq_33",
         "rawType": "float64",
         "type": "float"
        },
        {
         "name": "wdq_34",
         "rawType": "float64",
         "type": "float"
        },
        {
         "name": "wdq_35",
         "rawType": "float64",
         "type": "float"
        },
        {
         "name": "wdq_36",
         "rawType": "float64",
         "type": "float"
        },
        {
         "name": "wdq_37",
         "rawType": "float64",
         "type": "float"
        },
        {
         "name": "wdq_38",
         "rawType": "float64",
         "type": "float"
        },
        {
         "name": "wdq_39",
         "rawType": "float64",
         "type": "float"
        }
       ],
       "ref": "7339e6e9-4fd0-442e-aa02-96f31d9c9b1b",
       "rows": [
        [
         "1",
         "1.0",
         "1.0",
         "1.0",
         "1.0",
         "0.0",
         "1.0",
         null,
         "1.0",
         "1.0",
         "1.0",
         "1.0",
         "1.0",
         "1.0",
         "1.0",
         "1.0",
         "1.0",
         "1.0",
         "1.0"
        ],
        [
         "3",
         "1.0",
         "0.0",
         "0.0",
         "0.0",
         "0.0",
         "0.0",
         null,
         "0.0",
         "1.0",
         "0.0",
         "0.0",
         "0.0",
         "0.0",
         "0.0",
         "1.0",
         "1.0",
         "0.0",
         "0.0"
        ],
        [
         "4",
         "0.0",
         "0.0",
         "0.0",
         "1.0",
         "1.0",
         "1.0",
         null,
         "1.0",
         "1.0",
         "1.0",
         "1.0",
         "1.0",
         "1.0",
         "1.0",
         "1.0",
         "0.0",
         "1.0",
         "1.0"
        ],
        [
         "5",
         "1.0",
         "1.0",
         "1.0",
         "1.0",
         "1.0",
         "1.0",
         null,
         "1.0",
         "1.0",
         "0.0",
         "0.0",
         "1.0",
         "1.0",
         "1.0",
         "1.0",
         "1.0",
         "1.0",
         "1.0"
        ],
        [
         "6",
         "0.0",
         "1.0",
         "1.0",
         "1.0",
         "1.0",
         "1.0",
         null,
         "1.0",
         "1.0",
         "1.0",
         "1.0",
         "1.0",
         "1.0",
         "1.0",
         "1.0",
         "1.0",
         "1.0",
         "1.0"
        ]
       ],
       "shape": {
        "columns": 18,
        "rows": 5
       }
      },
      "text/html": [
       "<div>\n",
       "<style scoped>\n",
       "    .dataframe tbody tr th:only-of-type {\n",
       "        vertical-align: middle;\n",
       "    }\n",
       "\n",
       "    .dataframe tbody tr th {\n",
       "        vertical-align: top;\n",
       "    }\n",
       "\n",
       "    .dataframe thead th {\n",
       "        text-align: right;\n",
       "    }\n",
       "</style>\n",
       "<table border=\"1\" class=\"dataframe\">\n",
       "  <thead>\n",
       "    <tr style=\"text-align: right;\">\n",
       "      <th></th>\n",
       "      <th>wdq_22</th>\n",
       "      <th>wdq_23</th>\n",
       "      <th>wdq_24</th>\n",
       "      <th>wdq_25</th>\n",
       "      <th>wdq_26</th>\n",
       "      <th>wdq_27</th>\n",
       "      <th>wdq_28</th>\n",
       "      <th>wdq_29</th>\n",
       "      <th>wdq_30</th>\n",
       "      <th>wdq_31</th>\n",
       "      <th>wdq_32</th>\n",
       "      <th>wdq_33</th>\n",
       "      <th>wdq_34</th>\n",
       "      <th>wdq_35</th>\n",
       "      <th>wdq_36</th>\n",
       "      <th>wdq_37</th>\n",
       "      <th>wdq_38</th>\n",
       "      <th>wdq_39</th>\n",
       "    </tr>\n",
       "  </thead>\n",
       "  <tbody>\n",
       "    <tr>\n",
       "      <th>1</th>\n",
       "      <td>1.0</td>\n",
       "      <td>1.0</td>\n",
       "      <td>1.0</td>\n",
       "      <td>1.0</td>\n",
       "      <td>0.0</td>\n",
       "      <td>1.0</td>\n",
       "      <td>NaN</td>\n",
       "      <td>1.0</td>\n",
       "      <td>1.0</td>\n",
       "      <td>1.0</td>\n",
       "      <td>1.0</td>\n",
       "      <td>1.0</td>\n",
       "      <td>1.0</td>\n",
       "      <td>1.0</td>\n",
       "      <td>1.0</td>\n",
       "      <td>1.0</td>\n",
       "      <td>1.0</td>\n",
       "      <td>1.0</td>\n",
       "    </tr>\n",
       "    <tr>\n",
       "      <th>3</th>\n",
       "      <td>1.0</td>\n",
       "      <td>0.0</td>\n",
       "      <td>0.0</td>\n",
       "      <td>0.0</td>\n",
       "      <td>0.0</td>\n",
       "      <td>0.0</td>\n",
       "      <td>NaN</td>\n",
       "      <td>0.0</td>\n",
       "      <td>1.0</td>\n",
       "      <td>0.0</td>\n",
       "      <td>0.0</td>\n",
       "      <td>0.0</td>\n",
       "      <td>0.0</td>\n",
       "      <td>0.0</td>\n",
       "      <td>1.0</td>\n",
       "      <td>1.0</td>\n",
       "      <td>0.0</td>\n",
       "      <td>0.0</td>\n",
       "    </tr>\n",
       "    <tr>\n",
       "      <th>4</th>\n",
       "      <td>0.0</td>\n",
       "      <td>0.0</td>\n",
       "      <td>0.0</td>\n",
       "      <td>1.0</td>\n",
       "      <td>1.0</td>\n",
       "      <td>1.0</td>\n",
       "      <td>NaN</td>\n",
       "      <td>1.0</td>\n",
       "      <td>1.0</td>\n",
       "      <td>1.0</td>\n",
       "      <td>1.0</td>\n",
       "      <td>1.0</td>\n",
       "      <td>1.0</td>\n",
       "      <td>1.0</td>\n",
       "      <td>1.0</td>\n",
       "      <td>0.0</td>\n",
       "      <td>1.0</td>\n",
       "      <td>1.0</td>\n",
       "    </tr>\n",
       "    <tr>\n",
       "      <th>5</th>\n",
       "      <td>1.0</td>\n",
       "      <td>1.0</td>\n",
       "      <td>1.0</td>\n",
       "      <td>1.0</td>\n",
       "      <td>1.0</td>\n",
       "      <td>1.0</td>\n",
       "      <td>NaN</td>\n",
       "      <td>1.0</td>\n",
       "      <td>1.0</td>\n",
       "      <td>0.0</td>\n",
       "      <td>0.0</td>\n",
       "      <td>1.0</td>\n",
       "      <td>1.0</td>\n",
       "      <td>1.0</td>\n",
       "      <td>1.0</td>\n",
       "      <td>1.0</td>\n",
       "      <td>1.0</td>\n",
       "      <td>1.0</td>\n",
       "    </tr>\n",
       "    <tr>\n",
       "      <th>6</th>\n",
       "      <td>0.0</td>\n",
       "      <td>1.0</td>\n",
       "      <td>1.0</td>\n",
       "      <td>1.0</td>\n",
       "      <td>1.0</td>\n",
       "      <td>1.0</td>\n",
       "      <td>NaN</td>\n",
       "      <td>1.0</td>\n",
       "      <td>1.0</td>\n",
       "      <td>1.0</td>\n",
       "      <td>1.0</td>\n",
       "      <td>1.0</td>\n",
       "      <td>1.0</td>\n",
       "      <td>1.0</td>\n",
       "      <td>1.0</td>\n",
       "      <td>1.0</td>\n",
       "      <td>1.0</td>\n",
       "      <td>1.0</td>\n",
       "    </tr>\n",
       "  </tbody>\n",
       "</table>\n",
       "</div>"
      ],
      "text/plain": [
       "   wdq_22  wdq_23  wdq_24  wdq_25  wdq_26  wdq_27  wdq_28  wdq_29  wdq_30  \\\n",
       "1     1.0     1.0     1.0     1.0     0.0     1.0     NaN     1.0     1.0   \n",
       "3     1.0     0.0     0.0     0.0     0.0     0.0     NaN     0.0     1.0   \n",
       "4     0.0     0.0     0.0     1.0     1.0     1.0     NaN     1.0     1.0   \n",
       "5     1.0     1.0     1.0     1.0     1.0     1.0     NaN     1.0     1.0   \n",
       "6     0.0     1.0     1.0     1.0     1.0     1.0     NaN     1.0     1.0   \n",
       "\n",
       "   wdq_31  wdq_32  wdq_33  wdq_34  wdq_35  wdq_36  wdq_37  wdq_38  wdq_39  \n",
       "1     1.0     1.0     1.0     1.0     1.0     1.0     1.0     1.0     1.0  \n",
       "3     0.0     0.0     0.0     0.0     0.0     1.0     1.0     0.0     0.0  \n",
       "4     1.0     1.0     1.0     1.0     1.0     1.0     0.0     1.0     1.0  \n",
       "5     0.0     0.0     1.0     1.0     1.0     1.0     1.0     1.0     1.0  \n",
       "6     1.0     1.0     1.0     1.0     1.0     1.0     1.0     1.0     1.0  "
      ]
     },
     "execution_count": 21,
     "metadata": {},
     "output_type": "execute_result"
    }
   ],
   "source": [
    "# Load the data in R\n",
    "ro.r(\"data(RWDQ)\")\n",
    "\n",
    "# Get as DataFrame\n",
    "RWDQ = pandas2ri.rpy2py(ro.globalenv['RWDQ'])\n",
    "\n",
    "RWDQ.head()\n"
   ]
  },
  {
   "cell_type": "markdown",
   "metadata": {
    "id": "u0oA3CBxSnWS"
   },
   "source": [
    "### Fit the model\n",
    "\n",
    "We use the `ltm()` function from the `ltm` R package to fit a two-parameter logistic (2PL) model, specifying a single latent dimension with `z1`."
   ]
  },
  {
   "cell_type": "code",
   "execution_count": null,
   "metadata": {
    "colab": {
     "base_uri": "https://localhost:8080/"
    },
    "executionInfo": {
     "elapsed": 1596,
     "status": "ok",
     "timestamp": 1742039084653,
     "user": {
      "displayName": "Tim Dreßler",
      "userId": "10678244503421566183"
     },
     "user_tz": -60
    },
    "id": "jReGuUV1Sn0F",
    "outputId": "9097bc46-cedb-4bf4-bf09-00f482f5da16"
   },
   "outputs": [
    {
     "name": "stdout",
     "output_type": "stream",
     "text": [
      "\n",
      "Call:\n",
      "ltm(formula = RWDQ ~ z1)\n",
      "\n",
      "Coefficients:\n",
      "        Dffclt  Dscrmn\n",
      "wdq_22  -9.490   0.124\n",
      "wdq_23   1.067  -0.732\n",
      "wdq_24   0.389  -0.816\n",
      "wdq_25   1.456  -1.561\n",
      "wdq_26   2.125  -0.664\n",
      "wdq_27   0.571  -1.153\n",
      "wdq_28   1.136  -0.811\n",
      "wdq_29   2.288  -1.297\n",
      "wdq_30   1.835  -0.857\n",
      "wdq_31   0.748  -0.926\n",
      "wdq_32   0.773  -0.822\n",
      "wdq_33   2.513  -1.709\n",
      "wdq_34   2.385  -1.339\n",
      "wdq_35   3.136  -0.967\n",
      "wdq_36   1.365  -1.041\n",
      "wdq_37   1.116  -1.176\n",
      "wdq_38   0.788  -2.696\n",
      "wdq_39   1.150  -1.970\n",
      "\n",
      "Log.Lik: -7648.692\n",
      "\n",
      "\n"
     ]
    }
   ],
   "source": [
    "# Fit the model\n",
    "fit2pl1 = ro.r(\"ltm(RWDQ ~ z1)\")\n",
    "print(fit2pl1)"
   ]
  },
  {
   "cell_type": "markdown",
   "metadata": {
    "id": "WPAhu5lRSsMF"
   },
   "source": [
    "The first column contains the item difficulty parameters $β_i$ . Since the construct\n",
    "is knowledge characteristics, speaking about difficulty does not make sense. A\n",
    "large $β_i$ simply means that the item is located at the upper end of the knowledge\n",
    "characteristics continuum. That is, it allows us to discriminate among persons\n",
    "with high-knowledge characteristics. Conversely, a low item parameter measures\n",
    "knowledge characteristics at its lower end and, correspondingly, discriminates\n",
    "among persons with low knowledge characteristic. The second column shows the\n",
    "item discrimination parameters *αi* which reflect the varying ICC slopes. \n",
    "\n",
    "In the print output above, the item location parameter of item 22 (first row) is\n",
    "unreasonably low, compared to the other parameters. Reasons for such a heavily\n",
    "outlying parameter are that either the algorithm did not converge or the item violates\n",
    "an assumption. Plotting a Princals solution on this dataset (not shown here), suggests\n",
    "that item 22 deviates strongly from the remaining ones. Thus, let us eliminate\n",
    "wdq_22 and refit the 2-PL model.\n",
    "\n",
    "### Refit after eliminating wdq_22"
   ]
  },
  {
   "cell_type": "code",
   "execution_count": 26,
   "metadata": {
    "colab": {
     "base_uri": "https://localhost:8080/"
    },
    "executionInfo": {
     "elapsed": 909,
     "status": "ok",
     "timestamp": 1742039195800,
     "user": {
      "displayName": "Tim Dreßler",
      "userId": "10678244503421566183"
     },
     "user_tz": -60
    },
    "id": "zELNx6gOT3-r",
    "outputId": "d59467a9-69b5-463e-ad00-8a78b10b7737"
   },
   "outputs": [
    {
     "name": "stdout",
     "output_type": "stream",
     "text": [
      "\n",
      "Call:\n",
      "ltm(formula = RWDQsub ~ z1)\n",
      "\n",
      "Coefficients:\n",
      "        Dffclt  Dscrmn\n",
      "wdq_23  -1.064   0.736\n",
      "wdq_24  -0.387   0.822\n",
      "wdq_25  -1.456   1.561\n",
      "wdq_26  -2.113   0.668\n",
      "wdq_27  -0.570   1.157\n",
      "wdq_28  -1.138   0.808\n",
      "wdq_29  -2.281   1.303\n",
      "wdq_30  -1.835   0.858\n",
      "wdq_31  -0.748   0.925\n",
      "wdq_32  -0.775   0.819\n",
      "wdq_33  -2.506   1.716\n",
      "wdq_34  -2.382   1.341\n",
      "wdq_35  -3.132   0.968\n",
      "wdq_36  -1.368   1.038\n",
      "wdq_37  -1.118   1.173\n",
      "wdq_38  -0.789   2.678\n",
      "wdq_39  -1.151   1.967\n",
      "\n",
      "Log.Lik: -7090.504\n",
      "\n",
      "\n"
     ]
    }
   ],
   "source": [
    "# Drop item wdq_22\n",
    "RWDQsub = RWDQ.drop(\"wdq_22\", axis=1)\n",
    "\n",
    "# Put variable into R\n",
    "ro.globalenv['RWDQsub'] = RWDQsub\n",
    "\n",
    "# Fit the model\n",
    "fit2pl2 = ro.r(\"ltm(RWDQsub ~ z1)\")\n",
    "print(fit2pl2)"
   ]
  },
  {
   "cell_type": "markdown",
   "metadata": {
    "id": "RDP1_n1JaFoP"
   },
   "source": [
    "### Explore item fit\n",
    "\n",
    "Let us do a final itemfit check by computing a $χ^2$-based itemfit statistic called Q1, following Yen (1981). In general,\n",
    "a significant p-value suggests that the item does not fit. \n",
    "\n",
    "For each item:\n",
    "- Null hypothesis (H₀): The item fits the model.\n",
    "- Alternative (H₁): The item does not fit the model.\n",
    "\n",
    "If the p-value is low (p-value < 0.05), you reject H₀, meaning that the item may not fit the model well.\n",
    "\n",
    "But based on the fact that the Q1 statistic exhibits inflated Type I error rates and other (not mentioned) considerations regarding scale construction vs. evaluation, we do not have to use these p-values as our only criterion to keep or eliminate items."
   ]
  },
  {
   "cell_type": "code",
   "execution_count": 27,
   "metadata": {
    "colab": {
     "base_uri": "https://localhost:8080/"
    },
    "executionInfo": {
     "elapsed": 10914,
     "status": "ok",
     "timestamp": 1742039226957,
     "user": {
      "displayName": "Tim Dreßler",
      "userId": "10678244503421566183"
     },
     "user_tz": -60
    },
    "id": "PyTtozpaaGXI",
    "outputId": "ed8ab4cc-3639-42ce-9313-6cce9cf936af"
   },
   "outputs": [
    {
     "name": "stdout",
     "output_type": "stream",
     "text": [
      "\n",
      "Item-Fit Statistics and P-values\n",
      "\n",
      "Call:\n",
      "ltm(formula = RWDQsub ~ z1)\n",
      "\n",
      "Alternative: Items do not fit the model\n",
      "Ability Categories: 10\n",
      "\n",
      "           X^2 Pr(>X^2)\n",
      "wdq_23  7.2445   0.5105\n",
      "wdq_24  0.0000        1\n",
      "wdq_25  0.0000        1\n",
      "wdq_26  0.0000        1\n",
      "wdq_27  0.0000        1\n",
      "wdq_28  0.0000        1\n",
      "wdq_29  0.0000        1\n",
      "wdq_30  4.2489    0.834\n",
      "wdq_31  0.0000        1\n",
      "wdq_32  6.8452   0.5534\n",
      "wdq_33  0.0000        1\n",
      "wdq_34 13.9219   0.0838\n",
      "wdq_35 10.5261     0.23\n",
      "wdq_36  4.6761   0.7916\n",
      "wdq_37  0.0000        1\n",
      "wdq_38  0.0000        1\n",
      "wdq_39  9.4313   0.3072\n",
      "\n",
      "\n",
      "\n"
     ]
    }
   ],
   "source": [
    "# Put variable into R\n",
    "ro.globalenv['fit2pl2'] = fit2pl2\n",
    "# Run item.fit()\n",
    "itemfit = ro.r(\"item.fit(fit2pl2)\")\n",
    "print(itemfit)"
   ]
  },
  {
   "cell_type": "markdown",
   "metadata": {
    "id": "d-xMvf1TacAi"
   },
   "source": [
    "The results suggest that the entire set of items fits; none of the\n",
    "p-values is significant. Thus, no further item elimination steps are needed.\n",
    "\n",
    "### Explore the ICCs"
   ]
  },
  {
   "cell_type": "code",
   "execution_count": 28,
   "metadata": {
    "colab": {
     "base_uri": "https://localhost:8080/",
     "height": 497
    },
    "executionInfo": {
     "elapsed": 69,
     "status": "ok",
     "timestamp": 1742039233720,
     "user": {
      "displayName": "Tim Dreßler",
      "userId": "10678244503421566183"
     },
     "user_tz": -60
    },
    "id": "771l7-n3adFd",
    "outputId": "150d75d8-adf2-44aa-c1c4-84be9da84a59"
   },
   "outputs": [
    {
     "data": {
      "image/png": "[encoded data removed]",
      "text/plain": [
       "<IPython.core.display.Image object>"
      ]
     },
     "metadata": {},
     "output_type": "display_data"
    }
   ],
   "source": [
    "%%R\n",
    "plot(fit2pl2, legend=TRUE)"
   ]
  },
  {
   "cell_type": "markdown",
   "metadata": {
    "id": "sXueDOH4ahdM"
   },
   "source": [
    "Compared to the Rasch model, the striking difference is that the 2-PL ICCs are\n",
    "allowed to cross. Item locations can be displayed in the same way as in the Rasch\n",
    "model: think of a horizontal line at p = 0.5, and then drop vertical lines down to the\n",
    "x-axis from where it intersects with the ICC. We see that wdq_25 has the largest\n",
    "discrimination parameter, leading to the steepest ICC slope.\n",
    "\n",
    "### Explore the discrimination parameters"
   ]
  },
  {
   "cell_type": "code",
   "execution_count": 31,
   "metadata": {
    "colab": {
     "base_uri": "https://localhost:8080/"
    },
    "executionInfo": {
     "elapsed": 5,
     "status": "ok",
     "timestamp": 1742039252347,
     "user": {
      "displayName": "Tim Dreßler",
      "userId": "10678244503421566183"
     },
     "user_tz": -60
    },
    "id": "JDG_7dltai2D",
    "outputId": "3438e611-ab70-40ce-c644-73f77afa0d24"
   },
   "outputs": [
    {
     "name": "stdout",
     "output_type": "stream",
     "text": [
      "📐 Shape of discrimination coefficients array: (5,)\n",
      "🎯 Sorted Discrimination Coefficients (first 5 items):\n",
      "[0.668 0.736 0.822 1.157 1.561]\n",
      "\n",
      "📐 Shape of difficulty coefficients array: (5,)\n",
      "🎯 Sorted Difficulty Coefficients (first 5 items):\n",
      "[-2.113 -1.456 -1.064 -0.57  -0.387]\n"
     ]
    }
   ],
   "source": [
    "# Get the discrimination coefficients for the first 5 items (column 2)\n",
    "disc_coeffs_r = ro.r(\"sort(round(coef(fit2pl2)[1:5, 2], 3))\") #Column 2 is the discrimination parameter\n",
    "diff_coeffs_r = ro.r(\"sort(round(coef(fit2pl2)[1:5, 1], 3))\") #Column 1 is the difficulty parameter\n",
    "\n",
    "# Convert to NumPy array for easier handling\n",
    "disc_coeffs = np.array(disc_coeffs_r)\n",
    "diff_coeffs = np.array(diff_coeffs_r)\n",
    "\n",
    "# Print shape and content\n",
    "print(f\"📐 Shape of discrimination coefficients array: {disc_coeffs.shape}\")\n",
    "print(\"🎯 Sorted Discrimination Coefficients (first 5 items):\")\n",
    "print(disc_coeffs)\n",
    "\n",
    "print()\n",
    "\n",
    "print(f\"📐 Shape of difficulty coefficients array: {diff_coeffs.shape}\")\n",
    "print(\"🎯 Sorted Difficulty Coefficients (first 5 items):\")\n",
    "print(diff_coeffs)"
   ]
  },
  {
   "cell_type": "markdown",
   "metadata": {
    "id": "i0ZfRD4PdSGV"
   },
   "source": [
    "“Good” discrimination parameters are typically in the range from 0.8 to 2.5 (de\n",
    "Ayala, 2009), and within this range we prefer items with higher discrimination. \n",
    "Outside this range, the ICCs are either too flat (such items do not\n",
    "discriminate well along the entire continuum) or too steep (such items discriminate\n",
    "only within a very narrow trait range). One can see again that wdq_25 has the largest\n",
    "discrimination parameter.\n",
    "\n",
    "### Estimate person parameters\n",
    "\n",
    "Since the 2-PL fits, we can compute the person parameters."
   ]
  },
  {
   "cell_type": "code",
   "execution_count": 32,
   "metadata": {
    "colab": {
     "base_uri": "https://localhost:8080/"
    },
    "executionInfo": {
     "elapsed": 10277,
     "status": "ok",
     "timestamp": 1742039352532,
     "user": {
      "displayName": "Tim Dreßler",
      "userId": "10678244503421566183"
     },
     "user_tz": -60
    },
    "id": "NmmKNZHkdS4G",
    "outputId": "d239c919-c866-4324-9755-6e4e48649f47"
   },
   "outputs": [
    {
     "name": "stdout",
     "output_type": "stream",
     "text": [
      "[-2.55273404 -2.20716547 -1.84482957 -0.94047876 -1.36764477]\n"
     ]
    }
   ],
   "source": [
    "ppars = ro.r(\"factor.scores(fit2pl2, resp_patterns=RWDQsub)$score.dat[, 'z1']\")\n",
    "print(ppars[:5])"
   ]
  },
  {
   "cell_type": "markdown",
   "metadata": {
    "id": "tzfM1qLYe-UN"
   },
   "source": [
    "## 4. Three-parameter logistic model\n",
    "\n",
    "Let us add another parameter which brings us to the three-parameter\n",
    "logistic model (3-PL; Birnbaum, 1968). The new parameter $γ_i$ reflects the probability of a 1-response on item i due to chance\n",
    "alone and is often referred to as pseudo-guessing parameter. With respect to the\n",
    "ICCs, it reflects a lower asymptote parameter. That is, even someone with infinite\n",
    "low ability has a certain probability to score 1 on item i. These probabilities vary\n",
    "across items. With the 3-PL, we create a model that is even more flexible than the\n",
    "2-PL, but still, unidimensionality and local independence need to be fulfilled.\n",
    "\n",
    "### The dataset\n",
    "\n",
    "To illustrate a 3-PL model fit, we reproduce some of the analyses carried out\n",
    "in Wilmer et al. (2012). Within the context of a face recognition experiment, they\n",
    "presented the Verbal Paired-Associates Memory Test (VPMT; Woolley et al., 2008)\n",
    "to the participants. The authors used a 3-PL since their main goal was to score the\n",
    "persons, rather than being strict on the item side in terms of eliminating items. Let\n",
    "us load the dataset and extract the 25 VPMT items.\n",
    "\n",
    "### Load and inspect the data\n",
    "\n",
    "Before fitting the model we need to drop the first columns as it is not related to items responses."
   ]
  },
  {
   "cell_type": "code",
   "execution_count": 33,
   "metadata": {
    "id": "NQlEur1FfHB3"
   },
   "outputs": [],
   "source": [
    "# Load the data\n",
    "ro.r(\"data(Wilmer)\")\n",
    "\n",
    "# Get as DataFrame\n",
    "Wilmer = pandas2ri.rpy2py(ro.globalenv['Wilmer'])\n",
    "\n",
    "# Drop the first two columns\n",
    "VPMT = Wilmer.drop(Wilmer.columns[0:2], axis=1)\n",
    "\n",
    "# Put bariable into R\n",
    "ro.globalenv['VPMT'] = pandas2ri.py2rpy(VPMT)"
   ]
  },
  {
   "cell_type": "markdown",
   "metadata": {
    "id": "JRRz9IPBgNKR"
   },
   "source": [
    "### Fit the model"
   ]
  },
  {
   "cell_type": "code",
   "execution_count": null,
   "metadata": {
    "colab": {
     "base_uri": "https://localhost:8080/"
    },
    "executionInfo": {
     "elapsed": 8333,
     "status": "ok",
     "timestamp": 1742039786344,
     "user": {
      "displayName": "Tim Dreßler",
      "userId": "10678244503421566183"
     },
     "user_tz": -60
    },
    "id": "GOBW5bB9gPDR",
    "outputId": "a830d7ca-1dc5-4717-b72d-4c167e4eb688"
   },
   "outputs": [
    {
     "name": "stdout",
     "output_type": "stream",
     "text": [
      "\n",
      "Call:\n",
      "tpm(data = VPMT)\n",
      "\n",
      "Coefficients:\n",
      "        Gussng  Dffclt  Dscrmn\n",
      "vpmt1    0.071  -0.216   1.531\n",
      "vpmt2    0.280   1.020   1.736\n",
      "vpmt3    0.384   1.527   1.763\n",
      "vpmt4    0.103   0.470   1.264\n",
      "vpmt5    0.023  -0.299   1.247\n",
      "vpmt6    0.135   0.504   1.192\n",
      "vpmt7    0.229   0.747   1.702\n",
      "vpmt8    0.238   0.679   1.412\n",
      "vpmt9    0.278   1.350   1.584\n",
      "vpmt10   0.233   0.248   1.588\n",
      "vpmt11   0.271   0.840   1.360\n",
      "vpmt12   0.264   0.754   2.173\n",
      "vpmt13   0.296   1.513   2.466\n",
      "vpmt14   0.191   1.889   1.455\n",
      "vpmt15   0.183   0.660   1.374\n",
      "vpmt16   0.088   0.319   1.561\n",
      "vpmt17   0.386   0.590   2.500\n",
      "vpmt18   0.214   0.629   1.705\n",
      "vpmt19   0.193   0.792   1.579\n",
      "vpmt20   0.264   0.362   1.965\n",
      "vpmt21   0.178   0.725   2.278\n",
      "vpmt22   0.167   1.091   2.774\n",
      "vpmt23   0.295   0.788   1.973\n",
      "vpmt24   0.235   0.641   1.607\n",
      "vpmt25   0.180   0.743   1.769\n",
      "\n",
      "Log.Lik: -23078.57\n",
      "\n",
      "\n"
     ]
    }
   ],
   "source": [
    "fit3pl = ro.r(\"tpm(VPMT)\")\n",
    "\n",
    "# Put bariable into R\n",
    "ro.globalenv['fit3pl'] = pandas2ri.py2rpy(fit3pl)\n",
    "\n",
    "print(fit3pl)"
   ]
  },
  {
   "cell_type": "markdown",
   "metadata": {
    "id": "aWxCzDyYhGtR"
   },
   "source": [
    "In addition to the item locations and the discrimination parameters, we get\n",
    "pseudo-guessing parameters.\n",
    "\n",
    "### Explore the ICCs\n",
    "\n",
    "The ICCs for the first six items can be plotted as follows:"
   ]
  },
  {
   "cell_type": "code",
   "execution_count": null,
   "metadata": {
    "colab": {
     "base_uri": "https://localhost:8080/",
     "height": 497
    },
    "executionInfo": {
     "elapsed": 38,
     "status": "ok",
     "timestamp": 1742039788571,
     "user": {
      "displayName": "Tim Dreßler",
      "userId": "10678244503421566183"
     },
     "user_tz": -60
    },
    "id": "DuaUiiwnhKi0",
    "outputId": "06314ad9-f83a-488f-c96f-385c918f8709"
   },
   "outputs": [
    {
     "data": {
      "image/png": "[encoded data removed]",
      "text/plain": [
       "<IPython.core.display.Image object>"
      ]
     },
     "metadata": {},
     "output_type": "display_data"
    }
   ],
   "source": [
    "%%R\n",
    "plot(fit3pl, item=1:6, legend=TRUE)"
   ]
  },
  {
   "cell_type": "markdown",
   "metadata": {
    "id": "El2e0_dwhK0k"
   },
   "source": [
    "We see the effect of the γ -parameters in\n",
    "terms of lower ICC asymptotes. Item 3 has the largest pseudo-guessing parameter.\n",
    "As in the 2-PL, the ICCs are allowed to cross due to the α’s in the model."
   ]
  }
 ],
 "metadata": {
  "colab": {
   "provenance": [
    {
     "file_id": "1shSM8oE3V3nElvkpfKPtfJNamsVKnTSR",
     "timestamp": 1741293629262
    },
    {
     "file_id": "1oY59GO8mlzEJZlf-csY2pKRUXDCCIMFo",
     "timestamp": 1741164113567
    },
    {
     "file_id": "1_Hdy9GX2W03RQoKnijnEid9-KJzzTmJi",
     "timestamp": 1740862927421
    }
   ]
  },
  "kernelspec": {
   "display_name": "psy126",
   "language": "python",
   "name": "python3"
  },
  "language_info": {
   "codemirror_mode": {
    "name": "ipython",
    "version": 3
   },
   "file_extension": ".py",
   "mimetype": "text/x-python",
   "name": "python",
   "nbconvert_exporter": "python",
   "pygments_lexer": "ipython3",
   "version": "3.13.2"
  }
 },
 "nbformat": 4,
 "nbformat_minor": 0
}
