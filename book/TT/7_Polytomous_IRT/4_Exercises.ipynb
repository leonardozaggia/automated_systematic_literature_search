{
 "cells": [
  {
   "cell_type": "markdown",
   "id": "54345f6f",
   "metadata": {},
   "source": [
    "# 5.5 Exercises\n",
    "## Polytomous IRT\n",
    "This week, we will do some exercises on Item Response Theory with polytomous data."
   ]
  },
  {
   "cell_type": "markdown",
   "id": "f947dc7d",
   "metadata": {},
   "source": [
    "## 1️⃣ RSM Model Comparison\n",
    "**Instructions:**\n",
    "1. Fit a new RSM model (`fitrsm3`) using the original `CEAQ` data (including items 10 and 15).\n",
    "2. Compare the item fit statistics (`ifit3`) of `fitrsm3` to those of `fitrsm2` (the model without items 10 and 15). Are there any noticeable differences?\n",
    "3. Conduct Andersen's LR-test on `fitrsm3` using the `gradevec` splitting criterion. Does the model fit improve or worsen compared to `fitrsm2`? "
   ]
  },
  {
   "cell_type": "code",
   "execution_count": null,
   "id": "6d2b90de",
   "metadata": {},
   "outputs": [],
   "source": [
    "# Import packages\n",
    "\n",
    "# Fit the model\n",
    "ro.r(...)\n",
    "\n",
    "# Get person parameters\n",
    "ppar3 = ro.r(...)\n",
    "\n",
    "# Get item fit\n",
    "ifit03 = ro.r(...)\n",
    "print(ifit03)\n",
    "\n",
    "ro.r(...)\n",
    "ro.r(...)\n",
    "\n",
    "ro.r(...)\n",
    "\n",
    "LRtest2 = ro.r(...)\n",
    "print(LRtest2)"
   ]
  },
  {
   "cell_type": "markdown",
   "id": "c9fc8274",
   "metadata": {},
   "source": [
    "## 2️⃣ Exercise PCM Item Difficulty Comparison\n",
    "**Instructions:**\n",
    "1. Extract the item location parameters (difficulty) from the `fitpcm` model.\n",
    "2. Identify the two items with the highest and lowest difficulty parameters.\n",
    "3. Plot the item characteristic curves (`ICCs`) for these two items on the same graph.\n",
    "4. Interpret the plot. How do the `ICCs` reflect the difference in difficulty between the two items? Discuss which regions of the latent trait the items target and how their curves differ in steepness and peak probability"
   ]
  },
  {
   "cell_type": "code",
   "execution_count": null,
   "id": "c2ec2f3b",
   "metadata": {},
   "outputs": [],
   "source": [
    "# Import packages\n",
    "\n",
    "# Load the data in R\n",
    "ro.r(...)\n",
    "\n",
    "# Convert data to a Pandas df\n",
    "ASTI = pandas2ri.rpy2py(ro.globalenv['ASTI'])\n",
    "\n",
    "# Extract PG items\n",
    "PGitems = ASTI.iloc[:, [10, 13, 14, 16, 17, 22]]\n",
    "\n",
    "# Inspect the dataset\n",
    "print(...)\n",
    "\n",
    "# Put data back into R\n",
    "ro.globalenv...\n",
    "\n",
    "\n",
    "ro.r(...)\n",
    "thresh = ro.r(\"thresholds(fitpcm)\")\n",
    "print(thresh) # Item ASTI23 & ASTI14 (highest & lowest threshold 2)"
   ]
  },
  {
   "cell_type": "code",
   "execution_count": null,
   "id": "0a270992",
   "metadata": {},
   "outputs": [],
   "source": [
    "# Plot ICCs in R\n",
    "%%R\n",
    "plotICC(...)"
   ]
  },
  {
   "cell_type": "code",
   "execution_count": null,
   "id": "d21936dc",
   "metadata": {},
   "outputs": [],
   "source": [
    "%%R\n",
    "plotICC(...)"
   ]
  },
  {
   "cell_type": "markdown",
   "id": "96f2f348",
   "metadata": {},
   "source": [
    "## 3️⃣ GPCM Discrimination Exploration\n",
    "**Instructions:**\n",
    "1. Extract the item discrimination parameters (`disc`) from the `stgpcm` model.\n",
    "2. Identify the item with the highest discrimination parameter.\n",
    "3. Identify the item with the worst discrimination paramenter.\n",
    "4. Plot the two item and compare them."
   ]
  },
  {
   "cell_type": "code",
   "execution_count": null,
   "id": "f2677ab5",
   "metadata": {},
   "outputs": [],
   "source": [
    "# Import packages\n",
    "\n",
    "# Load the data in R\n",
    "ro.r(...)\n",
    "\n",
    "# Convert data to a Pandas df\n",
    "ASTI = pandas2ri.rpy2py(ro.globalenv['ASTI'])\n",
    "\n",
    "# Extract ST items\n",
    "STitems = ASTI.iloc[:, [1,3,6,12,15,23,24]]\n",
    "\n",
    "# Inspect the dataset\n",
    "print(...)\n",
    "\n",
    "# Put data back into R\n",
    "ro.globalenv...\n",
    "\n",
    "# Fit the model\n",
    "ro.r(...)\n",
    "\n",
    "# Extract discrimination parameters\n",
    "coeffs = ro.r('stgpcm$coef')\n",
    "print(coeffs)\n",
    "\n",
    "# If we don't want to select the maximum and minimum by hand:\n",
    "# Convert R list to Python dictionary\n",
    "coeffs_dict = {key: list(value) for key, value in zip(coeffs.names, coeffs)}\n",
    "\n",
    "# Extract last value of each discrimination parameter\n",
    "disc_para = pd.DataFrame({'disc': [values[-1] for values in coeffs_dict.values()]})\n",
    "\n",
    "# Display the final DataFrame\n",
    "print(disc_para)\n",
    "\n",
    "# Find max and min discrimination values\n",
    "max_disc = disc_para.loc...\n",
    "min_disc = disc_para.loc...\n",
    "\n",
    "# Print results\n",
    "print(\"Max Discrimination Parameter:\")\n",
    "print(max_disc)\n",
    "\n",
    "print(\"\\nMin Discrimination Parameter:\")\n",
    "print(min_disc)"
   ]
  },
  {
   "cell_type": "code",
   "execution_count": null,
   "id": "17ccfe0d",
   "metadata": {},
   "outputs": [],
   "source": [
    "# Plot ICCs in R\n",
    "%%R\n",
    "plot(..., main = \"ICC GPCM\", items =...) # maximum dscm parameter. Watchout: R starts counting at 1"
   ]
  },
  {
   "cell_type": "code",
   "execution_count": null,
   "id": "4d7b47c2",
   "metadata": {},
   "outputs": [],
   "source": [
    "%%R\n",
    "plot(..., main = \"ICC GPCM\", items = ...) # minimum dscm parameter. Watchout: R starts counting at 1"
   ]
  }
 ],
 "metadata": {
  "language_info": {
   "name": "python"
  }
 },
 "nbformat": 4,
 "nbformat_minor": 5
}
