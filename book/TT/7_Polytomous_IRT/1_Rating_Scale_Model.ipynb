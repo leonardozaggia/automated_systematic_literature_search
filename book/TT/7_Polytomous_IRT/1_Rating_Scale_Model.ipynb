{
 "cells": [
  {
   "cell_type": "markdown",
   "id": "a85611d7",
   "metadata": {},
   "source": [
    "# 5.1 Rating Scale Model (RSM)\n",
    "\n",
    "As in the Rasch model, $θ_v$ denotes the person parameter\n",
    "(the latent trait or ability being measured) and $β_i$ the item location\n",
    "parameter (corresponding to item's difficulty), here again written as easiness\n",
    "parameter in order to be consistent with the\n",
    "specification used in the `eRm` package. Each category h gets a category parameter\n",
    "ωh, constant across items. This means that item differences are solely reflected by\n",
    "the shifts in $β_i$ across items. Belonging to the Rasch family, the RSM shares all the\n",
    "desirable Rasch measurement properties. The downside is that the model is pretty\n",
    "strict since the same assumptions need to be fulfilled as in the Rasch model.\n",
    "\n",
    "## The dataset\n",
    "\n",
    "To illustrate an RSM fit, we use data analyzed in Bond and Fox (2015). The\n",
    "Children’s Empathic Attitudes Questionnaire (CEAQ; Funk et al., 2008) is a 16-\n",
    "item scale to measure empathy of late elementary and middle school-aged children.\n",
    "Each item has three ordered responses: “no” (1), “maybe” (2), and “yes” (3). The\n",
    "sample size is n = 208. Three covariates (age, gender, grade) were collected as\n",
    "well. Let us extract the items and set the lowest category to 0 in order to make it\n",
    "`eRm` compatible ().\n",
    "\n",
    "## Load, prepare and inspect the dataset"
   ]
  },
  {
   "cell_type": "code",
   "execution_count": 12,
   "id": "395d586a",
   "metadata": {},
   "outputs": [
    {
     "name": "stdout",
     "output_type": "stream",
     "text": [
      "The rpy2.ipython extension is already loaded. To reload it, use:\n",
      "  %reload_ext rpy2.ipython\n",
      "\n",
      "\n",
      "Python & R packages imported successfully.\n"
     ]
    }
   ],
   "source": [
    "# Imports\n",
    "import numpy as np\n",
    "import pandas as pd\n",
    "from rpy2 import robjects as ro\n",
    "from rpy2.robjects import pandas2ri, numpy2ri\n",
    "from rpy2.robjects.packages import importr\n",
    "from jupyterquiz import display_quiz\n",
    "\n",
    "\n",
    "# Miscellaneous\n",
    "pandas2ri.activate()\n",
    "numpy2ri.activate()\n",
    "ro.r('set.seed(123)')\n",
    "%load_ext rpy2.ipython\n",
    "\n",
    "# R imports\n",
    "importr('mirt')      # Quick fix if future (mirt dependency) is not installed automatically: ro.r('install.packages(\"future\", repos=\"https://cloud.r-project.org\")')\n",
    "importr('MPsychoR')\n",
    "importr('eRm')\n",
    "importr('ltm')\n",
    "\n",
    "print(\"\\n\\n\" + \"Python & R packages imported successfully.\")"
   ]
  },
  {
   "cell_type": "code",
   "execution_count": 3,
   "id": "58b65220",
   "metadata": {},
   "outputs": [
    {
     "data": {
      "text/html": [
       "<div>\n",
       "<style scoped>\n",
       "    .dataframe tbody tr th:only-of-type {\n",
       "        vertical-align: middle;\n",
       "    }\n",
       "\n",
       "    .dataframe tbody tr th {\n",
       "        vertical-align: top;\n",
       "    }\n",
       "\n",
       "    .dataframe thead th {\n",
       "        text-align: right;\n",
       "    }\n",
       "</style>\n",
       "<table border=\"1\" class=\"dataframe\">\n",
       "  <thead>\n",
       "    <tr style=\"text-align: right;\">\n",
       "      <th></th>\n",
       "      <th>ceaq1</th>\n",
       "      <th>ceaq2</th>\n",
       "      <th>ceaq3</th>\n",
       "      <th>ceaq4</th>\n",
       "      <th>ceaq5</th>\n",
       "      <th>ceaq6</th>\n",
       "      <th>ceaq7</th>\n",
       "      <th>ceaq8</th>\n",
       "      <th>ceaq9</th>\n",
       "      <th>ceaq10</th>\n",
       "      <th>ceaq11</th>\n",
       "      <th>ceaq12</th>\n",
       "      <th>ceaq13</th>\n",
       "      <th>ceaq14</th>\n",
       "      <th>ceaq15</th>\n",
       "      <th>ceaq16</th>\n",
       "    </tr>\n",
       "  </thead>\n",
       "  <tbody>\n",
       "    <tr>\n",
       "      <th>1</th>\n",
       "      <td>2.0</td>\n",
       "      <td>2.0</td>\n",
       "      <td>2.0</td>\n",
       "      <td>1.0</td>\n",
       "      <td>2.0</td>\n",
       "      <td>0.0</td>\n",
       "      <td>2.0</td>\n",
       "      <td>2.0</td>\n",
       "      <td>1.0</td>\n",
       "      <td>2.0</td>\n",
       "      <td>2.0</td>\n",
       "      <td>2.0</td>\n",
       "      <td>1.0</td>\n",
       "      <td>2.0</td>\n",
       "      <td>2.0</td>\n",
       "      <td>2.0</td>\n",
       "    </tr>\n",
       "    <tr>\n",
       "      <th>2</th>\n",
       "      <td>1.0</td>\n",
       "      <td>2.0</td>\n",
       "      <td>2.0</td>\n",
       "      <td>2.0</td>\n",
       "      <td>2.0</td>\n",
       "      <td>1.0</td>\n",
       "      <td>2.0</td>\n",
       "      <td>2.0</td>\n",
       "      <td>0.0</td>\n",
       "      <td>2.0</td>\n",
       "      <td>2.0</td>\n",
       "      <td>2.0</td>\n",
       "      <td>0.0</td>\n",
       "      <td>2.0</td>\n",
       "      <td>2.0</td>\n",
       "      <td>2.0</td>\n",
       "    </tr>\n",
       "    <tr>\n",
       "      <th>3</th>\n",
       "      <td>2.0</td>\n",
       "      <td>2.0</td>\n",
       "      <td>2.0</td>\n",
       "      <td>1.0</td>\n",
       "      <td>2.0</td>\n",
       "      <td>1.0</td>\n",
       "      <td>2.0</td>\n",
       "      <td>0.0</td>\n",
       "      <td>2.0</td>\n",
       "      <td>2.0</td>\n",
       "      <td>1.0</td>\n",
       "      <td>2.0</td>\n",
       "      <td>1.0</td>\n",
       "      <td>2.0</td>\n",
       "      <td>2.0</td>\n",
       "      <td>2.0</td>\n",
       "    </tr>\n",
       "    <tr>\n",
       "      <th>4</th>\n",
       "      <td>2.0</td>\n",
       "      <td>1.0</td>\n",
       "      <td>2.0</td>\n",
       "      <td>2.0</td>\n",
       "      <td>1.0</td>\n",
       "      <td>2.0</td>\n",
       "      <td>2.0</td>\n",
       "      <td>0.0</td>\n",
       "      <td>0.0</td>\n",
       "      <td>2.0</td>\n",
       "      <td>2.0</td>\n",
       "      <td>2.0</td>\n",
       "      <td>0.0</td>\n",
       "      <td>2.0</td>\n",
       "      <td>1.0</td>\n",
       "      <td>2.0</td>\n",
       "    </tr>\n",
       "    <tr>\n",
       "      <th>5</th>\n",
       "      <td>2.0</td>\n",
       "      <td>1.0</td>\n",
       "      <td>2.0</td>\n",
       "      <td>2.0</td>\n",
       "      <td>1.0</td>\n",
       "      <td>0.0</td>\n",
       "      <td>2.0</td>\n",
       "      <td>2.0</td>\n",
       "      <td>0.0</td>\n",
       "      <td>2.0</td>\n",
       "      <td>1.0</td>\n",
       "      <td>2.0</td>\n",
       "      <td>1.0</td>\n",
       "      <td>2.0</td>\n",
       "      <td>1.0</td>\n",
       "      <td>2.0</td>\n",
       "    </tr>\n",
       "  </tbody>\n",
       "</table>\n",
       "</div>"
      ],
      "text/plain": [
       "   ceaq1  ceaq2  ceaq3  ceaq4  ceaq5  ceaq6  ceaq7  ceaq8  ceaq9  ceaq10  \\\n",
       "1    2.0    2.0    2.0    1.0    2.0    0.0    2.0    2.0    1.0     2.0   \n",
       "2    1.0    2.0    2.0    2.0    2.0    1.0    2.0    2.0    0.0     2.0   \n",
       "3    2.0    2.0    2.0    1.0    2.0    1.0    2.0    0.0    2.0     2.0   \n",
       "4    2.0    1.0    2.0    2.0    1.0    2.0    2.0    0.0    0.0     2.0   \n",
       "5    2.0    1.0    2.0    2.0    1.0    0.0    2.0    2.0    0.0     2.0   \n",
       "\n",
       "   ceaq11  ceaq12  ceaq13  ceaq14  ceaq15  ceaq16  \n",
       "1     2.0     2.0     1.0     2.0     2.0     2.0  \n",
       "2     2.0     2.0     0.0     2.0     2.0     2.0  \n",
       "3     1.0     2.0     1.0     2.0     2.0     2.0  \n",
       "4     2.0     2.0     0.0     2.0     1.0     2.0  \n",
       "5     1.0     2.0     1.0     2.0     1.0     2.0  "
      ]
     },
     "execution_count": 3,
     "metadata": {},
     "output_type": "execute_result"
    }
   ],
   "source": [
    "# Load the data in R\n",
    "ro.r(\"data(CEAQ)\")\n",
    "\n",
    "# Get as DataFrame\n",
    "CEAQ = pandas2ri.rpy2py(ro.globalenv['CEAQ'])\n",
    "\n",
    "# Subtract 1 from every response to make the dataset eRm compatible\n",
    "itceaq = CEAQ.iloc[:, :16] - 1\n",
    "\n",
    "# Inspect the dataset\n",
    "itceaq.head()\n"
   ]
  },
  {
   "cell_type": "markdown",
   "id": "0a03cd8f",
   "metadata": {},
   "source": [
    "### Fit the model"
   ]
  },
  {
   "cell_type": "markdown",
   "id": "02bf7b80",
   "metadata": {},
   "source": [
    "\n",
    "When evaluating item fit in polytomous Rasch-family models such as the **Rating Scale Model (RSM)**, it is necessary to compute person parameters using the `person.parameter()` function before calling `itemfit()`. This is a crucial step because the `itemfit()` function assesses item-level model fit by comparing the **observed** item responses to their **expected** values under the model. \n",
    "\n",
    "These expectations are calculated with respect to each individual's **latent trait level (θ)**—which is not known in advance but must be estimated. The `person.parameter()` function takes the fitted model object (e.g., from `RSM()`) and computes these ability estimates for each respondent, taking into account the structure of the RSM, where all items share the same set of step parameters.\n",
    "\n",
    "Once these person parameters are estimated, they can be used to evaluate how well each item conforms to the expectations of the Rating Scale Model. This includes residual-based statistics like infit and outfit mean squares. Without the `person.parameter()` object, `itemfit()` lacks the necessary trait estimates to perform its computations.\n"
   ]
  },
  {
   "cell_type": "code",
   "execution_count": 4,
   "id": "ad4b870e",
   "metadata": {},
   "outputs": [
    {
     "name": "stdout",
     "output_type": "stream",
     "text": [
      "\n",
      "Itemfit Statistics: \n",
      "         Chisq  df p-value Outfit MSQ Infit MSQ Outfit t Infit t Discrim\n",
      "ceaq1  210.938 205   0.373      1.024     0.918    0.201  -0.704   0.504\n",
      "ceaq2  190.205 205   0.763      0.923     0.897   -0.496  -0.977   0.549\n",
      "ceaq3  259.718 205   0.006      1.261     0.966    1.305  -0.215   0.396\n",
      "ceaq4  222.146 205   0.196      1.078     0.995    0.724  -0.024   0.289\n",
      "ceaq5  167.622 205   0.974      0.814     0.864   -1.576  -1.471   0.511\n",
      "ceaq6  191.085 205   0.749      0.928     0.914   -0.764  -1.055   0.407\n",
      "ceaq7  162.424 205   0.987      0.788     0.886   -1.506  -1.074   0.588\n",
      "ceaq8  146.463 205   0.999      0.711     0.738   -3.409  -3.523   0.622\n",
      "ceaq9  181.586 205   0.879      0.881     0.891   -1.311  -1.373   0.512\n",
      "ceaq10 380.868 205   0.000      1.849     1.650    3.959   4.549  -0.044\n",
      "ceaq11 149.579 205   0.999      0.726     0.753   -3.297  -3.342   0.635\n",
      "ceaq12 192.132 205   0.731      0.933     0.980   -0.424  -0.151   0.589\n",
      "ceaq13 188.073 205   0.796      0.913     0.924   -0.886  -0.909   0.513\n",
      "ceaq14 232.512 205   0.091      1.129     1.206    0.752   1.614   0.422\n",
      "ceaq15 249.571 205   0.018      1.212     1.166    1.883   1.830   0.264\n",
      "ceaq16 184.072 205   0.850      0.894     0.920   -0.930  -0.879   0.482\n",
      "\n",
      "\n"
     ]
    }
   ],
   "source": [
    "# Put data back into R\n",
    "ro.globalenv['itceaq'] = itceaq\n",
    "\n",
    "# Fit the model and get person parameters in R\n",
    "ro.r(\"\"\"\n",
    "fitrsm <- RSM(itceaq)\n",
    "ppar2 <- person.parameter(fitrsm)\n",
    "ifit0 <- eRm::itemfit(ppar2)\n",
    "\"\"\")\n",
    "ifit0 = ro.r(\"ifit0\")\n",
    "print(ifit0)"
   ]
  },
  {
   "cell_type": "markdown",
   "id": "11325bad",
   "metadata": {},
   "source": [
    "\n",
    "The output above presents item-level fit statistics from a Rating Scale Model (RSM). Each row corresponds to an item, and the columns report several indicators of model-data fit. Since the degrees of freedom (*df*) are constant across items (df = 205), the chi-square (*χ²*) p-values are directly comparable. However, it is important to note that chi-square statistics are sensitive to sample size and often exhibit **inflated Type I error rates**. This can lead to **false positives**—that is, the incorrect identification of misfitting items.\n",
    "\n",
    "More reliable indicators of item fit in practice are the **mean square (MSQ)** statistics:\n",
    "\n",
    "- **Outfit MSQ**: Measures unexpected responses, especially those that are far from a person’s estimated ability. It is sensitive to outliers.\n",
    "- **Infit MSQ**: Focuses on unexpected responses near a person’s ability level and is more robust to outliers. Therefore, infit is often preferred.\n",
    "\n",
    "Both fit indices should ideally fall within the range of **[0.7, 1.3]**. Values:\n",
    "- **Below 0.7** suggest overfit (i.e., responses are too predictable),\n",
    "- **Above 1.3** suggest underfit (i.e., noise or unexplained variance in responses).\n",
    "\n",
    "Additionally, **standardized t-values** are provided for both outfit and infit. These values convert the MSQ statistics into approximate z-scores and should ideally lie within the range of **[−2, 2]**.\n",
    "\n",
    "**Note**: The `Discrim` values in the output are post hoc diagnostic indicators of item–trait alignment and do not reflect freely estimated discrimination parameters, as discrimination is fixed in the RSM.\n",
    "\n",
    "---\n",
    "\n",
    "### Evaluating Misfitting Items\n",
    "\n",
    "From the table above:\n",
    "\n",
    "- **Item 10 (`ceaq10`)** shows strong evidence of misfit:  \n",
    "  - χ² p-value = 0.000 (significant),\n",
    "  - Outfit MSQ = 1.849 and Infit MSQ = 1.650 (both well above the acceptable range),\n",
    "  - t-values for both infit and outfit exceed 3.9,\n",
    "  - Discrimination is negative (−0.044), suggesting it may be performing poorly overall.\n",
    "\n",
    "- **Item 3 (`ceaq3`)** and **Item 15 (`ceaq15`)** also raise concerns:  \n",
    "  - `ceaq3` has a significant p-value (0.006), with outfit MSQ = 1.261 and t = 1.305,\n",
    "  - `ceaq15` has p = 0.018, infit MSQ = 1.166, and t-values nearing ±2.\n",
    "\n",
    "- **Items 8 and 11 (`ceaq8`, `ceaq11`)** exhibit very low MSQ values and t-values below −3, suggesting **overfit**. While overfit is less problematic than underfit, it may indicate overly constrained response behavior.\n",
    "\n",
    "Overall, **Items 10, 3, 15, 8, and 11** warrant closer inspection. They may require revision or removal depending on substantive considerations and further psychometric evaluation.\n",
    "\n",
    "For now, let us eliminate item 10 and item 15 and refit the model:\n"
   ]
  },
  {
   "cell_type": "code",
   "execution_count": 5,
   "id": "8358df5e",
   "metadata": {},
   "outputs": [
    {
     "name": "stdout",
     "output_type": "stream",
     "text": [
      "\n",
      "Itemfit Statistics: \n",
      "         Chisq  df p-value Outfit MSQ Infit MSQ Outfit t Infit t Discrim\n",
      "ceaq1  225.051 205   0.161      1.092     0.979    0.583  -0.143   0.495\n",
      "ceaq2  207.044 205   0.447      1.005     0.937    0.084  -0.566   0.553\n",
      "ceaq3  266.737 205   0.002      1.295     1.018    1.362   0.183   0.412\n",
      "ceaq4  261.178 205   0.005      1.268     1.111    2.166   1.200   0.273\n",
      "ceaq5  181.898 205   0.876      0.883     0.938   -0.904  -0.617   0.501\n",
      "ceaq6  205.813 205   0.471      0.999     0.971    0.024  -0.320   0.408\n",
      "ceaq7  164.570 205   0.983      0.799     0.922   -1.345  -0.705   0.593\n",
      "ceaq8  148.237 205   0.999      0.720     0.763   -3.126  -3.044   0.623\n",
      "ceaq9  188.180 205   0.794      0.913     0.936   -0.871  -0.763   0.508\n",
      "ceaq11 156.431 205   0.995      0.759     0.792   -2.679  -2.683   0.621\n",
      "ceaq12 193.162 205   0.713      0.938     0.983   -0.363  -0.126   0.611\n",
      "ceaq13 185.197 205   0.836      0.899     0.931   -0.956  -0.806   0.526\n",
      "ceaq14 252.851 205   0.013      1.227     1.275    1.177   2.087   0.422\n",
      "ceaq16 198.036 205   0.624      0.961     0.982   -0.289  -0.160   0.481\n",
      "\n",
      "\n"
     ]
    }
   ],
   "source": [
    "# Subset the dataset to remove items 10 and 15\n",
    "itceaqsub = itceaq.drop(itceaq.columns[[9,14]], axis=1)\n",
    "\n",
    "# Put data back into R\n",
    "ro.globalenv['itceaqsub'] = itceaqsub\n",
    "\n",
    "# Fit the model\n",
    "ro.r(\"fitrsm2 <- RSM(itceaqsub)\")\n",
    "\n",
    "# Get person parameters\n",
    "ppar2 = ro.r(\"ppar2 <- person.parameter(fitrsm2)\")\n",
    "\n",
    "# Get item fit\n",
    "ifit02 = ro.r(\"eRm::itemfit(ppar2)\")\n",
    "print(ifit02)"
   ]
  },
  {
   "cell_type": "markdown",
   "id": "11680ecc",
   "metadata": {},
   "source": [
    "\n",
    "In this updated model run, no items exhibit the same combination of significant p-values *and* extreme misfit statistics observed previously (e.g., item 10). However, **items 3, 4, and 14** still present **significant chi-square p-values** (p < 0.05), which could indicate **potential misfit** with respect to the assumptions of the RSM.\n",
    "\n",
    "This misfit could suggest that these items are **not functioning uniformly** across all levels of the latent trait—possibly measuring a slightly different or additional construct. However, this interpretation must be tempered by examining other fit statistics.\n",
    "\n",
    "Notably:\n",
    "- The **Infit and Outfit MSQ values** for these items remain within the acceptable range of **[0.7, 1.3]**.\n",
    "- The **standardized t-values** also remain largely within the recommended bounds of **[−2, 2]**, except for item 4’s infit t (2.087), which marginally exceeds this range.\n",
    "- The **Discrimination indices** for all three items remain positive and comparable to other items, suggesting they still contribute to differentiating respondents along the latent trait.\n",
    "\n",
    "Taken together, while the chi-square statistics alone flag these items, the absence of corroborating misfit in the more robust indicators (infit/outfit MSQ and t-values) suggests that **these items may still be retained**. This reflects a common psychometric judgment: significant p-values in isolation—especially when multiple comparisons are made—do not necessarily indicate problematic items, particularly when other indices support acceptable fit.\n",
    "\n",
    "## Andersen’s LRtest()\n",
    "\n",
    "Let us double-check the model fit using **Andersen’s LR-test**, which has better\n",
    "inferential properties than the itemfit statistics. It's a statistical test\n",
    "that assesses whether the item parameters are consistent across different groups\n",
    "of respondents (in this case, we use grade as splitting criterion).\n",
    "\n",
    "Note that we have some missing grade and gender values, for simplicity we will discard every participant that has missing values. We will also reinitialize our variable to make sure we are working with the updated dataset from now on."
   ]
  },
  {
   "cell_type": "code",
   "execution_count": 6,
   "id": "51d26522",
   "metadata": {},
   "outputs": [],
   "source": [
    "# Discard all participants with missing data \n",
    "CEAQ = CEAQ.replace(-2147483648, np.nan)      # Replace -2147483648 with NaN\n",
    "CEAQ = CEAQ.dropna()                          # Drop rows with NaN values\n",
    "itceaq = CEAQ.iloc[:, :16] - 1                # Subtract 1 from every response to make the dataset eRm compatible\n",
    "itceaqsub = itceaq.drop(itceaq.columns[[9,14]], axis=1) # Drop items 10 and 15\n",
    "\n",
    "# Put data back into R\n",
    "ro.globalenv['CEAQ'] = CEAQ              \n",
    "ro.globalenv['itceaq'] = itceaq          \n",
    "ro.globalenv['itceaqsub'] = itceaqsub    "
   ]
  },
  {
   "cell_type": "code",
   "execution_count": 7,
   "id": "bff0b3c2",
   "metadata": {},
   "outputs": [
    {
     "name": "stdout",
     "output_type": "stream",
     "text": [
      "[3.0, 1.0, 3.0, 3.0, 3.0, ..., 2.0, 2.0, 3.0, 3.0, 2.0]\n",
      "Length: 187\n",
      "Categories (4, float64): [1.0, 2.0, 3.0, 4.0]\n"
     ]
    }
   ],
   "source": [
    "gradevec = pd.Categorical(CEAQ['grade'])      # Convert 'grade' column to categorical\n",
    "print(gradevec)"
   ]
  },
  {
   "cell_type": "markdown",
   "id": "90dc287f",
   "metadata": {},
   "source": [
    "With the next code we binarize `gradevec` and compute the LR-test using the `LRtest()` function. The following code chunk is creating two groups (grades 1-2 and grades 3-4) to compare item parameters between these *two* groups."
   ]
  },
  {
   "cell_type": "markdown",
   "id": "97c5c3fa",
   "metadata": {},
   "source": [
    "---\n",
    "<details>\n",
    "<summary> Alternative: Using vanilla python </summary>\n",
    "\n",
    "Alternatively you can simply loop through the items of gradevec and assign either `grade12` or `grade34` without needing to use any pandas function, see the following:\n",
    "\n",
    "\n",
    "```python\n",
    "# Using the for loop\n",
    "gradevec_bin = []\n",
    "for i, g in enumerate(gradevec):\n",
    "    if gradevec[i] in [1.0, 2.0]:\n",
    "        gradevec_bin.append('grade12')\n",
    "    else:\n",
    "        gradevec_bin.append('grade34')\n",
    "\n",
    "```\n",
    "\n",
    "\n",
    "Using *line comprenhension* for a more sleek look:\n",
    "```python\n",
    "# Line Comprehension\n",
    "gradevec_bin = ['grade12' if g in [1.0, 2.0] else 'grade34' for g in gradevec]\n",
    "gradevec_bin = pd.Categorical(gradevec_bin)  # Don't forget to turn gradevec_bin into a categorical variable\n",
    "```\n",
    "</details> \n",
    "\n",
    "---"
   ]
  },
  {
   "cell_type": "code",
   "execution_count": 8,
   "id": "9009048a",
   "metadata": {},
   "outputs": [
    {
     "name": "stdout",
     "output_type": "stream",
     "text": [
      "['grade34', 'grade12', 'grade34', 'grade34', 'grade34', ..., 'grade12', 'grade12', 'grade34', 'grade34', 'grade12']\n",
      "Length: 187\n",
      "Categories (2, object): ['grade12', 'grade34']\n"
     ]
    },
    {
     "name": "stderr",
     "output_type": "stream",
     "text": [
      "C:\\Users\\maku1542\\AppData\\Local\\Temp\\ipykernel_18564\\1239552924.py:2: FutureWarning: The default value of 'ignore' for the `na_action` parameter in pandas.Categorical.map is deprecated and will be changed to 'None' in a future version. Please set na_action to the desired value to avoid seeing this warning\n",
      "  gradevec_bin = gradevec.map({1.0: 'grade12', 2.0: 'grade12', 3.0: 'grade34', 4.0: 'grade34'})\n"
     ]
    }
   ],
   "source": [
    "# Binarize the 'grade' vector\n",
    "gradevec_bin = gradevec.map({1.0: 'grade12', 2.0: 'grade12', 3.0: 'grade34', 4.0: 'grade34'})\n",
    "gradevec_bin = pd.Categorical(gradevec_bin, categories=['grade12', 'grade34'])\n",
    "print(gradevec_bin)"
   ]
  },
  {
   "cell_type": "code",
   "execution_count": null,
   "id": "6590e157",
   "metadata": {},
   "outputs": [
    {
     "name": "stdout",
     "output_type": "stream",
     "text": [
      "\n",
      "Andersen LR-test: \n",
      "LR-value: 15.848 \n",
      "Chi-square df: 14 \n",
      "p-value:  0.323 \n",
      "\n",
      "\n"
     ]
    }
   ],
   "source": [
    "# Put clean data back into R\n",
    "ro.globalenv['CEAQ'] = CEAQ                   \n",
    "ro.globalenv['gradevec'] = gradevec_bin       \n",
    "\n",
    "# Fit the model again on the new cleaned data in R\n",
    "ro.r(\"fitrsm2 <- RSM(itceaqsub)\")\n",
    "\n",
    "LRtest1 = ro.r(\"LRtest(fitrsm2, gradevec)\")\n",
    "print(LRtest1)"
   ]
  },
  {
   "cell_type": "markdown",
   "id": "157548ee",
   "metadata": {},
   "source": [
    "### Interpretation\n",
    "**Chi-square test decision rule**:\n",
    "- Null hypothesis (H₀): Item parameters are invariant across groups (Rasch model holds).\n",
    "\n",
    "- Alternative hypothesis (H₁): Item parameters differ across groups (Rasch model does not hold).\n",
    "\n",
    "Since the `p-value: 0.323` is greater than the conventional alpha level (e.g., 0.05), we fail to reject the null hypothesis.\n",
    "\n"
   ]
  },
  {
   "cell_type": "markdown",
   "id": "8efc8d25",
   "metadata": {},
   "source": [
    "## WaldTest()\n",
    "\n",
    "An alternative method for evaluating item-category fit is the `Waldtest()` function, \n",
    "which provides a *p-value* for each **threshold** (item-category) parameter.\n",
    "Interpreting results where some parameters for an item are significant while others are not can be nuanced. \n",
    "Whether to retain or remove such items depends on the desired strictness of model fit and the flexibility in item selection for scale construction.\n",
    "\n",
    "As a general *rule of thumb*, significant *p-values* suggest that certain item-category thresholds deviate meaningfully from the average, \n",
    "indicating that the RSM's assumption of uniform category thresholds may not fully hold.\n"
   ]
  },
  {
   "cell_type": "code",
   "execution_count": 10,
   "id": "91a473f0",
   "metadata": {},
   "outputs": [
    {
     "name": "stdout",
     "output_type": "stream",
     "text": [
      "\n",
      "Wald test on item level (z-values):\n",
      "\n",
      "               z-statistic p-value\n",
      "beta ceaq1.c1        0.486   0.627\n",
      "beta ceaq1.c2       -0.012   0.991\n",
      "beta ceaq2.c1       -0.013   0.989\n",
      "beta ceaq2.c2       -0.523   0.601\n",
      "beta ceaq3.c1       -0.410   0.682\n",
      "beta ceaq3.c2       -0.862   0.389\n",
      "beta ceaq4.c1       -1.275   0.202\n",
      "beta ceaq4.c2       -1.707   0.088\n",
      "beta ceaq5.c1        0.112   0.911\n",
      "beta ceaq5.c2       -0.426   0.670\n",
      "beta ceaq6.c1       -2.044   0.041\n",
      "beta ceaq6.c2       -2.183   0.029\n",
      "beta ceaq7.c1        0.269   0.788\n",
      "beta ceaq7.c2       -0.257   0.797\n",
      "beta ceaq8.c1       -1.117   0.264\n",
      "beta ceaq8.c2       -1.501   0.133\n",
      "beta ceaq9.c1       -0.681   0.496\n",
      "beta ceaq9.c2       -1.063   0.288\n",
      "beta ceaq11.c1       1.043   0.297\n",
      "beta ceaq11.c2       0.348   0.728\n",
      "beta ceaq12.c1       2.646   0.008\n",
      "beta ceaq12.c2       2.075   0.038\n",
      "beta ceaq13.c1       0.161   0.872\n",
      "beta ceaq13.c2      -0.355   0.723\n",
      "beta ceaq14.c1       0.454   0.650\n",
      "beta ceaq14.c2       0.005   0.996\n",
      "beta ceaq16.c1      -0.365   0.715\n",
      "beta ceaq16.c2      -0.878   0.380\n",
      "\n",
      "\n"
     ]
    }
   ],
   "source": [
    "fitWald = ro.r(\"Waldtest(fitrsm2, gradevec)\")\n",
    "print(fitWald)"
   ]
  },
  {
   "cell_type": "markdown",
   "id": "1fc38a0d",
   "metadata": {},
   "source": [
    "Still, the overall fit of the model and the other item fit statistics indicate that the RSM is still a reasonable model given the data at hand.\n",
    "\n",
    "## Inspect and interpret item paramters"
   ]
  },
  {
   "cell_type": "code",
   "execution_count": 75,
   "id": "4dd33d11",
   "metadata": {},
   "outputs": [
    {
     "name": "stdout",
     "output_type": "stream",
     "text": [
      "\n",
      "Results of RSM estimation: \n",
      "\n",
      "Call:  RSM(X = itceaqsub) \n",
      "\n",
      "Conditional log-likelihood: -1565.379 \n",
      "Number of iterations: 19 \n",
      "Number of parameters: 14 \n",
      "\n",
      "Item (Category) Difficulty Parameters (eta):\n",
      "              ceaq2      ceaq3     ceaq4      ceaq5     ceaq6      ceaq7\n",
      "Estimate -0.6863777 -1.2712365 0.0155642 -0.3647469 1.3268268 -0.6065978\n",
      "Std.Err   0.1379881  0.1606748 0.1209737  0.1288561 0.1181625  0.1355097\n",
      "             ceaq8     ceaq9    ceaq11     ceaq12    ceaq13     ceaq14\n",
      "Estimate 0.6347949 1.3268268 0.9692035 -0.7273839 1.5426362 -1.2988594\n",
      "Std.Err  0.1149212 0.1181625 0.1151861  0.1393175 0.1212466  0.1619545\n",
      "             ceaq16     Cat 2\n",
      "Estimate 0.06187617 1.5198971\n",
      "Std.Err  0.12022888 0.1138046\n",
      "\n",
      "\n",
      "\n"
     ]
    }
   ],
   "source": [
    "fitrsm2 = ro.globalenv[\"fitrsm2\"]\n",
    "print(fitrsm2)                    # alternatively, you can use `ro.r(\"summary(fitrsm2)\")` to get a summary of the model fit"
   ]
  },
  {
   "cell_type": "markdown",
   "id": "ebe4dbb1",
   "metadata": {},
   "source": [
    "### threshold()\n",
    "\n",
    "In this example, let us proceed with the `fitrsm2` model. The item parameters\n",
    "shown above in the print or summary output are difficult to interpret. Let us convert\n",
    "them into **threshold** parameters. \\\n",
    "The **threshold** parameters are more intuitive because they represent the points on the latent trait scale where the probability of responding in a higher category exceeds the probability of responding in a lower category."
   ]
  },
  {
   "cell_type": "code",
   "execution_count": null,
   "id": "a2adcbff",
   "metadata": {},
   "outputs": [
    {
     "name": "stdout",
     "output_type": "stream",
     "text": [
      "\n",
      "Design Matrix Block 1:\n",
      "       Location Threshold 1 Threshold 2\n",
      "ceaq1  -0.16252    -0.89441     0.56937\n",
      "ceaq2   0.07934    -0.65255     0.81122\n",
      "ceaq3  -0.58160    -1.31348     0.15029\n",
      "ceaq4   0.73797     0.00608     1.46986\n",
      "ceaq5   0.46689    -0.26500     1.19878\n",
      "ceaq6   2.04031     1.30842     2.77219\n",
      "ceaq7   0.04391    -0.68798     0.77579\n",
      "ceaq8   1.38216     0.65027     2.11405\n",
      "ceaq9   1.92245     1.19056     2.65434\n",
      "ceaq11  1.71188     0.97999     2.44377\n",
      "ceaq12  0.06169    -0.67020     0.79358\n",
      "ceaq13  2.26829     1.53640     3.00018\n",
      "ceaq14 -0.39327    -1.12516     0.33862\n",
      "ceaq16  0.66895    -0.06294     1.40084\n",
      "\n",
      "\n"
     ]
    }
   ],
   "source": [
    "thpar = ro.r(\"thresholds(fitrsm2)\")\n",
    "print(thpar)"
   ]
  },
  {
   "cell_type": "markdown",
   "id": "94a769f8",
   "metadata": {},
   "source": [
    "### Interpreting Parameters in Polytomous Rasch Models\n",
    "\n",
    "In polytomous Rasch models, each item is associated with a **location parameter** and *k − 1* **threshold parameters**, where *k* is the number of response categories for that item. The **location parameter** reflects the overall difficulty or position of the item on the latent trait continuum (e.g., empathy). In contrast, the **threshold parameters** correspond to specific points along the trait continuum at which a respondent is equally likely to choose between two adjacent categories. For instance, the first threshold marks the point at which a respondent transitions from scoring 0 to scoring 1, the second from 1 to 2 (and so on if we had more than three categories).\n",
    "\n",
    "While the location parameter summarizes the item’s general difficulty, the threshold parameters capture the relative difficulty of progressing between adjacent response categories.\n",
    "\n",
    "Visualizing these dynamics is possible using the `plotICC()` function, which generates **Item Category Characteristic Curves**. For polytomous items, each curve represents the probability of endorsing a particular category as a function of the respondent's position on the latent trait. Let us illustrate this by plotting the ICC for the first item.\n"
   ]
  },
  {
   "cell_type": "code",
   "execution_count": 76,
   "id": "d7e83aad",
   "metadata": {},
   "outputs": [
    {
     "data": {
      "image/png": "[encoded data removed]",
      "text/plain": [
       "<IPython.core.display.Image object>"
      ]
     },
     "metadata": {},
     "output_type": "display_data"
    }
   ],
   "source": [
    "%%R\n",
    "plotICC(fitrsm2, item.subset = 1)"
   ]
  },
  {
   "cell_type": "markdown",
   "id": "f3b71cc3",
   "metadata": {},
   "source": [
    "Another plotting option, which summarizes nicely the entire set of parameter\n",
    "estimates, is the Person–Item Map (PI-map)."
   ]
  },
  {
   "cell_type": "code",
   "execution_count": 77,
   "id": "3125f73d",
   "metadata": {},
   "outputs": [
    {
     "data": {
      "image/png": "[encoded data removed]",
      "text/plain": [
       "<IPython.core.display.Image object>"
      ]
     },
     "metadata": {},
     "output_type": "display_data"
    }
   ],
   "source": [
    "%%R\n",
    "plotPImap(fitrsm2, latdim = \"Empathy\", main = \"Person-Item Map CEAQ\")"
   ]
  },
  {
   "cell_type": "markdown",
   "id": "fef83090",
   "metadata": {},
   "source": [
    "\n",
    "The PI-map illustrates a central feature of the RSM: differences between items arise solely from **location shifts**. That is, a common set of threshold parameters is estimated across all items, and each item's scale is shifted along the latent trait continuum according to its location parameter. \n",
    "\n",
    "This reflects the RSM's core assumption that the **distances between response categories are uniform across items**, meaning that all items share the same rating structure. While this simplifies model estimation and interpretation, it is a **strong assumption** that may not always align with how respondents use rating categories in practice. This constraint will be relaxed in the next section, where more flexible models are introduced.\n",
    "\n",
    "### Test Your Understanding"
   ]
  },
  {
   "cell_type": "code",
   "execution_count": null,
   "id": "427700b1",
   "metadata": {},
   "outputs": [
    {
     "data": {
      "text/html": [
       "<div id=\"mFqSZnkluvee\" data-shufflequestions=\"False\" data-shuffleanswers=\"True\" data-preserveresponses=\"false\" data-numquestions=\"1000000\" data-maxwidth=\"600\" style=\"border-radius: 10px; text-align: left\"><style>\n",
       "#mFqSZnkluvee {\n",
       "   --jq-multiple-choice-bg: #6f78ffff;\n",
       "   --jq-mc-button-bg: #fafafa;\n",
       "   --jq-mc-button-border: #e0e0e0e0;\n",
       "   --jq-mc-button-inset-shadow: #555555;\n",
       "   --jq-many-choice-bg: #f75c03ff;\n",
       "   --jq-numeric-bg: #392061ff;\n",
       "   --jq-numeric-input-bg: #c0c0c0;\n",
       "   --jq-numeric-input-label: #101010;\n",
       "   --jq-numeric-input-shadow: #999999;\n",
       "   --jq-string-bg: #4c1a57;\n",
       "   --jq-incorrect-color: #c80202;\n",
       "   --jq-correct-color: #009113;\n",
       "   --jq-text-color: #fafafa;\n",
       "}\n",
       "\n",
       ".Quiz {\n",
       "    max-width: 600px;\n",
       "    margin-top: 15px;\n",
       "    margin-left: auto;\n",
       "    margin-right: auto;\n",
       "/*    margin-bottom: 15px;*/\n",
       "/*    padding-bottom: 4px;*/\n",
       "    padding-top: 4px;\n",
       "    line-height: 1.1;\n",
       "    font-size: 16pt;\n",
       "    border-radius: inherit;\n",
       "}\n",
       "\n",
       ".QuizCode {\n",
       "    font-size: 14pt;\n",
       "    margin-top: 10px;\n",
       "    margin-left: 20px;\n",
       "    margin-right: 20px;\n",
       "}\n",
       "\n",
       ".QuizCode>pre {\n",
       "    padding: 4px;\n",
       "}\n",
       "\n",
       ".Quiz code {\n",
       "    background-color: lightgray;\n",
       "    color: black;\n",
       "}\n",
       "\n",
       ".Quiz .QuizCode code {\n",
       "    background-color: inherit;\n",
       "    color: inherit;\n",
       "}\n",
       "\n",
       "\n",
       ".Quiz .MCButton code {\n",
       "    background-color: inherit;\n",
       "    color: inherit;\n",
       "}\n",
       "\n",
       ".MCButton .QuizCode {\n",
       "    text-align: left;\n",
       "}\n",
       "\n",
       "\n",
       "\n",
       "\n",
       ".Answer {\n",
       "    border-radius: inherit;\n",
       "    display: grid;\n",
       "    grid-gap: 10px;\n",
       "    grid-template-columns: 1fr 1fr;\n",
       "    margin: 10px 0;\n",
       "}\n",
       "\n",
       "@media only screen and (max-width:480px) {\n",
       "    .Answer {\n",
       "        grid-template-columns: 1fr;\n",
       "    }\n",
       "\n",
       "}\n",
       "\n",
       ".Feedback {\n",
       "    font-size: 16pt;\n",
       "    text-align: center;\n",
       "/*    min-height: 2em;*/\n",
       "}\n",
       "\n",
       ".Input {\n",
       "    align: left;\n",
       "    font-size: 20pt;\n",
       "}\n",
       "\n",
       ".Input-text {\n",
       "    display: block;\n",
       "    margin: 10px;\n",
       "    color: inherit;\n",
       "    width: unset;\n",
       "    min-width: 140px;\n",
       "    max-width: 93%;\n",
       "    field-sizing: content;\n",
       "    background-color: var(--jq-numeric-input-bg);\n",
       "    color: var(--jq-text-color);\n",
       "    padding: 5px;\n",
       "    padding-left: 10px;\n",
       "    font-family: inherit;\n",
       "    font-size: 20px;\n",
       "    font-weight: inherit;\n",
       "    line-height: 20pt;\n",
       "    border: none;\n",
       "    border-radius: 0.2rem;\n",
       "    transition: box-shadow 0.1s);\n",
       "}\n",
       "\n",
       ".Input-text:focus {\n",
       "    /*outline: none;*/\n",
       "    background-color: var(--jq-numeric-input-bg);\n",
       "    box-shadow: 0.6rem 0.8rem 1.4rem -0.5rem var(--jq-numeric-input-shadow);\n",
       "}\n",
       "\n",
       ".MCButton {\n",
       "    background: var(--jq-mc-button-bg);\n",
       "    border: 1px solid var(--jq-mc-button-border);\n",
       "    border-radius: inherit;\n",
       "    color: #333333;\n",
       "    padding: 10px;\n",
       "    font-size: 16px;\n",
       "    cursor: pointer;\n",
       "    text-align: center;\n",
       "    display: flex;\n",
       "    align-items: center;\n",
       "    justify-content: center;\n",
       "}\n",
       "\n",
       ".MCButton p {\n",
       "    color: inherit;\n",
       "}\n",
       "\n",
       ".MultipleChoiceQn {\n",
       "    padding: 10px;\n",
       "    background: var(--jq-multiple-choice-bg);\n",
       "    color: var(--jq-text-color);\n",
       "    border-radius: inherit;\n",
       "}\n",
       "\n",
       ".ManyChoiceQn {\n",
       "    padding: 10px;\n",
       "    background: var(--jq-many-choice-bg);\n",
       "    color: var(--jq-text-color);\n",
       "    border-radius: inherit;\n",
       "}\n",
       "\n",
       ".NumericQn {\n",
       "    background: var(--jq-numeric-bg);\n",
       "    border-radius: inherit;\n",
       "    color: var(--jq-text-color);\n",
       "    padding: 10px;\n",
       "}\n",
       "\n",
       ".NumericQn p {\n",
       "    color: inherit;\n",
       "}\n",
       "\n",
       ".StringQn {\n",
       "    background: var(--jq-string-bg);\n",
       "    border-radius: inherit;\n",
       "    color: var(--jq-text-color);\n",
       "    padding: 10px;\n",
       "}\n",
       "\n",
       ".StringQn p {\n",
       "    color: inherit;\n",
       "}\n",
       "\n",
       "\n",
       ".InpLabel {\n",
       "    color: var(--jq-numeric-input-label);\n",
       "    float: left;\n",
       "    font-size: 15pt;\n",
       "    line-height: 34px;\n",
       "    margin-right: 10px;\n",
       "}\n",
       "\n",
       ".incorrect {\n",
       "    color: var(--jq-incorrect-color);\n",
       "}\n",
       "\n",
       ".correct {\n",
       "    color: var(--jq-correct-color);\n",
       "}\n",
       "\n",
       ".correctButton {\n",
       "    /*\n",
       "    background: var(--jq-correct-color);\n",
       "   */\n",
       "    animation: correct-anim 0.6s ease;\n",
       "    animation-fill-mode: forwards;\n",
       "    box-shadow: inset 0 0 5px var(--jq-mc-button-inset-shadow);\n",
       "    color: var(--jq-text-color);\n",
       "    /*outline: none;*/\n",
       "}\n",
       "\n",
       ".incorrectButton {\n",
       "    animation: incorrect-anim 0.8s ease;\n",
       "    animation-fill-mode: forwards;\n",
       "    box-shadow: inset 0 0 5px var(--jq-mc-button-inset-shadow);\n",
       "    color: var(--jq-text-color);\n",
       "    /*outline: none;*/\n",
       "}\n",
       "\n",
       "@keyframes incorrect-anim {\n",
       "    100% {\n",
       "        background-color: var(--jq-incorrect-color);\n",
       "    }\n",
       "}\n",
       "\n",
       "@keyframes correct-anim {\n",
       "    100% {\n",
       "        background-color: var(--jq-correct-color);\n",
       "    }\n",
       "}\n",
       "</style>"
      ],
      "text/plain": [
       "<IPython.core.display.HTML object>"
      ]
     },
     "metadata": {},
     "output_type": "display_data"
    },
    {
     "data": {
      "application/javascript": "var questionsmFqSZnkluvee=[\n  {\n    \"question\": \"Based on the threshold parameter output, which item appears to be the easiest?\",\n    \"type\": \"multiple_choice\",\n    \"answers\": [\n      {\n        \"answer\": \"The item with the lowest threshold value.\",\n        \"correct\": true\n      },\n      {\n        \"answer\": \"The item with the lowest location value.\",\n        \"correct\": true\n      },\n      {\n        \"answer\": \"The item with the most evenly distributed thresholds.\",\n        \"correct\": false\n      },\n      {\n        \"answer\": \"The item with the highest item–person correlation.\",\n        \"correct\": false\n      }\n    ]\n  },\n  {\n    \"question\": \"Referring to the person–item map, how can you identify a respondent with a particularly high level of empathy?\",\n    \"type\": \"multiple_choice\",\n    \"answers\": [\n      {\n        \"answer\": \"They are located far above the item thresholds on the latent trait scale.\",\n        \"correct\": true\n      },\n      {\n        \"answer\": \"They are located near the average item thresholds.\",\n        \"correct\": false\n      },\n      {\n        \"answer\": \"They are located below most item thresholds on the map.\",\n        \"correct\": false\n      },\n      {\n        \"answer\": \"Their answers are evenly distributed across items.\",\n        \"correct\": false\n      }\n    ]\n  }\n]\n;\n\nif (typeof Question === 'undefined') {\n// Make a random ID\nfunction makeid(length) {\n    var result = [];\n    var characters = 'ABCDEFGHIJKLMNOPQRSTUVWXYZabcdefghijklmnopqrstuvwxyz';\n    var charactersLength = characters.length;\n    for (var i = 0; i < length; i++) {\n        result.push(characters.charAt(Math.floor(Math.random() * charactersLength)));\n    }\n    return result.join('');\n}\n// Convert LaTeX delimiters and markdown links to HTML\nfunction jaxify(string) {\n    let mystring = string;\n    let count = 0, count2 = 0;\n    let loc = mystring.search(/([^\\\\]|^)(\\$)/);\n    let loc2 = mystring.search(/([^\\\\]|^)(\\$\\$)/);\n    while (loc >= 0 || loc2 >= 0) {\n        if (loc2 >= 0) {\n            mystring = mystring.replace(/([^\\\\]|^)(\\$\\$)/, count2 % 2 ? '$1\\\\]' : '$1\\\\[');\n            count2++;\n        } else {\n            mystring = mystring.replace(/([^\\\\]|^)(\\$)/, count % 2 ? '$1\\\\)' : '$1\\\\(');\n            count++;\n        }\n        loc = mystring.search(/([^\\\\]|^)(\\$)/);\n        loc2 = mystring.search(/([^\\\\]|^)(\\$\\$)/);\n    }\n    // Replace markdown links\n    mystring = mystring.replace(/<http(.*?)>/g, '<a href=\"http$1\" target=\"_blank\" class=\"Link\">http$1</a>');\n    mystring = mystring.replace(/\\[(.*?)\\]\\((.*?)\\)/g, '<a href=\"$2\" target=\"_blank\" class=\"Link\">$1</a>');\n    return mystring;\n}\n\n// Base class for question types\nclass Question {\n    static registry = {};\n    static register(type, cls) {\n        Question.registry[type] = cls;\n    }\n    static create(qa, id, index, options, rootDiv) {\n        const Cls = Question.registry[qa.type];\n        if (!Cls) {\n            console.error(`No question class registered for type \"${qa.type}\"`);\n            return;\n        }\n        const q = new Cls(qa, id, index, options, rootDiv);\n        q.render();\n    }\n\n    constructor(qa, id, index, options, rootDiv) {\n        this.qa = qa;\n        this.id = id;\n        this.index = index;\n        this.options = options;\n        this.rootDiv = rootDiv;\n        // wrapper\n        this.wrapper = document.createElement('div');\n        this.wrapper.id = `quizWrap${id}`;\n        this.wrapper.className = 'Quiz';\n        this.wrapper.dataset.qnum = index;\n        this.wrapper.style.maxWidth = `${options.maxWidth}px`;\n        rootDiv.appendChild(this.wrapper);\n        // question container\n        this.outerqDiv = document.createElement('div');\n        this.outerqDiv.id = `OuterquizQn${id}${index}`;\n        this.wrapper.appendChild(this.outerqDiv);\n        // question text\n        this.qDiv = document.createElement('div');\n        this.qDiv.id = `quizQn${id}${index}`;\n        if (qa.question) {\n            this.qDiv.innerHTML = jaxify(qa.question);\n            this.outerqDiv.appendChild(this.qDiv);\n        }\n        // code block\n        if (qa.code) {\n            const codeDiv = document.createElement('div');\n            codeDiv.id = `code${id}${index}`;\n            codeDiv.className = 'QuizCode';\n            const pre = document.createElement('pre');\n            const codeEl = document.createElement('code');\n            codeEl.innerHTML = qa.code;\n            pre.appendChild(codeEl);\n            codeDiv.appendChild(pre);\n            this.outerqDiv.appendChild(codeDiv);\n        }\n        // answer container\n        this.aDiv = document.createElement('div');\n        this.aDiv.id = `quizAns${id}${index}`;\n        this.aDiv.className = 'Answer';\n        this.wrapper.appendChild(this.aDiv);\n        // feedback container (append after answers)\n        this.fbDiv = document.createElement('div');\n        this.fbDiv.id = `fb${id}`;\n        this.fbDiv.className = 'Feedback';\n        this.fbDiv.dataset.answeredcorrect = 0;\n    }\n\n    render() {\n        throw new Error('render() not implemented');\n    }\n\n    preserveResponse(val) {\n        if (!this.options.preserveResponses) return;\n        const resp = document.getElementById(`responses${this.rootDiv.id}`);\n        if (!resp) return;\n        const arr = JSON.parse(resp.dataset.responses);\n        arr[this.index] = val;\n        resp.dataset.responses = JSON.stringify(arr);\n        printResponses(resp);\n    }\n\n    typeset(container) {\n        if (typeof MathJax !== 'undefined') {\n            const v = MathJax.version;\n            if (v[0] === '2') {\n                MathJax.Hub.Queue(['Typeset', MathJax.Hub]);\n            } else {\n                MathJax.typeset([container]);\n            }\n        }\n    }\n}\n\n// Choose a random subset of an array. Can also be used to shuffle the array\nfunction getRandomSubarray(arr, size) {\n    var shuffled = arr.slice(0), i = arr.length, temp, index;\n    while (i--) {\n        index = Math.floor((i + 1) * Math.random());\n        temp = shuffled[index];\n        shuffled[index] = shuffled[i];\n        shuffled[i] = temp;\n    }\n    return shuffled.slice(0, size);\n}\n\nfunction printResponses(responsesContainer) {\n    var responses=JSON.parse(responsesContainer.dataset.responses);\n    var stringResponses='<B>IMPORTANT!</B>To preserve this answer sequence for submission, when you have finalized your answers: <ol> <li> Copy the text in this cell below \"Answer String\"</li> <li> Double click on the cell directly below the Answer String, labeled \"Replace Me\"</li> <li> Select the whole \"Replace Me\" text</li> <li> Paste in your answer string and press shift-Enter.</li><li>Save the notebook using the save icon or File->Save Notebook menu item</li></ul><br><br><br><b>Answer String:</b><br> ';\n    console.log(responses);\n    responses.forEach((response, index) => {\n        if (response) {\n            console.log(index + ': ' + response);\n            stringResponses+= index + ': ' + response +\"<BR>\";\n        }\n    });\n    responsesContainer.innerHTML=stringResponses;\n}\n/* Callback function to determine whether a selected multiple-choice\n   button corresponded to a correct answer and to provide feedback\n   based on the answer */\nfunction check_mc() {\n    var id = this.id.split('-')[0];\n    //var response = this.id.split('-')[1];\n    //console.log(response);\n    //console.log(\"In check_mc(), id=\"+id);\n    //console.log(event.srcElement.id)           \n    //console.log(event.srcElement.dataset.correct)   \n    //console.log(event.srcElement.dataset.feedback)\n\n    var label = event.srcElement;\n    //console.log(label, label.nodeName);\n    var depth = 0;\n    while ((label.nodeName != \"LABEL\") && (depth < 20)) {\n        label = label.parentElement;\n        console.log(depth, label);\n        depth++;\n    }\n\n\n\n    var answers = label.parentElement.children;\n    //console.log(answers);\n\n    // Split behavior based on multiple choice vs many choice:\n    var fb = document.getElementById(\"fb\" + id);\n\n\n\n    /* Multiple choice (1 answer). Allow for 0 correct\n       answers as an edge case */\n    if (fb.dataset.numcorrect <= 1) {\n        // What follows is for the saved responses stuff\n        var outerContainer = fb.parentElement.parentElement;\n        var responsesContainer = document.getElementById(\"responses\" + outerContainer.id);\n        if (responsesContainer) {\n            //console.log(responsesContainer);\n            var response = label.firstChild.innerText;\n            if (label.querySelector(\".QuizCode\")){\n                response+= label.querySelector(\".QuizCode\").firstChild.innerText;\n            }\n            console.log(response);\n            //console.log(document.getElementById(\"quizWrap\"+id));\n            var qnum = document.getElementById(\"quizWrap\"+id).dataset.qnum;\n            console.log(\"Question \" + qnum);\n            //console.log(id, \", got numcorrect=\",fb.dataset.numcorrect);\n            var responses=JSON.parse(responsesContainer.dataset.responses);\n            console.log(responses);\n            responses[qnum]= response;\n            responsesContainer.setAttribute('data-responses', JSON.stringify(responses));\n            printResponses(responsesContainer);\n        }\n        // End code to preserve responses\n\n        for (var i = 0; i < answers.length; i++) {\n            var child = answers[i];\n            //console.log(child);\n            child.className = \"MCButton\";\n        }\n\n\n\n        if (label.dataset.correct == \"true\") {\n            // console.log(\"Correct action\");\n            if (\"feedback\" in label.dataset) {\n                fb.innerHTML = jaxify(label.dataset.feedback);\n            } else {\n                fb.innerHTML = \"Correct!\";\n            }\n            label.classList.add(\"correctButton\");\n\n            fb.className = \"Feedback\";\n            fb.classList.add(\"correct\");\n\n        } else {\n            if (\"feedback\" in label.dataset) {\n                fb.innerHTML = jaxify(label.dataset.feedback);\n            } else {\n                fb.innerHTML = \"Incorrect -- try again.\";\n            }\n            //console.log(\"Error action\");\n            label.classList.add(\"incorrectButton\");\n            fb.className = \"Feedback\";\n            fb.classList.add(\"incorrect\");\n        }\n    }\n    else { /* Many choice (more than 1 correct answer) */\n        var reset = false;\n        var feedback;\n         if (label.dataset.correct == \"true\") {\n            if (\"feedback\" in label.dataset) {\n                feedback = jaxify(label.dataset.feedback);\n            } else {\n                feedback = \"Correct!\";\n            }\n            if (label.dataset.answered <= 0) {\n                if (fb.dataset.answeredcorrect < 0) {\n                    fb.dataset.answeredcorrect = 1;\n                    reset = true;\n                } else {\n                    fb.dataset.answeredcorrect++;\n                }\n                if (reset) {\n                    for (var i = 0; i < answers.length; i++) {\n                        var child = answers[i];\n                        child.className = \"MCButton\";\n                        child.dataset.answered = 0;\n                    }\n                }\n                label.classList.add(\"correctButton\");\n                label.dataset.answered = 1;\n                fb.className = \"Feedback\";\n                fb.classList.add(\"correct\");\n\n            }\n        } else {\n            if (\"feedback\" in label.dataset) {\n                feedback = jaxify(label.dataset.feedback);\n            } else {\n                feedback = \"Incorrect -- try again.\";\n            }\n            if (fb.dataset.answeredcorrect > 0) {\n                fb.dataset.answeredcorrect = -1;\n                reset = true;\n            } else {\n                fb.dataset.answeredcorrect--;\n            }\n\n            if (reset) {\n                for (var i = 0; i < answers.length; i++) {\n                    var child = answers[i];\n                    child.className = \"MCButton\";\n                    child.dataset.answered = 0;\n                }\n            }\n            label.classList.add(\"incorrectButton\");\n            fb.className = \"Feedback\";\n            fb.classList.add(\"incorrect\");\n        }\n        // What follows is for the saved responses stuff\n        var outerContainer = fb.parentElement.parentElement;\n        var responsesContainer = document.getElementById(\"responses\" + outerContainer.id);\n        if (responsesContainer) {\n            //console.log(responsesContainer);\n            var response = label.firstChild.innerText;\n            if (label.querySelector(\".QuizCode\")){\n                response+= label.querySelector(\".QuizCode\").firstChild.innerText;\n            }\n            console.log(response);\n            //console.log(document.getElementById(\"quizWrap\"+id));\n            var qnum = document.getElementById(\"quizWrap\"+id).dataset.qnum;\n            console.log(\"Question \" + qnum);\n            //console.log(id, \", got numcorrect=\",fb.dataset.numcorrect);\n            var responses=JSON.parse(responsesContainer.dataset.responses);\n            if (label.dataset.correct == \"true\") {\n                if (typeof(responses[qnum]) == \"object\"){\n                    if (!responses[qnum].includes(response))\n                        responses[qnum].push(response);\n                } else{\n                    responses[qnum]= [ response ];\n                }\n            } else {\n                responses[qnum]= response;\n            }\n            console.log(responses);\n            responsesContainer.setAttribute('data-responses', JSON.stringify(responses));\n            printResponses(responsesContainer);\n        }\n        // End save responses stuff\n\n\n\n        var numcorrect = fb.dataset.numcorrect;\n        var answeredcorrect = fb.dataset.answeredcorrect;\n        if (answeredcorrect >= 0) {\n            fb.innerHTML = feedback + \" [\" + answeredcorrect + \"/\" + numcorrect + \"]\";\n        } else {\n            fb.innerHTML = feedback + \" [\" + 0 + \"/\" + numcorrect + \"]\";\n        }\n\n\n    }\n\n    if (typeof MathJax != 'undefined') {\n        var version = MathJax.version;\n        console.log('MathJax version', version);\n        if (version[0] == \"2\") {\n            MathJax.Hub.Queue([\"Typeset\", MathJax.Hub]);\n        } else if (version[0] == \"3\") {\n            MathJax.typeset([fb]);\n        }\n    } else {\n        console.log('MathJax not detected');\n    }\n\n}\n\n\n/* Function to produce the HTML buttons for a multiple choice/\n   many choice question  and to update the CSS tags based on\n   the question type */\nfunction make_mc(qa, shuffle_answers, outerqDiv, qDiv, aDiv, id) {\n\n    var shuffled;\n    if (shuffle_answers == true) {\n        //console.log(shuffle_answers+\" read as true\");\n        shuffled = getRandomSubarray(qa.answers, qa.answers.length);\n    } else {\n        //console.log(shuffle_answers+\" read as false\");\n        shuffled = qa.answers;\n    }\n\n\n    var num_correct = 0;\n\n    shuffled.forEach((item, index, ans_array) => {\n        //console.log(answer);\n\n        // Make input element\n        var inp = document.createElement(\"input\");\n        inp.type = \"radio\";\n        inp.id = \"quizo\" + id + index;\n        inp.style = \"display:none;\";\n        aDiv.append(inp);\n\n        //Make label for input element\n        var lab = document.createElement(\"label\");\n        lab.className = \"MCButton\";\n        lab.id = id + '-' + index;\n        lab.onclick = check_mc;\n        var aSpan = document.createElement('span');\n        aSpan.classsName = \"\";\n        //qDiv.id=\"quizQn\"+id+index;\n        if (\"answer\" in item) {\n            aSpan.innerHTML = jaxify(item.answer);\n            //aSpan.innerHTML=item.answer;\n        }\n        lab.append(aSpan);\n\n        // Create div for code inside question\n        var codeSpan;\n        if (\"code\" in item) {\n            codeSpan = document.createElement('span');\n            codeSpan.id = \"code\" + id + index;\n            codeSpan.className = \"QuizCode\";\n            var codePre = document.createElement('pre');\n            codeSpan.append(codePre);\n            var codeCode = document.createElement('code');\n            codePre.append(codeCode);\n            codeCode.innerHTML = item.code;\n            lab.append(codeSpan);\n            //console.log(codeSpan);\n        }\n\n        //lab.textContent=item.answer;\n\n        // Set the data attributes for the answer\n        lab.setAttribute('data-correct', item.correct);\n        if (item.correct) {\n            num_correct++;\n        }\n        if (\"feedback\" in item) {\n            lab.setAttribute('data-feedback', item.feedback);\n        }\n        lab.setAttribute('data-answered', 0);\n\n        aDiv.append(lab);\n\n    });\n\n    if (num_correct > 1) {\n        outerqDiv.className = \"ManyChoiceQn\";\n    } else {\n        outerqDiv.className = \"MultipleChoiceQn\";\n    }\n\n    return num_correct;\n\n}\n// Object-oriented wrapper for MC/MANY choice\nclass MCQuestion extends Question {\n    constructor(qa, id, idx, opts, rootDiv) { super(qa, id, idx, opts, rootDiv); }\n    render() {\n        //console.log(\"options.shuffleAnswers \" + this.options.shuffleAnswers);\n        const numCorrect = make_mc(\n            this.qa,\n            this.options.shuffleAnswers,\n            this.outerqDiv,\n            this.qDiv,\n            this.aDiv,\n            this.id\n        );\n        if ('answer_cols' in this.qa) {\n            this.aDiv.style.gridTemplateColumns =\n                'repeat(' + this.qa.answer_cols + ', 1fr)';\n        }\n        this.fbDiv.dataset.numcorrect = numCorrect;\n        this.wrapper.appendChild(this.fbDiv);\n    }\n}\nQuestion.register('multiple_choice', MCQuestion);\nQuestion.register('many_choice', MCQuestion);\nfunction check_numeric(ths, event) {\n\n    if (event.keyCode === 13) {\n        ths.blur();\n\n        var id = ths.id.split('-')[0];\n\n        var submission = ths.value;\n        if (submission.indexOf('/') != -1) {\n            var sub_parts = submission.split('/');\n            //console.log(sub_parts);\n            submission = sub_parts[0] / sub_parts[1];\n        }\n        //console.log(\"Reader entered\", submission);\n\n        if (\"precision\" in ths.dataset) {\n            var precision = ths.dataset.precision;\n            submission = Number(Number(submission).toPrecision(precision));\n        }\n\n\n        //console.log(\"In check_numeric(), id=\"+id);\n        //console.log(event.srcElement.id)           \n        //console.log(event.srcElement.dataset.feedback)\n\n        var fb = document.getElementById(\"fb\" + id);\n        fb.style.display = \"none\";\n        fb.innerHTML = \"Incorrect -- try again.\";\n\n        var answers = JSON.parse(ths.dataset.answers);\n        //console.log(answers);\n\n        var defaultFB = \"Incorrect. Try again.\";\n        var correct;\n        var done = false;\n        answers.every(answer => {\n            //console.log(answer.type);\n\n            correct = false;\n            // if (answer.type==\"value\"){\n            if ('value' in answer) {\n                var value;\n                if (\"precision\" in ths.dataset) {\n                    value = answer.value.toPrecision(ths.dataset.precision);\n                } else {\n                    value = answer.value;\n                }\n                if (submission == value) {\n                    if (\"feedback\" in answer) {\n                        fb.innerHTML = jaxify(answer.feedback);\n                    } else {\n                        fb.innerHTML = jaxify(\"Correct\");\n                    }\n                    correct = answer.correct;\n                    //console.log(answer.correct);\n                    done = true;\n                }\n\n                // } else if (answer.type==\"range\") {\n            } else if ('range' in answer) {\n                console.log(answer.range);\n                console.log(submission, submission >=answer.range[0], submission < answer.range[1])\n                if ((submission >= answer.range[0]) && (submission < answer.range[1])) {\n                    fb.innerHTML = jaxify(answer.feedback);\n                    correct = answer.correct;\n                    console.log(answer.correct);\n                    done = true;\n                }\n            } else if (answer.type == \"default\") {\n                if (\"feedback\" in answer) {\n                    defaultFB = answer.feedback;\n                } \n            }\n            if (done) {\n                return false; // Break out of loop if this has been marked correct\n            } else {\n                return true; // Keep looking for case that includes this as a correct answer\n            }\n        });\n        console.log(\"done:\", done);\n\n        if ((!done) && (defaultFB != \"\")) {\n            fb.innerHTML = jaxify(defaultFB);\n            //console.log(\"Default feedback\", defaultFB);\n        }\n\n        fb.style.display = \"block\";\n        if (correct) {\n            ths.className = \"Input-text\";\n            ths.classList.add(\"correctButton\");\n            fb.className = \"Feedback\";\n            fb.classList.add(\"correct\");\n        } else {\n            ths.className = \"Input-text\";\n            ths.classList.add(\"incorrectButton\");\n            fb.className = \"Feedback\";\n            fb.classList.add(\"incorrect\");\n        }\n\n        // What follows is for the saved responses stuff\n        var outerContainer = fb.parentElement.parentElement;\n        var responsesContainer = document.getElementById(\"responses\" + outerContainer.id);\n        if (responsesContainer) {\n            console.log(submission);\n            var qnum = document.getElementById(\"quizWrap\"+id).dataset.qnum;\n            //console.log(\"Question \" + qnum);\n            //console.log(id, \", got numcorrect=\",fb.dataset.numcorrect);\n            var responses=JSON.parse(responsesContainer.dataset.responses);\n            console.log(responses);\n            if (submission == ths.value){\n                responses[qnum]= submission;\n            } else {\n                responses[qnum]= ths.value + \"(\" + submission +\")\";\n            }\n            responsesContainer.setAttribute('data-responses', JSON.stringify(responses));\n            printResponses(responsesContainer);\n        }\n        // End code to preserve responses\n\n        if (typeof MathJax != 'undefined') {\n            var version = MathJax.version;\n            console.log('MathJax version', version);\n            if (version[0] == \"2\") {\n                MathJax.Hub.Queue([\"Typeset\", MathJax.Hub]);\n            } else if (version[0] == \"3\") {\n                MathJax.typeset([fb]);\n            }\n        } else {\n            console.log('MathJax not detected');\n        }\n        // After correct answer, if next JupyterQuiz question exists and has a text input, scroll by current question height\n        if (correct) {\n            // find the current question wrapper\n            var wrapper = ths.closest('.Quiz');\n            if (wrapper) {\n                var nextWrapper = wrapper.nextElementSibling;\n                if (nextWrapper && nextWrapper.classList.contains('Quiz')) {\n                    var nextInput = nextWrapper.querySelector('input.Input-text');\n                    if (nextInput) {\n                        var height = wrapper.getBoundingClientRect().height;\n                        console.log(height);\n                        nextInput.focus();\n                    }\n                }\n            }\n        }\n        return false;\n    }\n\n}\n// Object-oriented wrapper for numeric questions\nclass NumericQuestion extends Question {\n    constructor(qa, id, idx, opts, rootDiv) {\n        super(qa, id, idx, opts, rootDiv);\n    }\n    render() {\n        make_numeric(this.qa, this.outerqDiv, this.qDiv, this.aDiv, this.id);\n        this.wrapper.appendChild(this.fbDiv);\n    }\n}\nQuestion.register('numeric', NumericQuestion);\n\nfunction isValid(el, charC) {\n    //console.log(\"Input char: \", charC);\n    if (charC == 46) {\n        if (el.value.indexOf('.') === -1) {\n            return true;\n        } else if (el.value.indexOf('/') != -1) {\n            var parts = el.value.split('/');\n            if (parts[1].indexOf('.') === -1) {\n                return true;\n            }\n        }\n        else {\n            return false;\n        }\n    } else if (charC == 47) {\n        if (el.value.indexOf('/') === -1) {\n            if ((el.value != \"\") && (el.value != \".\")) {\n                return true;\n            } else {\n                return false;\n            }\n        } else {\n            return false;\n        }\n    } else if (charC == 45) {\n        var edex = el.value.indexOf('e');\n        if (edex == -1) {\n            edex = el.value.indexOf('E');\n        }\n\n        if (el.value == \"\") {\n            return true;\n        } else if (edex == (el.value.length - 1)) { // If just after e or E\n            return true;\n        } else {\n            return false;\n        }\n    } else if (charC == 101) { // \"e\"\n        if ((el.value.indexOf('e') === -1) && (el.value.indexOf('E') === -1) && (el.value.indexOf('/') == -1)) {\n            // Prev symbol must be digit or decimal point:\n            if (el.value.slice(-1).search(/\\d/) >= 0) {\n                return true;\n            } else if (el.value.slice(-1).search(/\\./) >= 0) {\n                return true;\n            } else {\n                return false;\n            }\n        } else {\n            return false;\n        }\n    } else {\n        if (charC > 31 && (charC < 48 || charC > 57))\n            return false;\n    }\n    return true;\n}\n\nfunction numeric_keypress(evnt) {\n    var charC = (evnt.which) ? evnt.which : evnt.keyCode;\n\n    if (charC == 13) {\n        check_numeric(this, evnt);\n    } else {\n        return isValid(this, charC);\n    }\n}\n\n\n\n\n\nfunction make_numeric(qa, outerqDiv, qDiv, aDiv, id) {\n\n\n\n    //console.log(answer);\n\n\n    outerqDiv.className = \"NumericQn\";\n    aDiv.style.display = 'block';\n\n    var lab = document.createElement(\"label\");\n    lab.className = \"InpLabel\";\n    lab.innerHTML = \"Type numeric answer here:\";\n    aDiv.append(lab);\n\n    var inp = document.createElement(\"input\");\n    inp.type = \"text\";\n    //inp.id=\"input-\"+id;\n    inp.id = id + \"-0\";\n    inp.className = \"Input-text\";\n    inp.setAttribute('data-answers', JSON.stringify(qa.answers));\n    if (\"precision\" in qa) {\n        inp.setAttribute('data-precision', qa.precision);\n    }\n    aDiv.append(inp);\n    //console.log(inp);\n\n    //inp.addEventListener(\"keypress\", check_numeric);\n    //inp.addEventListener(\"keypress\", numeric_keypress);\n    /*\n    inp.addEventListener(\"keypress\", function(event) {\n        return numeric_keypress(this, event);\n    }\n                        );\n                        */\n    //inp.onkeypress=\"return numeric_keypress(this, event)\";\n    inp.onkeypress = numeric_keypress;\n    inp.onpaste = event => false;\n\n    inp.addEventListener(\"focus\", function (event) {\n        this.value = \"\";\n        return false;\n    }\n    );\n\n\n}\n// Override show_questions to use object-oriented Question API\nfunction show_questions(json, container) {\n    // Accept container element or element ID\n    if (typeof container === 'string') {\n        container = document.getElementById(container);\n    }\n    if (!container) {\n        console.error('show_questions: invalid container', container);\n        return;\n    }\n\n    const shuffleQuestions = container.dataset.shufflequestions === 'True';\n    const shuffleAnswers = container.dataset.shuffleanswers === 'True';\n    const preserveResponses = container.dataset.preserveresponses === 'true';\n    const maxWidth = parseInt(container.dataset.maxwidth, 10) || 0;\n    let numQuestions = parseInt(container.dataset.numquestions, 10) || json.length;\n    if (numQuestions > json.length) numQuestions = json.length;\n\n    let questions = json;\n    if (shuffleQuestions || numQuestions < json.length) {\n        questions = getRandomSubarray(json, numQuestions);\n    }\n\n    questions.forEach((qa, index) => {\n        const id = makeid(8);\n        const options = {\n            shuffleAnswers: shuffleAnswers,\n            preserveResponses: preserveResponses,\n            maxWidth: maxWidth\n        };\n        Question.create(qa, id, index, options, container);\n    });\n\n    if (preserveResponses) {\n        const respDiv = document.createElement('div');\n        respDiv.id = 'responses' + container.id;\n        respDiv.className = 'JCResponses';\n        respDiv.dataset.responses = JSON.stringify([]);\n        respDiv.innerHTML = '<b>Select your answers and then follow the directions that will appear here.</b>';\n        container.appendChild(respDiv);\n    }\n\n    // Trigger MathJax typesetting if available\n    if (typeof MathJax != 'undefined') {\n        console.log(\"MathJax version\", MathJax.version);\n        var version = MathJax.version;\n        setTimeout(function(){\n            var version = MathJax.version;\n            console.log('After sleep, MathJax version', version);\n            if (version[0] == \"2\") {\n                MathJax.Hub.Queue([\"Typeset\", MathJax.Hub]);\n            } else if (version[0] == \"3\") {\n                if (MathJax.hasOwnProperty('typeset') ) {\n                    MathJax.typeset([container]);\n                } else {\n                    console.log('WARNING: Trying to force load MathJax 3');\n                    window.MathJax = {\n                        tex: {\n                            inlineMath: [['$', '$'], ['\\\\(', '\\\\)']]\n                        },\n                        svg: {\n                            fontCache: 'global'\n                        }\n                    };\n\n                    (function () {\n                        var script = document.createElement('script');\n                        script.src = 'https://cdn.jsdelivr.net/npm/mathjax@3/es5/tex-svg.js';\n                        script.async = true;\n                        document.head.appendChild(script);\n                    })();\n                }\n            }\n        }, 500);\nif (typeof version == 'undefined') {\n        } else\n        {\n            if (version[0] == \"2\") {\n                MathJax.Hub.Queue([\"Typeset\", MathJax.Hub]);\n            } else if (version[0] == \"3\") {\n                if (MathJax.hasOwnProperty('typeset') ) {\n                    MathJax.typeset([container]);\n                } else {\n                    console.log('WARNING: Trying to force load MathJax 3');\n                    window.MathJax = {\n                        tex: {\n                            inlineMath: [['$', '$'], ['\\\\(', '\\\\)']]\n                        },\n                        svg: {\n                            fontCache: 'global'\n                        }\n                    };\n\n                    (function () {\n                        var script = document.createElement('script');\n                        script.src = 'https://cdn.jsdelivr.net/npm/mathjax@3/es5/tex-svg.js';\n                        script.async = true;\n                        document.head.appendChild(script);\n                    })();\n                }\n            } else {\n                console.log(\"MathJax not found\");\n            }\n        }\n    }\n    // if (typeof MathJax !== 'undefined') {\n    //     const v = MathJax.version;\n    //     if (v[0] === '2') {\n    //         MathJax.Hub.Queue(['Typeset', MathJax.Hub]);\n    //     } else if (v[0] === '3') {\n    //         MathJax.typeset([container]);\n    //     }\n    // }\n\n    // Prevent link clicks from bubbling up\n    Array.from(container.getElementsByClassName('Link')).forEach(link => {\n        link.addEventListener('click', e => e.stopPropagation());\n    });\n}\nfunction levenshteinDistance(a, b) {\n    if (a.length === 0) return b.length;\n    if (b.length === 0) return a.length;\n\n    const matrix = Array(b.length + 1).fill(null).map(() => Array(a.length + 1).fill(null));\n\n    for (let i = 0; i <= a.length; i++) {\n        matrix[0][i] = i;\n    }\n\n    for (let j = 0; j <= b.length; j++) {\n        matrix[j][0] = j;\n    }\n\n    for (let j = 1; j <= b.length; j++) {\n        for (let i = 1; i <= a.length; i++) {\n            const cost = a[i - 1] === b[j - 1] ? 0 : 1;\n            matrix[j][i] = Math.min(\n                matrix[j - 1][i] + 1, // Deletion\n                matrix[j][i - 1] + 1, // Insertion\n                matrix[j - 1][i - 1] + cost // Substitution\n            );\n        }\n    }\n    return matrix[b.length][a.length];\n}\n// Object-oriented wrapper for string input questions\nclass StringQuestion extends Question {\n    constructor(qa, id, idx, opts, rootDiv) {\n        super(qa, id, idx, opts, rootDiv);\n    }\n    render() {\n        make_string(this.qa, this.outerqDiv, this.qDiv, this.aDiv, this.id);\n        this.wrapper.appendChild(this.fbDiv);\n    }\n}\nQuestion.register('string', StringQuestion);\n\nfunction check_string(ths, event) {\n    if (event.keyCode === 13) {\n        ths.blur();\n\n        var id = ths.id.split('-')[0];\n        var submission = ths.value.trim();\n        var fb = document.getElementById(\"fb\" + id);\n        fb.style.display = \"none\";\n        fb.innerHTML = \"Incorrect -- try again.\";\n\n        var answers = JSON.parse(ths.dataset.answers);\n        var defaultFB = \"Incorrect. Try again.\";\n        var correct;\n        var done = false;\n\n        // Handle default answer pattern: filter out and capture default feedback\n        var filteredAnswers = [];\n        answers.forEach(answer => {\n            if (answer.type === \"default\") {\n                defaultFB = answer.feedback;\n            } else {\n                filteredAnswers.push(answer);\n            }\n        });\n        answers = filteredAnswers;\n\n        answers.every(answer => {\n            correct = false;\n\n            let match = false;\n            if (answer.match_case) {\n                match = submission === answer.answer;\n            } else {\n                match = submission.toLowerCase() === answer.answer.toLowerCase();\n            }\n            console.log(submission);\n            console.log(answer.answer);\n            console.log(match);\n\n            if (match) {\n                if (\"feedback\" in answer) {\n                    fb.innerHTML = jaxify(answer.feedback);\n                } else {\n                    fb.innerHTML = jaxify(\"Correct\");\n                }\n                correct = answer.correct;\n                done = true;\n            } else if (answer.fuzzy_threshold) {\n                var max_length = Math.max(submission.length, answer.answer.length);\n                var ratio;\n                if (answer.match_case) {\n                    ratio = 1- (levenshteinDistance(submission, answer.answer) / max_length);\n                } else {\n                    ratio = 1- (levenshteinDistance(submission.toLowerCase(),\n                                                    answer.answer.toLowerCase()) / max_length);\n                }\n                if (ratio >= answer.fuzzy_threshold) {\n                    if (\"feedback\" in answer) {\n                        fb.innerHTML = jaxify(\"(Fuzzy) \" + answer.feedback);\n                    } else {\n                        fb.innerHTML = jaxify(\"Correct\");\n                    }\n                    correct = answer.correct;\n                    done = true;\n                }\n\n            }\n\n            if (done) {\n                return false;\n            } else {\n                return true;\n            }\n        });\n\n        if ((!done) && (defaultFB != \"\")) {\n            fb.innerHTML = jaxify(defaultFB);\n        }\n\n        fb.style.display = \"block\";\n        if (correct) {\n            ths.className = \"Input-text\";\n            ths.classList.add(\"correctButton\");\n            fb.className = \"Feedback\";\n            fb.classList.add(\"correct\");\n        } else {\n            ths.className = \"Input-text\";\n            ths.classList.add(\"incorrectButton\");\n            fb.className = \"Feedback\";\n            fb.classList.add(\"incorrect\");\n        }\n\n        var outerContainer = fb.parentElement.parentElement;\n        var responsesContainer = document.getElementById(\"responses\" + outerContainer.id);\n        if (responsesContainer) {\n            var qnum = document.getElementById(\"quizWrap\" + id).dataset.qnum;\n            var responses = JSON.parse(responsesContainer.dataset.responses);\n            responses[qnum] = submission;\n            responsesContainer.setAttribute('data-responses', JSON.stringify(responses));\n            printResponses(responsesContainer);\n        }\n\n        if (typeof MathJax != 'undefined') {\n            var version = MathJax.version;\n            if (version[0] == \"2\") {\n                MathJax.Hub.Queue([\"Typeset\", MathJax.Hub]);\n            } else if (version[0] == \"3\") {\n                MathJax.typeset([fb]);\n            }\n        } else {\n            console.log('MathJax not detected');\n        }\n        // After correct answer, if next JupyterQuiz question exists and has a text input, scroll by current question height\n        if (correct) {\n            var wrapper = ths.closest('.Quiz');\n            if (wrapper) {\n                var nextWrapper = wrapper.nextElementSibling;\n                if (nextWrapper && nextWrapper.classList.contains('Quiz')) {\n                    var nextInput = nextWrapper.querySelector('input.Input-text');\n                    if (nextInput) {\n                        var height = wrapper.getBoundingClientRect().height;\n                        nextInput.focus();\n                    }\n                }\n            }\n        }\n        return false;\n    }\n}\n\nfunction string_keypress(evnt) {\n    var charC = (evnt.which) ? evnt.which : evnt.keyCode;\n\n    if (charC == 13) {\n        check_string(this, evnt);\n    } \n}\n\n\nfunction make_string(qa, outerqDiv, qDiv, aDiv, id) {\n    outerqDiv.className = \"StringQn\";\n    aDiv.style.display = 'block';\n\n    var lab = document.createElement(\"label\");\n    lab.className = \"InpLabel\";\n    lab.innerHTML = \"Type your answer here:\";\n    aDiv.append(lab);\n\n    var inp = document.createElement(\"input\");\n    inp.type = \"text\";\n    inp.id = id + \"-0\";\n    inp.className = \"Input-text\";\n    inp.setAttribute('data-answers', JSON.stringify(qa.answers));\n    // Apply optional input width (approx. number of characters, in em units)\n    if (qa.input_width != null) {\n        inp.style['min-width'] = qa.input_width + 'em';\n    }\n    aDiv.append(inp);\n\n    inp.onkeypress = string_keypress;\n    inp.onpaste = event => false;\n\n    inp.addEventListener(\"focus\", function (event) {\n        this.value = \"\";\n        return false;\n    });\n}\n/*\n * Handle asynchrony issues when re-running quizzes in Jupyter notebooks.\n * Ensures show_questions is called after the container div is in the DOM.\n */\nfunction try_show() {\n  if (document.getElementById(\"mFqSZnkluvee\")) {\n    show_questions(questionsmFqSZnkluvee, mFqSZnkluvee);\n  } else {\n    setTimeout(try_show, 200);\n  }\n};\n// Invoke immediately\n{\n  try_show();\n}\n}\n",
      "text/plain": [
       "<IPython.core.display.Javascript object>"
      ]
     },
     "metadata": {},
     "output_type": "display_data"
    }
   ],
   "source": [
    "display_quiz(r'quiz\\quiz_rsm.json')"
   ]
  }
 ],
 "metadata": {
  "kernelspec": {
   "display_name": "psy126",
   "language": "python",
   "name": "python3"
  },
  "language_info": {
   "codemirror_mode": {
    "name": "ipython",
    "version": 3
   },
   "file_extension": ".py",
   "mimetype": "text/x-python",
   "name": "python",
   "nbconvert_exporter": "python",
   "pygments_lexer": "ipython3",
   "version": "3.13.3"
  }
 },
 "nbformat": 4,
 "nbformat_minor": 5
}
