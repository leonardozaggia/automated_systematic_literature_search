{
 "cells": [
  {
   "cell_type": "markdown",
   "id": "68975ae2",
   "metadata": {},
   "source": [
    "# 5.2 Partial Credit Model\n",
    "\n",
    "\n",
    "The **Partial Credit Model** (PCM; Masters, 1982) extends the Rating Scale Model by allowing each item to have its own set of item-category parameters. Unlike the RSM, items in the PCM are not required to share the same number of response categories, making the model especially suitable for **partial credit scoring**. This flexibility accommodates items that reflect varying degrees of correctness, such as:  \n",
    "*0 = totally wrong, 1 = partially correct, 2 = almost correct, 3 = fully correct.*\n",
    "\n",
    "The key distinction between PCM and RSM is that, in the PCM, each item-category threshold receives a unique parameter $β_{ih}$. As with the RSM, the PCM is a member of the Rasch model family and relies on the same fundamental assumptions: **unidimensionality**, **local independence**, and **equal discrimination**. The PCM can be estimated using the `eRm` package in R, and model fit can be assessed with the same tools applied previously (e.g., `itemfit()`).\n",
    "\n",
    "## The Dataset\n",
    "\n",
    "To demonstrate the PCM in practice, we use data from Koller et al. (2017), who examined the **Adult Self-Transcendence Inventory** (ASTI; Levenson et al., 2005). The ASTI is a self-report measure designed to assess various dimensions of **wisdom**, and includes five subscales:  \n",
    "\n",
    "- Self-knowledge and integration (SI)  \n",
    "- Peace of mind (PM)  \n",
    "- Non-attachment (NA)  \n",
    "- Self-transcendence (ST)  \n",
    "- Presence in the here-and-now and growth (PG)\n",
    "\n",
    "For this example, we will analyze the **PG** subscale using the PCM. This subscale consists of six items: four measured on a 3-point scale and two on a 4-point scale—an ideal scenario to demonstrate the PCM's ability to handle items with differing category structures.\n",
    "\n",
    "\n",
    "## Load and inspect the dataset"
   ]
  },
  {
   "cell_type": "code",
   "execution_count": null,
   "id": "49e21d26",
   "metadata": {},
   "outputs": [
    {
     "name": "stdout",
     "output_type": "stream",
     "text": [
      "The rpy2.ipython extension is already loaded. To reload it, use:\n",
      "  %reload_ext rpy2.ipython\n",
      "\n",
      "\n",
      "Python & R packages imported successfully.\n"
     ]
    }
   ],
   "source": [
    "# Imports\n",
    "import numpy as np\n",
    "import pandas as pd\n",
    "from rpy2 import robjects as ro\n",
    "from rpy2.robjects import pandas2ri, numpy2ri\n",
    "from rpy2.robjects.packages import importr\n",
    "from jupyterquiz import display_quiz\n",
    "\n",
    "\n",
    "# Miscellaneous\n",
    "pandas2ri.activate()\n",
    "numpy2ri.activate()\n",
    "ro.r('set.seed(123)')\n",
    "%load_ext rpy2.ipython\n",
    "\n",
    "# R imports\n",
    "importr('mirt')     \n",
    "importr('MPsychoR')\n",
    "importr('eRm')\n",
    "importr('ltm')\n",
    "\n",
    "print(\"\\n\\n\" + \"Python & R packages imported successfully.\")"
   ]
  },
  {
   "cell_type": "code",
   "execution_count": 6,
   "id": "950313bf",
   "metadata": {},
   "outputs": [
    {
     "name": "stdout",
     "output_type": "stream",
     "text": [
      "   ASTI11  ASTI14  ASTI15  ASTI17  ASTI18  ASTI23\n",
      "1     2.0     2.0     1.0     0.0     1.0     2.0\n",
      "2     2.0     3.0     2.0     2.0     2.0     1.0\n",
      "3     1.0     2.0     1.0     2.0     2.0     2.0\n",
      "4     1.0     1.0     2.0     0.0     3.0     2.0\n",
      "5     0.0     0.0     1.0     1.0     2.0     2.0\n"
     ]
    }
   ],
   "source": [
    "# Load the data in R\n",
    "ro.r(\"data(ASTI)\")\n",
    "\n",
    "# Convert data to a Pandas df\n",
    "ASTI = pandas2ri.rpy2py(ro.globalenv['ASTI'])\n",
    "\n",
    "# Extract PG items\n",
    "PGitems = ASTI.iloc[:, [10, 13, 14, 16, 17, 22]]\n",
    "\n",
    "# Inspect the dataset\n",
    "print(PGitems.head())\n",
    "\n",
    "# Put data back into R\n",
    "ro.globalenv['PGitems'] = PGitems\n"
   ]
  },
  {
   "cell_type": "markdown",
   "id": "bb4808a5",
   "metadata": {},
   "source": [
    "## Fit the model"
   ]
  },
  {
   "cell_type": "code",
   "execution_count": 7,
   "id": "6027a21d",
   "metadata": {},
   "outputs": [
    {
     "name": "stdout",
     "output_type": "stream",
     "text": [
      "\n",
      "Design Matrix Block 1:\n",
      "       Location Threshold 1 Threshold 2 Threshold 3\n",
      "ASTI11 -0.25342    -0.95748     0.45065          NA\n",
      "ASTI14  0.55114    -0.36856     0.14314     1.87882\n",
      "ASTI15 -0.23452    -1.10152     0.63248          NA\n",
      "ASTI17  0.36189    -0.03309     0.75686          NA\n",
      "ASTI18  0.60182    -0.60759     0.53785     1.87519\n",
      "ASTI23  0.26095    -0.36529     0.88720          NA\n",
      "\n",
      "\n"
     ]
    }
   ],
   "source": [
    "ro.r('fitpcm <- PCM(PGitems)')\n",
    "\n",
    "thresh = ro.r(\"thresholds(fitpcm)\")\n",
    "print(thresh)"
   ]
  },
  {
   "cell_type": "markdown",
   "id": "185e1513",
   "metadata": {},
   "source": [
    "The four items with three response categories get two threshold parameters only.\n",
    "Goodness-of-fit evaluation is not shown here but can be performed in the same\n",
    "manner as for the RSM.\n",
    "\n",
    "## Person-item map and ICCs"
   ]
  },
  {
   "cell_type": "code",
   "execution_count": 8,
   "id": "512f4e5c",
   "metadata": {},
   "outputs": [
    {
     "data": {
      "image/png": "[encoded data removed]",
      "text/plain": [
       "<IPython.core.display.Image object>"
      ]
     },
     "metadata": {},
     "output_type": "display_data"
    }
   ],
   "source": [
    "%%R\n",
    "plotPImap(fitpcm, latdim = \"Presence/Growth\", main = \"Person-Item Map ASTI\")"
   ]
  },
  {
   "cell_type": "markdown",
   "id": "1eb18ca7",
   "metadata": {},
   "source": [
    "In contrast to the RSM, the **PCM** allows the **distances between category thresholds to vary across items**. This flexibility captures item-specific response structures more accurately, but it also introduces potential interpretive challenges.\n",
    "\n",
    "Occasionally, the **thresholds may appear to be “out of order”** in the PI-map. For example, threshold 2 may appear **lower** than threshold 1. This does **not** indicate a model error, but rather that the response category associated with that threshold (e.g., category 2) is never the most probable category for any level of the latent trait.\n",
    "\n",
    "To verify such cases, it is helpful to consult the **ICCs**. These plots show the probability of endorsing each response category across the trait continuum. If threshold 2 lies below threshold 1, and category 2’s curve is never the highest at any point on the latent trait, it confirms the interpretability issue.\n",
    "\n",
    "Although no such irregularities appear in the current model, it is still useful to explore the ICCs using the command:\n"
   ]
  },
  {
   "cell_type": "code",
   "execution_count": 9,
   "id": "3fd90b29",
   "metadata": {},
   "outputs": [
    {
     "data": {
      "image/png": "[encoded data removed]",
      "text/plain": [
       "<IPython.core.display.Image object>"
      ]
     },
     "metadata": {},
     "output_type": "display_data"
    }
   ],
   "source": [
    "%%R\n",
    "plotICC(fitpcm, item.subset = 5) # use item.subset = \"all\" to plot all items"
   ]
  },
  {
   "cell_type": "markdown",
   "id": "dfe46d58",
   "metadata": {},
   "source": [
    "### Test your understanding"
   ]
  },
  {
   "cell_type": "code",
   "execution_count": 40,
   "id": "3aac93c7",
   "metadata": {},
   "outputs": [
    {
     "data": {
      "text/html": [
       "<div id=\"ghKNWyEDPJwE\" data-shufflequestions=\"False\" data-shuffleanswers=\"True\" data-preserveresponses=\"false\" data-numquestions=\"1000000\" data-maxwidth=\"600\" style=\"border-radius: 10px; text-align: left\"><style>\n",
       "#ghKNWyEDPJwE {\n",
       "   --jq-multiple-choice-bg: #6f78ffff;\n",
       "   --jq-mc-button-bg: #fafafa;\n",
       "   --jq-mc-button-border: #e0e0e0e0;\n",
       "   --jq-mc-button-inset-shadow: #555555;\n",
       "   --jq-many-choice-bg: #f75c03ff;\n",
       "   --jq-numeric-bg: #392061ff;\n",
       "   --jq-numeric-input-bg: #c0c0c0;\n",
       "   --jq-numeric-input-label: #101010;\n",
       "   --jq-numeric-input-shadow: #999999;\n",
       "   --jq-string-bg: #4c1a57;\n",
       "   --jq-incorrect-color: #c80202;\n",
       "   --jq-correct-color: #009113;\n",
       "   --jq-text-color: #fafafa;\n",
       "}\n",
       "\n",
       ".Quiz {\n",
       "    max-width: 600px;\n",
       "    margin-top: 15px;\n",
       "    margin-left: auto;\n",
       "    margin-right: auto;\n",
       "/*    margin-bottom: 15px;*/\n",
       "/*    padding-bottom: 4px;*/\n",
       "    padding-top: 4px;\n",
       "    line-height: 1.1;\n",
       "    font-size: 16pt;\n",
       "    border-radius: inherit;\n",
       "}\n",
       "\n",
       ".QuizCode {\n",
       "    font-size: 14pt;\n",
       "    margin-top: 10px;\n",
       "    margin-left: 20px;\n",
       "    margin-right: 20px;\n",
       "}\n",
       "\n",
       ".QuizCode>pre {\n",
       "    padding: 4px;\n",
       "}\n",
       "\n",
       ".Quiz code {\n",
       "    background-color: lightgray;\n",
       "    color: black;\n",
       "}\n",
       "\n",
       ".Quiz .QuizCode code {\n",
       "    background-color: inherit;\n",
       "    color: inherit;\n",
       "}\n",
       "\n",
       "\n",
       ".Quiz .MCButton code {\n",
       "    background-color: inherit;\n",
       "    color: inherit;\n",
       "}\n",
       "\n",
       ".MCButton .QuizCode {\n",
       "    text-align: left;\n",
       "}\n",
       "\n",
       "\n",
       "\n",
       "\n",
       ".Answer {\n",
       "    border-radius: inherit;\n",
       "    display: grid;\n",
       "    grid-gap: 10px;\n",
       "    grid-template-columns: 1fr 1fr;\n",
       "    margin: 10px 0;\n",
       "}\n",
       "\n",
       "@media only screen and (max-width:480px) {\n",
       "    .Answer {\n",
       "        grid-template-columns: 1fr;\n",
       "    }\n",
       "\n",
       "}\n",
       "\n",
       ".Feedback {\n",
       "    font-size: 16pt;\n",
       "    text-align: center;\n",
       "/*    min-height: 2em;*/\n",
       "}\n",
       "\n",
       ".Input {\n",
       "    align: left;\n",
       "    font-size: 20pt;\n",
       "}\n",
       "\n",
       ".Input-text {\n",
       "    display: block;\n",
       "    margin: 10px;\n",
       "    color: inherit;\n",
       "    width: unset;\n",
       "    min-width: 140px;\n",
       "    max-width: 93%;\n",
       "    field-sizing: content;\n",
       "    background-color: var(--jq-numeric-input-bg);\n",
       "    color: var(--jq-text-color);\n",
       "    padding: 5px;\n",
       "    padding-left: 10px;\n",
       "    font-family: inherit;\n",
       "    font-size: 20px;\n",
       "    font-weight: inherit;\n",
       "    line-height: 20pt;\n",
       "    border: none;\n",
       "    border-radius: 0.2rem;\n",
       "    transition: box-shadow 0.1s);\n",
       "}\n",
       "\n",
       ".Input-text:focus {\n",
       "    /*outline: none;*/\n",
       "    background-color: var(--jq-numeric-input-bg);\n",
       "    box-shadow: 0.6rem 0.8rem 1.4rem -0.5rem var(--jq-numeric-input-shadow);\n",
       "}\n",
       "\n",
       ".MCButton {\n",
       "    background: var(--jq-mc-button-bg);\n",
       "    border: 1px solid var(--jq-mc-button-border);\n",
       "    border-radius: inherit;\n",
       "    color: #333333;\n",
       "    padding: 10px;\n",
       "    font-size: 16px;\n",
       "    cursor: pointer;\n",
       "    text-align: center;\n",
       "    display: flex;\n",
       "    align-items: center;\n",
       "    justify-content: center;\n",
       "}\n",
       "\n",
       ".MCButton p {\n",
       "    color: inherit;\n",
       "}\n",
       "\n",
       ".MultipleChoiceQn {\n",
       "    padding: 10px;\n",
       "    background: var(--jq-multiple-choice-bg);\n",
       "    color: var(--jq-text-color);\n",
       "    border-radius: inherit;\n",
       "}\n",
       "\n",
       ".ManyChoiceQn {\n",
       "    padding: 10px;\n",
       "    background: var(--jq-many-choice-bg);\n",
       "    color: var(--jq-text-color);\n",
       "    border-radius: inherit;\n",
       "}\n",
       "\n",
       ".NumericQn {\n",
       "    background: var(--jq-numeric-bg);\n",
       "    border-radius: inherit;\n",
       "    color: var(--jq-text-color);\n",
       "    padding: 10px;\n",
       "}\n",
       "\n",
       ".NumericQn p {\n",
       "    color: inherit;\n",
       "}\n",
       "\n",
       ".StringQn {\n",
       "    background: var(--jq-string-bg);\n",
       "    border-radius: inherit;\n",
       "    color: var(--jq-text-color);\n",
       "    padding: 10px;\n",
       "}\n",
       "\n",
       ".StringQn p {\n",
       "    color: inherit;\n",
       "}\n",
       "\n",
       "\n",
       ".InpLabel {\n",
       "    color: var(--jq-numeric-input-label);\n",
       "    float: left;\n",
       "    font-size: 15pt;\n",
       "    line-height: 34px;\n",
       "    margin-right: 10px;\n",
       "}\n",
       "\n",
       ".incorrect {\n",
       "    color: var(--jq-incorrect-color);\n",
       "}\n",
       "\n",
       ".correct {\n",
       "    color: var(--jq-correct-color);\n",
       "}\n",
       "\n",
       ".correctButton {\n",
       "    /*\n",
       "    background: var(--jq-correct-color);\n",
       "   */\n",
       "    animation: correct-anim 0.6s ease;\n",
       "    animation-fill-mode: forwards;\n",
       "    box-shadow: inset 0 0 5px var(--jq-mc-button-inset-shadow);\n",
       "    color: var(--jq-text-color);\n",
       "    /*outline: none;*/\n",
       "}\n",
       "\n",
       ".incorrectButton {\n",
       "    animation: incorrect-anim 0.8s ease;\n",
       "    animation-fill-mode: forwards;\n",
       "    box-shadow: inset 0 0 5px var(--jq-mc-button-inset-shadow);\n",
       "    color: var(--jq-text-color);\n",
       "    /*outline: none;*/\n",
       "}\n",
       "\n",
       "@keyframes incorrect-anim {\n",
       "    100% {\n",
       "        background-color: var(--jq-incorrect-color);\n",
       "    }\n",
       "}\n",
       "\n",
       "@keyframes correct-anim {\n",
       "    100% {\n",
       "        background-color: var(--jq-correct-color);\n",
       "    }\n",
       "}\n",
       "</style>"
      ],
      "text/plain": [
       "<IPython.core.display.HTML object>"
      ]
     },
     "metadata": {},
     "output_type": "display_data"
    },
    {
     "data": {
      "application/javascript": "var questionsghKNWyEDPJwE=[\n  {\n    \"question\": \"Do the item difficulties in the Person-Item Map seem to cover the range of person abilities well?\",\n    \"type\": \"multiple_choice\",\n    \"answers\": [\n      {\n        \"answer\": \"Yes, they are well distributed across the latent trait range.\",\n        \"correct\": true\n      },\n      {\n        \"answer\": \"No, there are gaps at the higher and lower ends of the trait continuum.\",\n        \"correct\": false\n      },\n      {\n        \"answer\": \"Yes, all items target the same level of the trait.\",\n        \"correct\": false\n      },\n      {\n        \"answer\": \"No, because all items are located far from the average person score.\",\n        \"correct\": false\n      }\n    ]\n  },\n  {\n    \"question\": \"If a person has a trait level above the first threshold but below the second for an item, what does that suggest?\",\n    \"type\": \"multiple_choice\",\n    \"answers\": [\n      {\n        \"answer\": \"They are most likely to respond in the second category.\",\n        \"correct\": true\n      },\n      {\n        \"answer\": \"They will likely respond in the highest category.\",\n        \"correct\": false\n      },\n      {\n        \"answer\": \"They have an equal chance of choosing any category.\",\n        \"correct\": false\n      },\n      {\n        \"answer\": \"They are most likely to respond in the first category.\",\n        \"correct\": false\n      }\n    ]\n  },\n  {\n    \"question\": \"Why is the PCM’s flexibility in allowing different numbers of response categories per item useful?\",\n    \"type\": \"multiple_choice\",\n    \"answers\": [\n      {\n        \"answer\": \"It allows each item to reflect the complexity or subtlety of that question's concept.\",\n        \"correct\": true\n      },\n      {\n        \"answer\": \"It ensures all items are equally difficult.\",\n        \"correct\": false\n      },\n      {\n        \"answer\": \"It reduces the need for person fit analysis.\",\n        \"correct\": false\n      },\n      {\n        \"answer\": \"It simplifies scoring by making all items binary.\",\n        \"correct\": false\n      }\n    ]\n  }\n]\n;\n\nif (typeof Question === 'undefined') {\n// Make a random ID\nfunction makeid(length) {\n    var result = [];\n    var characters = 'ABCDEFGHIJKLMNOPQRSTUVWXYZabcdefghijklmnopqrstuvwxyz';\n    var charactersLength = characters.length;\n    for (var i = 0; i < length; i++) {\n        result.push(characters.charAt(Math.floor(Math.random() * charactersLength)));\n    }\n    return result.join('');\n}\n// Convert LaTeX delimiters and markdown links to HTML\nfunction jaxify(string) {\n    let mystring = string;\n    let count = 0, count2 = 0;\n    let loc = mystring.search(/([^\\\\]|^)(\\$)/);\n    let loc2 = mystring.search(/([^\\\\]|^)(\\$\\$)/);\n    while (loc >= 0 || loc2 >= 0) {\n        if (loc2 >= 0) {\n            mystring = mystring.replace(/([^\\\\]|^)(\\$\\$)/, count2 % 2 ? '$1\\\\]' : '$1\\\\[');\n            count2++;\n        } else {\n            mystring = mystring.replace(/([^\\\\]|^)(\\$)/, count % 2 ? '$1\\\\)' : '$1\\\\(');\n            count++;\n        }\n        loc = mystring.search(/([^\\\\]|^)(\\$)/);\n        loc2 = mystring.search(/([^\\\\]|^)(\\$\\$)/);\n    }\n    // Replace markdown links\n    mystring = mystring.replace(/<http(.*?)>/g, '<a href=\"http$1\" target=\"_blank\" class=\"Link\">http$1</a>');\n    mystring = mystring.replace(/\\[(.*?)\\]\\((.*?)\\)/g, '<a href=\"$2\" target=\"_blank\" class=\"Link\">$1</a>');\n    return mystring;\n}\n\n// Base class for question types\nclass Question {\n    static registry = {};\n    static register(type, cls) {\n        Question.registry[type] = cls;\n    }\n    static create(qa, id, index, options, rootDiv) {\n        const Cls = Question.registry[qa.type];\n        if (!Cls) {\n            console.error(`No question class registered for type \"${qa.type}\"`);\n            return;\n        }\n        const q = new Cls(qa, id, index, options, rootDiv);\n        q.render();\n    }\n\n    constructor(qa, id, index, options, rootDiv) {\n        this.qa = qa;\n        this.id = id;\n        this.index = index;\n        this.options = options;\n        this.rootDiv = rootDiv;\n        // wrapper\n        this.wrapper = document.createElement('div');\n        this.wrapper.id = `quizWrap${id}`;\n        this.wrapper.className = 'Quiz';\n        this.wrapper.dataset.qnum = index;\n        this.wrapper.style.maxWidth = `${options.maxWidth}px`;\n        rootDiv.appendChild(this.wrapper);\n        // question container\n        this.outerqDiv = document.createElement('div');\n        this.outerqDiv.id = `OuterquizQn${id}${index}`;\n        this.wrapper.appendChild(this.outerqDiv);\n        // question text\n        this.qDiv = document.createElement('div');\n        this.qDiv.id = `quizQn${id}${index}`;\n        if (qa.question) {\n            this.qDiv.innerHTML = jaxify(qa.question);\n            this.outerqDiv.appendChild(this.qDiv);\n        }\n        // code block\n        if (qa.code) {\n            const codeDiv = document.createElement('div');\n            codeDiv.id = `code${id}${index}`;\n            codeDiv.className = 'QuizCode';\n            const pre = document.createElement('pre');\n            const codeEl = document.createElement('code');\n            codeEl.innerHTML = qa.code;\n            pre.appendChild(codeEl);\n            codeDiv.appendChild(pre);\n            this.outerqDiv.appendChild(codeDiv);\n        }\n        // answer container\n        this.aDiv = document.createElement('div');\n        this.aDiv.id = `quizAns${id}${index}`;\n        this.aDiv.className = 'Answer';\n        this.wrapper.appendChild(this.aDiv);\n        // feedback container (append after answers)\n        this.fbDiv = document.createElement('div');\n        this.fbDiv.id = `fb${id}`;\n        this.fbDiv.className = 'Feedback';\n        this.fbDiv.dataset.answeredcorrect = 0;\n    }\n\n    render() {\n        throw new Error('render() not implemented');\n    }\n\n    preserveResponse(val) {\n        if (!this.options.preserveResponses) return;\n        const resp = document.getElementById(`responses${this.rootDiv.id}`);\n        if (!resp) return;\n        const arr = JSON.parse(resp.dataset.responses);\n        arr[this.index] = val;\n        resp.dataset.responses = JSON.stringify(arr);\n        printResponses(resp);\n    }\n\n    typeset(container) {\n        if (typeof MathJax !== 'undefined') {\n            const v = MathJax.version;\n            if (v[0] === '2') {\n                MathJax.Hub.Queue(['Typeset', MathJax.Hub]);\n            } else {\n                MathJax.typeset([container]);\n            }\n        }\n    }\n}\n\n// Choose a random subset of an array. Can also be used to shuffle the array\nfunction getRandomSubarray(arr, size) {\n    var shuffled = arr.slice(0), i = arr.length, temp, index;\n    while (i--) {\n        index = Math.floor((i + 1) * Math.random());\n        temp = shuffled[index];\n        shuffled[index] = shuffled[i];\n        shuffled[i] = temp;\n    }\n    return shuffled.slice(0, size);\n}\n\nfunction printResponses(responsesContainer) {\n    var responses=JSON.parse(responsesContainer.dataset.responses);\n    var stringResponses='<B>IMPORTANT!</B>To preserve this answer sequence for submission, when you have finalized your answers: <ol> <li> Copy the text in this cell below \"Answer String\"</li> <li> Double click on the cell directly below the Answer String, labeled \"Replace Me\"</li> <li> Select the whole \"Replace Me\" text</li> <li> Paste in your answer string and press shift-Enter.</li><li>Save the notebook using the save icon or File->Save Notebook menu item</li></ul><br><br><br><b>Answer String:</b><br> ';\n    console.log(responses);\n    responses.forEach((response, index) => {\n        if (response) {\n            console.log(index + ': ' + response);\n            stringResponses+= index + ': ' + response +\"<BR>\";\n        }\n    });\n    responsesContainer.innerHTML=stringResponses;\n}\n/* Callback function to determine whether a selected multiple-choice\n   button corresponded to a correct answer and to provide feedback\n   based on the answer */\nfunction check_mc() {\n    var id = this.id.split('-')[0];\n    //var response = this.id.split('-')[1];\n    //console.log(response);\n    //console.log(\"In check_mc(), id=\"+id);\n    //console.log(event.srcElement.id)           \n    //console.log(event.srcElement.dataset.correct)   \n    //console.log(event.srcElement.dataset.feedback)\n\n    var label = event.srcElement;\n    //console.log(label, label.nodeName);\n    var depth = 0;\n    while ((label.nodeName != \"LABEL\") && (depth < 20)) {\n        label = label.parentElement;\n        console.log(depth, label);\n        depth++;\n    }\n\n\n\n    var answers = label.parentElement.children;\n    //console.log(answers);\n\n    // Split behavior based on multiple choice vs many choice:\n    var fb = document.getElementById(\"fb\" + id);\n\n\n\n    /* Multiple choice (1 answer). Allow for 0 correct\n       answers as an edge case */\n    if (fb.dataset.numcorrect <= 1) {\n        // What follows is for the saved responses stuff\n        var outerContainer = fb.parentElement.parentElement;\n        var responsesContainer = document.getElementById(\"responses\" + outerContainer.id);\n        if (responsesContainer) {\n            //console.log(responsesContainer);\n            var response = label.firstChild.innerText;\n            if (label.querySelector(\".QuizCode\")){\n                response+= label.querySelector(\".QuizCode\").firstChild.innerText;\n            }\n            console.log(response);\n            //console.log(document.getElementById(\"quizWrap\"+id));\n            var qnum = document.getElementById(\"quizWrap\"+id).dataset.qnum;\n            console.log(\"Question \" + qnum);\n            //console.log(id, \", got numcorrect=\",fb.dataset.numcorrect);\n            var responses=JSON.parse(responsesContainer.dataset.responses);\n            console.log(responses);\n            responses[qnum]= response;\n            responsesContainer.setAttribute('data-responses', JSON.stringify(responses));\n            printResponses(responsesContainer);\n        }\n        // End code to preserve responses\n\n        for (var i = 0; i < answers.length; i++) {\n            var child = answers[i];\n            //console.log(child);\n            child.className = \"MCButton\";\n        }\n\n\n\n        if (label.dataset.correct == \"true\") {\n            // console.log(\"Correct action\");\n            if (\"feedback\" in label.dataset) {\n                fb.innerHTML = jaxify(label.dataset.feedback);\n            } else {\n                fb.innerHTML = \"Correct!\";\n            }\n            label.classList.add(\"correctButton\");\n\n            fb.className = \"Feedback\";\n            fb.classList.add(\"correct\");\n\n        } else {\n            if (\"feedback\" in label.dataset) {\n                fb.innerHTML = jaxify(label.dataset.feedback);\n            } else {\n                fb.innerHTML = \"Incorrect -- try again.\";\n            }\n            //console.log(\"Error action\");\n            label.classList.add(\"incorrectButton\");\n            fb.className = \"Feedback\";\n            fb.classList.add(\"incorrect\");\n        }\n    }\n    else { /* Many choice (more than 1 correct answer) */\n        var reset = false;\n        var feedback;\n         if (label.dataset.correct == \"true\") {\n            if (\"feedback\" in label.dataset) {\n                feedback = jaxify(label.dataset.feedback);\n            } else {\n                feedback = \"Correct!\";\n            }\n            if (label.dataset.answered <= 0) {\n                if (fb.dataset.answeredcorrect < 0) {\n                    fb.dataset.answeredcorrect = 1;\n                    reset = true;\n                } else {\n                    fb.dataset.answeredcorrect++;\n                }\n                if (reset) {\n                    for (var i = 0; i < answers.length; i++) {\n                        var child = answers[i];\n                        child.className = \"MCButton\";\n                        child.dataset.answered = 0;\n                    }\n                }\n                label.classList.add(\"correctButton\");\n                label.dataset.answered = 1;\n                fb.className = \"Feedback\";\n                fb.classList.add(\"correct\");\n\n            }\n        } else {\n            if (\"feedback\" in label.dataset) {\n                feedback = jaxify(label.dataset.feedback);\n            } else {\n                feedback = \"Incorrect -- try again.\";\n            }\n            if (fb.dataset.answeredcorrect > 0) {\n                fb.dataset.answeredcorrect = -1;\n                reset = true;\n            } else {\n                fb.dataset.answeredcorrect--;\n            }\n\n            if (reset) {\n                for (var i = 0; i < answers.length; i++) {\n                    var child = answers[i];\n                    child.className = \"MCButton\";\n                    child.dataset.answered = 0;\n                }\n            }\n            label.classList.add(\"incorrectButton\");\n            fb.className = \"Feedback\";\n            fb.classList.add(\"incorrect\");\n        }\n        // What follows is for the saved responses stuff\n        var outerContainer = fb.parentElement.parentElement;\n        var responsesContainer = document.getElementById(\"responses\" + outerContainer.id);\n        if (responsesContainer) {\n            //console.log(responsesContainer);\n            var response = label.firstChild.innerText;\n            if (label.querySelector(\".QuizCode\")){\n                response+= label.querySelector(\".QuizCode\").firstChild.innerText;\n            }\n            console.log(response);\n            //console.log(document.getElementById(\"quizWrap\"+id));\n            var qnum = document.getElementById(\"quizWrap\"+id).dataset.qnum;\n            console.log(\"Question \" + qnum);\n            //console.log(id, \", got numcorrect=\",fb.dataset.numcorrect);\n            var responses=JSON.parse(responsesContainer.dataset.responses);\n            if (label.dataset.correct == \"true\") {\n                if (typeof(responses[qnum]) == \"object\"){\n                    if (!responses[qnum].includes(response))\n                        responses[qnum].push(response);\n                } else{\n                    responses[qnum]= [ response ];\n                }\n            } else {\n                responses[qnum]= response;\n            }\n            console.log(responses);\n            responsesContainer.setAttribute('data-responses', JSON.stringify(responses));\n            printResponses(responsesContainer);\n        }\n        // End save responses stuff\n\n\n\n        var numcorrect = fb.dataset.numcorrect;\n        var answeredcorrect = fb.dataset.answeredcorrect;\n        if (answeredcorrect >= 0) {\n            fb.innerHTML = feedback + \" [\" + answeredcorrect + \"/\" + numcorrect + \"]\";\n        } else {\n            fb.innerHTML = feedback + \" [\" + 0 + \"/\" + numcorrect + \"]\";\n        }\n\n\n    }\n\n    if (typeof MathJax != 'undefined') {\n        var version = MathJax.version;\n        console.log('MathJax version', version);\n        if (version[0] == \"2\") {\n            MathJax.Hub.Queue([\"Typeset\", MathJax.Hub]);\n        } else if (version[0] == \"3\") {\n            MathJax.typeset([fb]);\n        }\n    } else {\n        console.log('MathJax not detected');\n    }\n\n}\n\n\n/* Function to produce the HTML buttons for a multiple choice/\n   many choice question  and to update the CSS tags based on\n   the question type */\nfunction make_mc(qa, shuffle_answers, outerqDiv, qDiv, aDiv, id) {\n\n    var shuffled;\n    if (shuffle_answers == true) {\n        //console.log(shuffle_answers+\" read as true\");\n        shuffled = getRandomSubarray(qa.answers, qa.answers.length);\n    } else {\n        //console.log(shuffle_answers+\" read as false\");\n        shuffled = qa.answers;\n    }\n\n\n    var num_correct = 0;\n\n    shuffled.forEach((item, index, ans_array) => {\n        //console.log(answer);\n\n        // Make input element\n        var inp = document.createElement(\"input\");\n        inp.type = \"radio\";\n        inp.id = \"quizo\" + id + index;\n        inp.style = \"display:none;\";\n        aDiv.append(inp);\n\n        //Make label for input element\n        var lab = document.createElement(\"label\");\n        lab.className = \"MCButton\";\n        lab.id = id + '-' + index;\n        lab.onclick = check_mc;\n        var aSpan = document.createElement('span');\n        aSpan.classsName = \"\";\n        //qDiv.id=\"quizQn\"+id+index;\n        if (\"answer\" in item) {\n            aSpan.innerHTML = jaxify(item.answer);\n            //aSpan.innerHTML=item.answer;\n        }\n        lab.append(aSpan);\n\n        // Create div for code inside question\n        var codeSpan;\n        if (\"code\" in item) {\n            codeSpan = document.createElement('span');\n            codeSpan.id = \"code\" + id + index;\n            codeSpan.className = \"QuizCode\";\n            var codePre = document.createElement('pre');\n            codeSpan.append(codePre);\n            var codeCode = document.createElement('code');\n            codePre.append(codeCode);\n            codeCode.innerHTML = item.code;\n            lab.append(codeSpan);\n            //console.log(codeSpan);\n        }\n\n        //lab.textContent=item.answer;\n\n        // Set the data attributes for the answer\n        lab.setAttribute('data-correct', item.correct);\n        if (item.correct) {\n            num_correct++;\n        }\n        if (\"feedback\" in item) {\n            lab.setAttribute('data-feedback', item.feedback);\n        }\n        lab.setAttribute('data-answered', 0);\n\n        aDiv.append(lab);\n\n    });\n\n    if (num_correct > 1) {\n        outerqDiv.className = \"ManyChoiceQn\";\n    } else {\n        outerqDiv.className = \"MultipleChoiceQn\";\n    }\n\n    return num_correct;\n\n}\n// Object-oriented wrapper for MC/MANY choice\nclass MCQuestion extends Question {\n    constructor(qa, id, idx, opts, rootDiv) { super(qa, id, idx, opts, rootDiv); }\n    render() {\n        //console.log(\"options.shuffleAnswers \" + this.options.shuffleAnswers);\n        const numCorrect = make_mc(\n            this.qa,\n            this.options.shuffleAnswers,\n            this.outerqDiv,\n            this.qDiv,\n            this.aDiv,\n            this.id\n        );\n        if ('answer_cols' in this.qa) {\n            this.aDiv.style.gridTemplateColumns =\n                'repeat(' + this.qa.answer_cols + ', 1fr)';\n        }\n        this.fbDiv.dataset.numcorrect = numCorrect;\n        this.wrapper.appendChild(this.fbDiv);\n    }\n}\nQuestion.register('multiple_choice', MCQuestion);\nQuestion.register('many_choice', MCQuestion);\nfunction check_numeric(ths, event) {\n\n    if (event.keyCode === 13) {\n        ths.blur();\n\n        var id = ths.id.split('-')[0];\n\n        var submission = ths.value;\n        if (submission.indexOf('/') != -1) {\n            var sub_parts = submission.split('/');\n            //console.log(sub_parts);\n            submission = sub_parts[0] / sub_parts[1];\n        }\n        //console.log(\"Reader entered\", submission);\n\n        if (\"precision\" in ths.dataset) {\n            var precision = ths.dataset.precision;\n            submission = Number(Number(submission).toPrecision(precision));\n        }\n\n\n        //console.log(\"In check_numeric(), id=\"+id);\n        //console.log(event.srcElement.id)           \n        //console.log(event.srcElement.dataset.feedback)\n\n        var fb = document.getElementById(\"fb\" + id);\n        fb.style.display = \"none\";\n        fb.innerHTML = \"Incorrect -- try again.\";\n\n        var answers = JSON.parse(ths.dataset.answers);\n        //console.log(answers);\n\n        var defaultFB = \"Incorrect. Try again.\";\n        var correct;\n        var done = false;\n        answers.every(answer => {\n            //console.log(answer.type);\n\n            correct = false;\n            // if (answer.type==\"value\"){\n            if ('value' in answer) {\n                var value;\n                if (\"precision\" in ths.dataset) {\n                    value = answer.value.toPrecision(ths.dataset.precision);\n                } else {\n                    value = answer.value;\n                }\n                if (submission == value) {\n                    if (\"feedback\" in answer) {\n                        fb.innerHTML = jaxify(answer.feedback);\n                    } else {\n                        fb.innerHTML = jaxify(\"Correct\");\n                    }\n                    correct = answer.correct;\n                    //console.log(answer.correct);\n                    done = true;\n                }\n\n                // } else if (answer.type==\"range\") {\n            } else if ('range' in answer) {\n                console.log(answer.range);\n                console.log(submission, submission >=answer.range[0], submission < answer.range[1])\n                if ((submission >= answer.range[0]) && (submission < answer.range[1])) {\n                    fb.innerHTML = jaxify(answer.feedback);\n                    correct = answer.correct;\n                    console.log(answer.correct);\n                    done = true;\n                }\n            } else if (answer.type == \"default\") {\n                if (\"feedback\" in answer) {\n                    defaultFB = answer.feedback;\n                } \n            }\n            if (done) {\n                return false; // Break out of loop if this has been marked correct\n            } else {\n                return true; // Keep looking for case that includes this as a correct answer\n            }\n        });\n        console.log(\"done:\", done);\n\n        if ((!done) && (defaultFB != \"\")) {\n            fb.innerHTML = jaxify(defaultFB);\n            //console.log(\"Default feedback\", defaultFB);\n        }\n\n        fb.style.display = \"block\";\n        if (correct) {\n            ths.className = \"Input-text\";\n            ths.classList.add(\"correctButton\");\n            fb.className = \"Feedback\";\n            fb.classList.add(\"correct\");\n        } else {\n            ths.className = \"Input-text\";\n            ths.classList.add(\"incorrectButton\");\n            fb.className = \"Feedback\";\n            fb.classList.add(\"incorrect\");\n        }\n\n        // What follows is for the saved responses stuff\n        var outerContainer = fb.parentElement.parentElement;\n        var responsesContainer = document.getElementById(\"responses\" + outerContainer.id);\n        if (responsesContainer) {\n            console.log(submission);\n            var qnum = document.getElementById(\"quizWrap\"+id).dataset.qnum;\n            //console.log(\"Question \" + qnum);\n            //console.log(id, \", got numcorrect=\",fb.dataset.numcorrect);\n            var responses=JSON.parse(responsesContainer.dataset.responses);\n            console.log(responses);\n            if (submission == ths.value){\n                responses[qnum]= submission;\n            } else {\n                responses[qnum]= ths.value + \"(\" + submission +\")\";\n            }\n            responsesContainer.setAttribute('data-responses', JSON.stringify(responses));\n            printResponses(responsesContainer);\n        }\n        // End code to preserve responses\n\n        if (typeof MathJax != 'undefined') {\n            var version = MathJax.version;\n            console.log('MathJax version', version);\n            if (version[0] == \"2\") {\n                MathJax.Hub.Queue([\"Typeset\", MathJax.Hub]);\n            } else if (version[0] == \"3\") {\n                MathJax.typeset([fb]);\n            }\n        } else {\n            console.log('MathJax not detected');\n        }\n        // After correct answer, if next JupyterQuiz question exists and has a text input, scroll by current question height\n        if (correct) {\n            // find the current question wrapper\n            var wrapper = ths.closest('.Quiz');\n            if (wrapper) {\n                var nextWrapper = wrapper.nextElementSibling;\n                if (nextWrapper && nextWrapper.classList.contains('Quiz')) {\n                    var nextInput = nextWrapper.querySelector('input.Input-text');\n                    if (nextInput) {\n                        var height = wrapper.getBoundingClientRect().height;\n                        console.log(height);\n                        nextInput.focus();\n                    }\n                }\n            }\n        }\n        return false;\n    }\n\n}\n// Object-oriented wrapper for numeric questions\nclass NumericQuestion extends Question {\n    constructor(qa, id, idx, opts, rootDiv) {\n        super(qa, id, idx, opts, rootDiv);\n    }\n    render() {\n        make_numeric(this.qa, this.outerqDiv, this.qDiv, this.aDiv, this.id);\n        this.wrapper.appendChild(this.fbDiv);\n    }\n}\nQuestion.register('numeric', NumericQuestion);\n\nfunction isValid(el, charC) {\n    //console.log(\"Input char: \", charC);\n    if (charC == 46) {\n        if (el.value.indexOf('.') === -1) {\n            return true;\n        } else if (el.value.indexOf('/') != -1) {\n            var parts = el.value.split('/');\n            if (parts[1].indexOf('.') === -1) {\n                return true;\n            }\n        }\n        else {\n            return false;\n        }\n    } else if (charC == 47) {\n        if (el.value.indexOf('/') === -1) {\n            if ((el.value != \"\") && (el.value != \".\")) {\n                return true;\n            } else {\n                return false;\n            }\n        } else {\n            return false;\n        }\n    } else if (charC == 45) {\n        var edex = el.value.indexOf('e');\n        if (edex == -1) {\n            edex = el.value.indexOf('E');\n        }\n\n        if (el.value == \"\") {\n            return true;\n        } else if (edex == (el.value.length - 1)) { // If just after e or E\n            return true;\n        } else {\n            return false;\n        }\n    } else if (charC == 101) { // \"e\"\n        if ((el.value.indexOf('e') === -1) && (el.value.indexOf('E') === -1) && (el.value.indexOf('/') == -1)) {\n            // Prev symbol must be digit or decimal point:\n            if (el.value.slice(-1).search(/\\d/) >= 0) {\n                return true;\n            } else if (el.value.slice(-1).search(/\\./) >= 0) {\n                return true;\n            } else {\n                return false;\n            }\n        } else {\n            return false;\n        }\n    } else {\n        if (charC > 31 && (charC < 48 || charC > 57))\n            return false;\n    }\n    return true;\n}\n\nfunction numeric_keypress(evnt) {\n    var charC = (evnt.which) ? evnt.which : evnt.keyCode;\n\n    if (charC == 13) {\n        check_numeric(this, evnt);\n    } else {\n        return isValid(this, charC);\n    }\n}\n\n\n\n\n\nfunction make_numeric(qa, outerqDiv, qDiv, aDiv, id) {\n\n\n\n    //console.log(answer);\n\n\n    outerqDiv.className = \"NumericQn\";\n    aDiv.style.display = 'block';\n\n    var lab = document.createElement(\"label\");\n    lab.className = \"InpLabel\";\n    lab.innerHTML = \"Type numeric answer here:\";\n    aDiv.append(lab);\n\n    var inp = document.createElement(\"input\");\n    inp.type = \"text\";\n    //inp.id=\"input-\"+id;\n    inp.id = id + \"-0\";\n    inp.className = \"Input-text\";\n    inp.setAttribute('data-answers', JSON.stringify(qa.answers));\n    if (\"precision\" in qa) {\n        inp.setAttribute('data-precision', qa.precision);\n    }\n    aDiv.append(inp);\n    //console.log(inp);\n\n    //inp.addEventListener(\"keypress\", check_numeric);\n    //inp.addEventListener(\"keypress\", numeric_keypress);\n    /*\n    inp.addEventListener(\"keypress\", function(event) {\n        return numeric_keypress(this, event);\n    }\n                        );\n                        */\n    //inp.onkeypress=\"return numeric_keypress(this, event)\";\n    inp.onkeypress = numeric_keypress;\n    inp.onpaste = event => false;\n\n    inp.addEventListener(\"focus\", function (event) {\n        this.value = \"\";\n        return false;\n    }\n    );\n\n\n}\n// Override show_questions to use object-oriented Question API\nfunction show_questions(json, container) {\n    // Accept container element or element ID\n    if (typeof container === 'string') {\n        container = document.getElementById(container);\n    }\n    if (!container) {\n        console.error('show_questions: invalid container', container);\n        return;\n    }\n\n    const shuffleQuestions = container.dataset.shufflequestions === 'True';\n    const shuffleAnswers = container.dataset.shuffleanswers === 'True';\n    const preserveResponses = container.dataset.preserveresponses === 'true';\n    const maxWidth = parseInt(container.dataset.maxwidth, 10) || 0;\n    let numQuestions = parseInt(container.dataset.numquestions, 10) || json.length;\n    if (numQuestions > json.length) numQuestions = json.length;\n\n    let questions = json;\n    if (shuffleQuestions || numQuestions < json.length) {\n        questions = getRandomSubarray(json, numQuestions);\n    }\n\n    questions.forEach((qa, index) => {\n        const id = makeid(8);\n        const options = {\n            shuffleAnswers: shuffleAnswers,\n            preserveResponses: preserveResponses,\n            maxWidth: maxWidth\n        };\n        Question.create(qa, id, index, options, container);\n    });\n\n    if (preserveResponses) {\n        const respDiv = document.createElement('div');\n        respDiv.id = 'responses' + container.id;\n        respDiv.className = 'JCResponses';\n        respDiv.dataset.responses = JSON.stringify([]);\n        respDiv.innerHTML = '<b>Select your answers and then follow the directions that will appear here.</b>';\n        container.appendChild(respDiv);\n    }\n\n    // Trigger MathJax typesetting if available\n    if (typeof MathJax != 'undefined') {\n        console.log(\"MathJax version\", MathJax.version);\n        var version = MathJax.version;\n        setTimeout(function(){\n            var version = MathJax.version;\n            console.log('After sleep, MathJax version', version);\n            if (version[0] == \"2\") {\n                MathJax.Hub.Queue([\"Typeset\", MathJax.Hub]);\n            } else if (version[0] == \"3\") {\n                if (MathJax.hasOwnProperty('typeset') ) {\n                    MathJax.typeset([container]);\n                } else {\n                    console.log('WARNING: Trying to force load MathJax 3');\n                    window.MathJax = {\n                        tex: {\n                            inlineMath: [['$', '$'], ['\\\\(', '\\\\)']]\n                        },\n                        svg: {\n                            fontCache: 'global'\n                        }\n                    };\n\n                    (function () {\n                        var script = document.createElement('script');\n                        script.src = 'https://cdn.jsdelivr.net/npm/mathjax@3/es5/tex-svg.js';\n                        script.async = true;\n                        document.head.appendChild(script);\n                    })();\n                }\n            }\n        }, 500);\nif (typeof version == 'undefined') {\n        } else\n        {\n            if (version[0] == \"2\") {\n                MathJax.Hub.Queue([\"Typeset\", MathJax.Hub]);\n            } else if (version[0] == \"3\") {\n                if (MathJax.hasOwnProperty('typeset') ) {\n                    MathJax.typeset([container]);\n                } else {\n                    console.log('WARNING: Trying to force load MathJax 3');\n                    window.MathJax = {\n                        tex: {\n                            inlineMath: [['$', '$'], ['\\\\(', '\\\\)']]\n                        },\n                        svg: {\n                            fontCache: 'global'\n                        }\n                    };\n\n                    (function () {\n                        var script = document.createElement('script');\n                        script.src = 'https://cdn.jsdelivr.net/npm/mathjax@3/es5/tex-svg.js';\n                        script.async = true;\n                        document.head.appendChild(script);\n                    })();\n                }\n            } else {\n                console.log(\"MathJax not found\");\n            }\n        }\n    }\n    // if (typeof MathJax !== 'undefined') {\n    //     const v = MathJax.version;\n    //     if (v[0] === '2') {\n    //         MathJax.Hub.Queue(['Typeset', MathJax.Hub]);\n    //     } else if (v[0] === '3') {\n    //         MathJax.typeset([container]);\n    //     }\n    // }\n\n    // Prevent link clicks from bubbling up\n    Array.from(container.getElementsByClassName('Link')).forEach(link => {\n        link.addEventListener('click', e => e.stopPropagation());\n    });\n}\nfunction levenshteinDistance(a, b) {\n    if (a.length === 0) return b.length;\n    if (b.length === 0) return a.length;\n\n    const matrix = Array(b.length + 1).fill(null).map(() => Array(a.length + 1).fill(null));\n\n    for (let i = 0; i <= a.length; i++) {\n        matrix[0][i] = i;\n    }\n\n    for (let j = 0; j <= b.length; j++) {\n        matrix[j][0] = j;\n    }\n\n    for (let j = 1; j <= b.length; j++) {\n        for (let i = 1; i <= a.length; i++) {\n            const cost = a[i - 1] === b[j - 1] ? 0 : 1;\n            matrix[j][i] = Math.min(\n                matrix[j - 1][i] + 1, // Deletion\n                matrix[j][i - 1] + 1, // Insertion\n                matrix[j - 1][i - 1] + cost // Substitution\n            );\n        }\n    }\n    return matrix[b.length][a.length];\n}\n// Object-oriented wrapper for string input questions\nclass StringQuestion extends Question {\n    constructor(qa, id, idx, opts, rootDiv) {\n        super(qa, id, idx, opts, rootDiv);\n    }\n    render() {\n        make_string(this.qa, this.outerqDiv, this.qDiv, this.aDiv, this.id);\n        this.wrapper.appendChild(this.fbDiv);\n    }\n}\nQuestion.register('string', StringQuestion);\n\nfunction check_string(ths, event) {\n    if (event.keyCode === 13) {\n        ths.blur();\n\n        var id = ths.id.split('-')[0];\n        var submission = ths.value.trim();\n        var fb = document.getElementById(\"fb\" + id);\n        fb.style.display = \"none\";\n        fb.innerHTML = \"Incorrect -- try again.\";\n\n        var answers = JSON.parse(ths.dataset.answers);\n        var defaultFB = \"Incorrect. Try again.\";\n        var correct;\n        var done = false;\n\n        // Handle default answer pattern: filter out and capture default feedback\n        var filteredAnswers = [];\n        answers.forEach(answer => {\n            if (answer.type === \"default\") {\n                defaultFB = answer.feedback;\n            } else {\n                filteredAnswers.push(answer);\n            }\n        });\n        answers = filteredAnswers;\n\n        answers.every(answer => {\n            correct = false;\n\n            let match = false;\n            if (answer.match_case) {\n                match = submission === answer.answer;\n            } else {\n                match = submission.toLowerCase() === answer.answer.toLowerCase();\n            }\n            console.log(submission);\n            console.log(answer.answer);\n            console.log(match);\n\n            if (match) {\n                if (\"feedback\" in answer) {\n                    fb.innerHTML = jaxify(answer.feedback);\n                } else {\n                    fb.innerHTML = jaxify(\"Correct\");\n                }\n                correct = answer.correct;\n                done = true;\n            } else if (answer.fuzzy_threshold) {\n                var max_length = Math.max(submission.length, answer.answer.length);\n                var ratio;\n                if (answer.match_case) {\n                    ratio = 1- (levenshteinDistance(submission, answer.answer) / max_length);\n                } else {\n                    ratio = 1- (levenshteinDistance(submission.toLowerCase(),\n                                                    answer.answer.toLowerCase()) / max_length);\n                }\n                if (ratio >= answer.fuzzy_threshold) {\n                    if (\"feedback\" in answer) {\n                        fb.innerHTML = jaxify(\"(Fuzzy) \" + answer.feedback);\n                    } else {\n                        fb.innerHTML = jaxify(\"Correct\");\n                    }\n                    correct = answer.correct;\n                    done = true;\n                }\n\n            }\n\n            if (done) {\n                return false;\n            } else {\n                return true;\n            }\n        });\n\n        if ((!done) && (defaultFB != \"\")) {\n            fb.innerHTML = jaxify(defaultFB);\n        }\n\n        fb.style.display = \"block\";\n        if (correct) {\n            ths.className = \"Input-text\";\n            ths.classList.add(\"correctButton\");\n            fb.className = \"Feedback\";\n            fb.classList.add(\"correct\");\n        } else {\n            ths.className = \"Input-text\";\n            ths.classList.add(\"incorrectButton\");\n            fb.className = \"Feedback\";\n            fb.classList.add(\"incorrect\");\n        }\n\n        var outerContainer = fb.parentElement.parentElement;\n        var responsesContainer = document.getElementById(\"responses\" + outerContainer.id);\n        if (responsesContainer) {\n            var qnum = document.getElementById(\"quizWrap\" + id).dataset.qnum;\n            var responses = JSON.parse(responsesContainer.dataset.responses);\n            responses[qnum] = submission;\n            responsesContainer.setAttribute('data-responses', JSON.stringify(responses));\n            printResponses(responsesContainer);\n        }\n\n        if (typeof MathJax != 'undefined') {\n            var version = MathJax.version;\n            if (version[0] == \"2\") {\n                MathJax.Hub.Queue([\"Typeset\", MathJax.Hub]);\n            } else if (version[0] == \"3\") {\n                MathJax.typeset([fb]);\n            }\n        } else {\n            console.log('MathJax not detected');\n        }\n        // After correct answer, if next JupyterQuiz question exists and has a text input, scroll by current question height\n        if (correct) {\n            var wrapper = ths.closest('.Quiz');\n            if (wrapper) {\n                var nextWrapper = wrapper.nextElementSibling;\n                if (nextWrapper && nextWrapper.classList.contains('Quiz')) {\n                    var nextInput = nextWrapper.querySelector('input.Input-text');\n                    if (nextInput) {\n                        var height = wrapper.getBoundingClientRect().height;\n                        nextInput.focus();\n                    }\n                }\n            }\n        }\n        return false;\n    }\n}\n\nfunction string_keypress(evnt) {\n    var charC = (evnt.which) ? evnt.which : evnt.keyCode;\n\n    if (charC == 13) {\n        check_string(this, evnt);\n    } \n}\n\n\nfunction make_string(qa, outerqDiv, qDiv, aDiv, id) {\n    outerqDiv.className = \"StringQn\";\n    aDiv.style.display = 'block';\n\n    var lab = document.createElement(\"label\");\n    lab.className = \"InpLabel\";\n    lab.innerHTML = \"Type your answer here:\";\n    aDiv.append(lab);\n\n    var inp = document.createElement(\"input\");\n    inp.type = \"text\";\n    inp.id = id + \"-0\";\n    inp.className = \"Input-text\";\n    inp.setAttribute('data-answers', JSON.stringify(qa.answers));\n    // Apply optional input width (approx. number of characters, in em units)\n    if (qa.input_width != null) {\n        inp.style['min-width'] = qa.input_width + 'em';\n    }\n    aDiv.append(inp);\n\n    inp.onkeypress = string_keypress;\n    inp.onpaste = event => false;\n\n    inp.addEventListener(\"focus\", function (event) {\n        this.value = \"\";\n        return false;\n    });\n}\n/*\n * Handle asynchrony issues when re-running quizzes in Jupyter notebooks.\n * Ensures show_questions is called after the container div is in the DOM.\n */\nfunction try_show() {\n  if (document.getElementById(\"ghKNWyEDPJwE\")) {\n    show_questions(questionsghKNWyEDPJwE, ghKNWyEDPJwE);\n  } else {\n    setTimeout(try_show, 200);\n  }\n};\n// Invoke immediately\n{\n  try_show();\n}\n}\n",
      "text/plain": [
       "<IPython.core.display.Javascript object>"
      ]
     },
     "metadata": {},
     "output_type": "display_data"
    }
   ],
   "source": [
    "display_quiz(\"quiz/quiz_pcm.json\")"
   ]
  },
  {
   "cell_type": "markdown",
   "id": "9abd0b60",
   "metadata": {},
   "source": [
    "# 5.3 Generalized Partial Credit Model\n",
    "\n",
    "The **Generalized Partial Credit Model (GPCM)**, introduced by Muraki (1992), extends the Partial Credit Model by incorporating **item-specific discrimination parameters** ($\\\\alpha_i$). Similar to the **2-Parameter Logistic (2PL)** model in binary IRT, these $\\\\alpha_i$ parameters allow each item to vary in its **discrimination power**, resulting in **ICCs with different slopes**. This marks a key difference from the PCM, where discrimination is assumed to be equal across all items.\n",
    "\n",
    "While the PCM is part of the Rasch model family—due to its fixed discrimination structure—the GPCM is **not** considered a Rasch model because it allows for **free discrimination estimation**. However, the PCM can be seen as a **special case** of the GPCM. In R, both models can be estimated using the `ltm` package via the `gpcm()` function. By setting `constraint = \"rasch\"` in this function, the model fixes all discrimination parameters to 1, effectively fitting a PCM.\n",
    "\n",
    "## The Dataset\n",
    "\n",
    "To illustrate the application of both PCM and GPCM, we return to the ASTI dataset. This time, we analyze the **self-transcendence (ST)** subscale, which consists of **seven polytomous items**. These data provide an ideal setting to examine whether allowing item discrimination to vary significantly improves model fit.\n",
    "\n",
    "\n",
    "## Load and inspect the dataset"
   ]
  },
  {
   "cell_type": "code",
   "execution_count": 21,
   "id": "35b5f13a",
   "metadata": {},
   "outputs": [
    {
     "name": "stdout",
     "output_type": "stream",
     "text": [
      "   ASTI2  ASTI4  ASTI8  ASTI13  ASTI16  ASTI24  ASTI25\n",
      "1    2.0    3.0    1.0     2.0     3.0     0.0     2.0\n",
      "2    2.0    2.0    1.0     2.0     2.0     1.0     1.0\n",
      "3    1.0    1.0    2.0     2.0     1.0     1.0     2.0\n",
      "4    2.0    3.0    2.0     2.0     3.0     0.0     1.0\n",
      "5    3.0    3.0    1.0     2.0     3.0     1.0     0.0\n"
     ]
    }
   ],
   "source": [
    "# Load the data in R\n",
    "ro.r(\"data(ASTI)\")\n",
    "\n",
    "# Convert data to a Pandas df\n",
    "ASTI = pandas2ri.rpy2py(ro.globalenv['ASTI'])\n",
    "\n",
    "# Extract ST items\n",
    "STitems = ASTI.iloc[:, [1,3,7,12,15,23,24]]\n",
    "\n",
    "# Inspect the dataset\n",
    "print(STitems.head())\n",
    "\n",
    "# Put data back into R\n",
    "ro.globalenv['STitems'] = STitems"
   ]
  },
  {
   "cell_type": "markdown",
   "id": "89525d3b",
   "metadata": {},
   "source": [
    "## Fit the model"
   ]
  },
  {
   "cell_type": "code",
   "execution_count": 24,
   "id": "56c07bb9",
   "metadata": {},
   "outputs": [
    {
     "name": "stdout",
     "output_type": "stream",
     "text": [
      "\n",
      "Call:\n",
      "gpcm(data = STitems, constraint = \"rasch\")\n",
      "\n",
      "Model Summary:\n",
      "   log.Lik      AIC      BIC\n",
      " -9203.121 18442.24 18532.76\n",
      "\n",
      "Coefficients:\n",
      "$ASTI2\n",
      "         value std.err z.value\n",
      "Catgr.1 -1.391   0.113 -12.310\n",
      "Catgr.2 -0.531   0.082  -6.492\n",
      "Catgr.3  1.154   0.092  12.608\n",
      "Dscrmn   1.000      NA      NA\n",
      "\n",
      "$ASTI4\n",
      "         value std.err z.value\n",
      "Catgr.1 -1.758   0.125 -14.105\n",
      "Catgr.2 -0.602   0.080  -7.520\n",
      "Catgr.3  1.330   0.093  14.283\n",
      "Dscrmn   1.000      NA      NA\n",
      "\n",
      "$ASTI8\n",
      "         value std.err z.value\n",
      "Catgr.1 -0.863   0.081 -10.611\n",
      "Catgr.2  0.925   0.083  11.138\n",
      "Dscrmn   1.000      NA      NA\n",
      "\n",
      "$ASTI13\n",
      "         value std.err z.value\n",
      "Catgr.1 -1.229   0.095 -12.877\n",
      "Catgr.2 -0.001   0.075  -0.008\n",
      "Dscrmn   1.000      NA      NA\n",
      "\n",
      "$ASTI16\n",
      "         value std.err z.value\n",
      "Catgr.1 -1.474   0.108 -13.672\n",
      "Catgr.2 -0.208   0.079  -2.627\n",
      "Catgr.3  1.307   0.098  13.342\n",
      "Dscrmn   1.000      NA      NA\n",
      "\n",
      "$ASTI24\n",
      "         value std.err z.value\n",
      "Catgr.1 -0.546   0.077  -7.139\n",
      "Catgr.2  1.327   0.092  14.464\n",
      "Dscrmn   1.000      NA      NA\n",
      "\n",
      "$ASTI25\n",
      "         value std.err z.value\n",
      "Catgr.1 -1.375   0.103 -13.400\n",
      "Catgr.2 -0.073   0.079  -0.929\n",
      "Catgr.3  1.472   0.104  14.196\n",
      "Dscrmn   1.000      NA      NA\n",
      "\n",
      "\n",
      "Integration:\n",
      "method: Gauss-Hermite\n",
      "quadrature points: 21 \n",
      "\n",
      "Optimization:\n",
      "Convergence: 0 \n",
      "max(|grad|): 0.011 \n",
      "optimizer: nlminb \n",
      "\n",
      "\n",
      "\n",
      "\n",
      "Call:\n",
      "gpcm(data = STitems)\n",
      "\n",
      "Model Summary:\n",
      "   log.Lik      AIC      BIC\n",
      " -9055.544 18161.09 18286.81\n",
      "\n",
      "Coefficients:\n",
      "$ASTI2\n",
      "         value std.err z.value\n",
      "Catgr.1 -1.974   0.238  -8.304\n",
      "Catgr.2 -0.803   0.158  -5.082\n",
      "Catgr.3  1.675   0.211   7.955\n",
      "Dscrmn   0.616   0.093   6.600\n",
      "\n",
      "$ASTI4\n",
      "         value std.err z.value\n",
      "Catgr.1 -2.987   0.417  -7.156\n",
      "Catgr.2 -1.108   0.214  -5.180\n",
      "Catgr.3  2.328   0.334   6.977\n",
      "Dscrmn   0.483   0.077   6.260\n",
      "\n",
      "$ASTI8\n",
      "         value std.err z.value\n",
      "Catgr.1 -4.425   1.862  -2.376\n",
      "Catgr.2  4.820   2.021   2.385\n",
      "Dscrmn   0.142   0.059   2.395\n",
      "\n",
      "$ASTI13\n",
      "         value std.err z.value\n",
      "Catgr.1 -2.524   0.421  -6.002\n",
      "Catgr.2 -0.198   0.188  -1.057\n",
      "Dscrmn   0.377   0.065   5.802\n",
      "\n",
      "$ASTI16\n",
      "         value std.err z.value\n",
      "Catgr.1 -2.312   0.303  -7.628\n",
      "Catgr.2 -0.337   0.143  -2.358\n",
      "Catgr.3  2.057   0.274   7.519\n",
      "Dscrmn   0.539   0.084   6.385\n",
      "\n",
      "$ASTI24\n",
      "         value std.err z.value\n",
      "Catgr.1 -0.721   0.119  -6.066\n",
      "Catgr.2  1.783   0.220   8.102\n",
      "Dscrmn   0.714   0.114   6.282\n",
      "\n",
      "$ASTI25\n",
      "         value std.err z.value\n",
      "Catgr.1 -1.665   0.182  -9.175\n",
      "Catgr.2 -0.081   0.091  -0.896\n",
      "Catgr.3  1.776   0.196   9.081\n",
      "Dscrmn   0.864   0.154   5.595\n",
      "\n",
      "\n",
      "Integration:\n",
      "method: Gauss-Hermite\n",
      "quadrature points: 21 \n",
      "\n",
      "Optimization:\n",
      "Convergence: 0 \n",
      "max(|grad|): 0.073 \n",
      "optimizer: nlminb \n",
      "\n",
      "\n",
      "\n"
     ]
    }
   ],
   "source": [
    "ro.r('stpcm <- gpcm(STitems, constraint = \"rasch\")') # Partial Credit Model\n",
    "ro.r('stgpcm <- gpcm(STitems)')                      # Generalized Partial Credit Model\n",
    "\n",
    "print(ro.r('summary(stpcm)'))\n",
    "print(ro.r('summary(stgpcm)'))"
   ]
  },
  {
   "cell_type": "code",
   "execution_count": null,
   "id": "1030c3c8",
   "metadata": {},
   "outputs": [
    {
     "name": "stdout",
     "output_type": "stream",
     "text": [
      "\n",
      " Likelihood Ratio Table\n",
      "\n",
      "            AIC      BIC  log.Lik    LRT df p.value\n",
      "stpcm  18442.24 18532.76 -9203.12        18        \n",
      "stgpcm 18161.09 18286.81 -9055.54 295.15 25  <0.001\n",
      "\n",
      "\n",
      "\n"
     ]
    }
   ],
   "source": [
    "# Likelihood Ratio Test (LRT) via anova()\n",
    "print(ro.r('anova(stpcm, stgpcm)')) "
   ]
  },
  {
   "cell_type": "markdown",
   "id": "88e40d22",
   "metadata": {},
   "source": [
    "The table above presents the results from a **Likelihood Ratio Test (LRT)** comparing the fit of the PCM and GPCM. \n",
    "\n",
    "Lower AIC and BIC values indicate a better-fitting model. In this case, the GPCM shows substantially lower AIC (18161.09 vs. 18442.24) and BIC (18286.81 vs. 18532.76) values compared to the PCM. This suggests that the GPCM offers a better balance between model fit and complexity.\n",
    "\n",
    "The **Likelihood Ratio Test statistic** (LRT = 295.15, df = 25, p < .001) provides statistical support for this conclusion. \n",
    "The significant p-value indicates that the improvement in fit achieved by allowing item discrimination to vary (as in the GPCM) is unlikely to have occurred by chance."
   ]
  },
  {
   "cell_type": "markdown",
   "id": "cee33e45",
   "metadata": {},
   "source": [
    "<div style=\"border-left: 4px solid #f39c12; background-color: #fff8e1; padding: 1em; margin: 1em 0;\">\n",
    "<strong>⚠️ Note:</strong>\n",
    "\n",
    "| Test                    | Compares:                           | Tests:                    | Use case:               |\n",
    "| ----------------------- | -------------------------------     | ------------------------- | ----------------------- |\n",
    "| `anova()`               | Nested IRT models (ex. PCM vs GPCM) | Model improvement (fit)   | Model selection         |\n",
    "| `LRtest()`              | Same model across subgroups         | Item parameter invariance | Model fit across groups |\n",
    "\n",
    "</div>\n"
   ]
  },
  {
   "cell_type": "markdown",
   "id": "743ec216",
   "metadata": {},
   "source": [
    "## ICCs"
   ]
  },
  {
   "cell_type": "code",
   "execution_count": 33,
   "id": "042669e1",
   "metadata": {},
   "outputs": [
    {
     "data": {
      "image/png": "[encoded data removed]",
      "text/plain": [
       "<IPython.core.display.Image object>"
      ]
     },
     "metadata": {},
     "output_type": "display_data"
    }
   ],
   "source": [
    "%%R\n",
    "plot(stpcm, main = \"ICC PCM\", items = 1)"
   ]
  },
  {
   "cell_type": "code",
   "execution_count": 36,
   "id": "0071255d",
   "metadata": {},
   "outputs": [
    {
     "data": {
      "image/png": "[encoded data removed]",
      "text/plain": [
       "<IPython.core.display.Image object>"
      ]
     },
     "metadata": {},
     "output_type": "display_data"
    }
   ],
   "source": [
    "%%R\n",
    "plot(stpcm, main = \"ICC PCM\", items = 2)"
   ]
  },
  {
   "cell_type": "code",
   "execution_count": 32,
   "id": "dc9ab3d2",
   "metadata": {},
   "outputs": [
    {
     "data": {
      "image/png": "[encoded data removed]",
      "text/plain": [
       "<IPython.core.display.Image object>"
      ]
     },
     "metadata": {},
     "output_type": "display_data"
    }
   ],
   "source": [
    "%%R\n",
    "plot(stgpcm, main = \"ICC GPCM\", items = 1)"
   ]
  },
  {
   "cell_type": "code",
   "execution_count": 35,
   "id": "01dca417",
   "metadata": {},
   "outputs": [
    {
     "data": {
      "image/png": "[encoded data removed]",
      "text/plain": [
       "<IPython.core.display.Image object>"
      ]
     },
     "metadata": {},
     "output_type": "display_data"
    }
   ],
   "source": [
    "%%R\n",
    "plot(stgpcm, main = \"ICC GPCM\", items = 2)"
   ]
  },
  {
   "cell_type": "markdown",
   "id": "1c97d7ea",
   "metadata": {},
   "source": [
    "## Interpreting ICCs in PCM vs. GPCM\n",
    "\n",
    "The ICC plots illustrate the structural differences between PCM and GPCM. The **upper panels** display ICCs for two items estimated under the **PCM**, where the **slopes are constant** both *within* and *across* items. Although the ICCs may appear visually similar, slight differences still emerge due to item-specific threshold locations. The **lower panels** show ICCs from the **GPCM** fit. Here, **slopes vary across items**, but remain constant within each item—this variation arises from the inclusion of **item-specific discrimination parameters** ($\\alpha_i$).\n",
    "\n",
    "## Interpretation\n",
    "\n",
    "Items with higher $\\alpha_i$ values exhibit **steeper ICCs**, indicating **greater sensitivity** to differences in the latent trait. These items are more effective at distinguishing between individuals at different trait levels. Conversely, items with lower $\\alpha_i$ values produce **flatter ICCs**, reflecting weaker associations with the latent trait and reduced discriminatory power. Such items contribute less precise information about a person's position on the trait continuum.\n"
   ]
  },
  {
   "cell_type": "markdown",
   "id": "4613615a",
   "metadata": {},
   "source": [
    "### Test your understanding"
   ]
  },
  {
   "cell_type": "code",
   "execution_count": null,
   "id": "6ca9bcf6",
   "metadata": {},
   "outputs": [
    {
     "data": {
      "text/html": [
       "<div id=\"aTLFLfoGAKLj\" data-shufflequestions=\"False\" data-shuffleanswers=\"True\" data-preserveresponses=\"false\" data-numquestions=\"1000000\" data-maxwidth=\"600\" style=\"border-radius: 10px; text-align: left\"><style>\n",
       "#aTLFLfoGAKLj {\n",
       "   --jq-multiple-choice-bg: #6f78ffff;\n",
       "   --jq-mc-button-bg: #fafafa;\n",
       "   --jq-mc-button-border: #e0e0e0e0;\n",
       "   --jq-mc-button-inset-shadow: #555555;\n",
       "   --jq-many-choice-bg: #f75c03ff;\n",
       "   --jq-numeric-bg: #392061ff;\n",
       "   --jq-numeric-input-bg: #c0c0c0;\n",
       "   --jq-numeric-input-label: #101010;\n",
       "   --jq-numeric-input-shadow: #999999;\n",
       "   --jq-string-bg: #4c1a57;\n",
       "   --jq-incorrect-color: #c80202;\n",
       "   --jq-correct-color: #009113;\n",
       "   --jq-text-color: #fafafa;\n",
       "}\n",
       "\n",
       ".Quiz {\n",
       "    max-width: 600px;\n",
       "    margin-top: 15px;\n",
       "    margin-left: auto;\n",
       "    margin-right: auto;\n",
       "/*    margin-bottom: 15px;*/\n",
       "/*    padding-bottom: 4px;*/\n",
       "    padding-top: 4px;\n",
       "    line-height: 1.1;\n",
       "    font-size: 16pt;\n",
       "    border-radius: inherit;\n",
       "}\n",
       "\n",
       ".QuizCode {\n",
       "    font-size: 14pt;\n",
       "    margin-top: 10px;\n",
       "    margin-left: 20px;\n",
       "    margin-right: 20px;\n",
       "}\n",
       "\n",
       ".QuizCode>pre {\n",
       "    padding: 4px;\n",
       "}\n",
       "\n",
       ".Quiz code {\n",
       "    background-color: lightgray;\n",
       "    color: black;\n",
       "}\n",
       "\n",
       ".Quiz .QuizCode code {\n",
       "    background-color: inherit;\n",
       "    color: inherit;\n",
       "}\n",
       "\n",
       "\n",
       ".Quiz .MCButton code {\n",
       "    background-color: inherit;\n",
       "    color: inherit;\n",
       "}\n",
       "\n",
       ".MCButton .QuizCode {\n",
       "    text-align: left;\n",
       "}\n",
       "\n",
       "\n",
       "\n",
       "\n",
       ".Answer {\n",
       "    border-radius: inherit;\n",
       "    display: grid;\n",
       "    grid-gap: 10px;\n",
       "    grid-template-columns: 1fr 1fr;\n",
       "    margin: 10px 0;\n",
       "}\n",
       "\n",
       "@media only screen and (max-width:480px) {\n",
       "    .Answer {\n",
       "        grid-template-columns: 1fr;\n",
       "    }\n",
       "\n",
       "}\n",
       "\n",
       ".Feedback {\n",
       "    font-size: 16pt;\n",
       "    text-align: center;\n",
       "/*    min-height: 2em;*/\n",
       "}\n",
       "\n",
       ".Input {\n",
       "    align: left;\n",
       "    font-size: 20pt;\n",
       "}\n",
       "\n",
       ".Input-text {\n",
       "    display: block;\n",
       "    margin: 10px;\n",
       "    color: inherit;\n",
       "    width: unset;\n",
       "    min-width: 140px;\n",
       "    max-width: 93%;\n",
       "    field-sizing: content;\n",
       "    background-color: var(--jq-numeric-input-bg);\n",
       "    color: var(--jq-text-color);\n",
       "    padding: 5px;\n",
       "    padding-left: 10px;\n",
       "    font-family: inherit;\n",
       "    font-size: 20px;\n",
       "    font-weight: inherit;\n",
       "    line-height: 20pt;\n",
       "    border: none;\n",
       "    border-radius: 0.2rem;\n",
       "    transition: box-shadow 0.1s);\n",
       "}\n",
       "\n",
       ".Input-text:focus {\n",
       "    /*outline: none;*/\n",
       "    background-color: var(--jq-numeric-input-bg);\n",
       "    box-shadow: 0.6rem 0.8rem 1.4rem -0.5rem var(--jq-numeric-input-shadow);\n",
       "}\n",
       "\n",
       ".MCButton {\n",
       "    background: var(--jq-mc-button-bg);\n",
       "    border: 1px solid var(--jq-mc-button-border);\n",
       "    border-radius: inherit;\n",
       "    color: #333333;\n",
       "    padding: 10px;\n",
       "    font-size: 16px;\n",
       "    cursor: pointer;\n",
       "    text-align: center;\n",
       "    display: flex;\n",
       "    align-items: center;\n",
       "    justify-content: center;\n",
       "}\n",
       "\n",
       ".MCButton p {\n",
       "    color: inherit;\n",
       "}\n",
       "\n",
       ".MultipleChoiceQn {\n",
       "    padding: 10px;\n",
       "    background: var(--jq-multiple-choice-bg);\n",
       "    color: var(--jq-text-color);\n",
       "    border-radius: inherit;\n",
       "}\n",
       "\n",
       ".ManyChoiceQn {\n",
       "    padding: 10px;\n",
       "    background: var(--jq-many-choice-bg);\n",
       "    color: var(--jq-text-color);\n",
       "    border-radius: inherit;\n",
       "}\n",
       "\n",
       ".NumericQn {\n",
       "    background: var(--jq-numeric-bg);\n",
       "    border-radius: inherit;\n",
       "    color: var(--jq-text-color);\n",
       "    padding: 10px;\n",
       "}\n",
       "\n",
       ".NumericQn p {\n",
       "    color: inherit;\n",
       "}\n",
       "\n",
       ".StringQn {\n",
       "    background: var(--jq-string-bg);\n",
       "    border-radius: inherit;\n",
       "    color: var(--jq-text-color);\n",
       "    padding: 10px;\n",
       "}\n",
       "\n",
       ".StringQn p {\n",
       "    color: inherit;\n",
       "}\n",
       "\n",
       "\n",
       ".InpLabel {\n",
       "    color: var(--jq-numeric-input-label);\n",
       "    float: left;\n",
       "    font-size: 15pt;\n",
       "    line-height: 34px;\n",
       "    margin-right: 10px;\n",
       "}\n",
       "\n",
       ".incorrect {\n",
       "    color: var(--jq-incorrect-color);\n",
       "}\n",
       "\n",
       ".correct {\n",
       "    color: var(--jq-correct-color);\n",
       "}\n",
       "\n",
       ".correctButton {\n",
       "    /*\n",
       "    background: var(--jq-correct-color);\n",
       "   */\n",
       "    animation: correct-anim 0.6s ease;\n",
       "    animation-fill-mode: forwards;\n",
       "    box-shadow: inset 0 0 5px var(--jq-mc-button-inset-shadow);\n",
       "    color: var(--jq-text-color);\n",
       "    /*outline: none;*/\n",
       "}\n",
       "\n",
       ".incorrectButton {\n",
       "    animation: incorrect-anim 0.8s ease;\n",
       "    animation-fill-mode: forwards;\n",
       "    box-shadow: inset 0 0 5px var(--jq-mc-button-inset-shadow);\n",
       "    color: var(--jq-text-color);\n",
       "    /*outline: none;*/\n",
       "}\n",
       "\n",
       "@keyframes incorrect-anim {\n",
       "    100% {\n",
       "        background-color: var(--jq-incorrect-color);\n",
       "    }\n",
       "}\n",
       "\n",
       "@keyframes correct-anim {\n",
       "    100% {\n",
       "        background-color: var(--jq-correct-color);\n",
       "    }\n",
       "}\n",
       "</style>"
      ],
      "text/plain": [
       "<IPython.core.display.HTML object>"
      ]
     },
     "metadata": {},
     "output_type": "display_data"
    },
    {
     "data": {
      "application/javascript": "var questionsaTLFLfoGAKLj=[\n  {\n    \"question\": \"Based on the comparison of the PCM and GPCM, why might the GPCM be a better fit for the ST items?\",\n    \"type\": \"multiple_choice\",\n    \"answers\": [\n      {\n        \"answer\": \"Because it allows each item to have a unique discrimination parameter, improving model fit when items vary in how strongly they relate to the latent trait.\",\n        \"correct\": true\n      },\n      {\n        \"answer\": \"Because it forces all items to have the same discrimination, simplifying the model.\",\n        \"correct\": false\n      },\n      {\n        \"answer\": \"Because it treats all items as dichotomous, which reduces complexity.\",\n        \"correct\": false\n      },\n      {\n        \"answer\": \"Because it removes threshold estimation, focusing only on person parameters.\",\n        \"correct\": false\n      }\n    ]\n  },\n  {\n    \"question\": \"Examine the ICC plots for both models. How does the inclusion of discrimination parameters in the GPCM change the interpretation of item difficulty and discrimination?\",\n    \"type\": \"multiple_choice\",\n    \"answers\": [\n      {\n        \"answer\": \"It allows items to vary in slope, meaning that items can differ in how sharply they distinguish between individuals at different levels of the trait.\",\n        \"correct\": true\n      },\n      {\n        \"answer\": \"It shifts the thresholds uniformly but keeps the slope constant across items.\",\n        \"correct\": false\n      },\n      {\n        \"answer\": \"It removes thresholds and focuses only on item means.\",\n        \"correct\": false\n      },\n      {\n        \"answer\": \"It fixes all item slopes to 1 to ensure comparability.\",\n        \"correct\": false\n      }\n    ]\n  },\n  {\n    \"question\": \"In what situations might you prefer to use a PCM even if the GPCM fits the data slightly better?\",\n    \"type\": \"multiple_choice\",\n    \"answers\": [\n      {\n        \"answer\": \"When you want a more parsimonious model and assume equal discrimination due to theoretical reasons.\",\n        \"correct\": true\n      },\n      {\n        \"answer\": \"When you want to model guessing behavior in multiple-choice items.\",\n        \"correct\": false\n      },\n      {\n        \"answer\": \"When the data include missing values and require imputation.\",\n        \"correct\": false\n      },\n      {\n        \"answer\": \"When item categories are unordered and nominal.\",\n        \"correct\": false\n      }\n    ]\n  }\n]\n;\n\nif (typeof Question === 'undefined') {\n// Make a random ID\nfunction makeid(length) {\n    var result = [];\n    var characters = 'ABCDEFGHIJKLMNOPQRSTUVWXYZabcdefghijklmnopqrstuvwxyz';\n    var charactersLength = characters.length;\n    for (var i = 0; i < length; i++) {\n        result.push(characters.charAt(Math.floor(Math.random() * charactersLength)));\n    }\n    return result.join('');\n}\n// Convert LaTeX delimiters and markdown links to HTML\nfunction jaxify(string) {\n    let mystring = string;\n    let count = 0, count2 = 0;\n    let loc = mystring.search(/([^\\\\]|^)(\\$)/);\n    let loc2 = mystring.search(/([^\\\\]|^)(\\$\\$)/);\n    while (loc >= 0 || loc2 >= 0) {\n        if (loc2 >= 0) {\n            mystring = mystring.replace(/([^\\\\]|^)(\\$\\$)/, count2 % 2 ? '$1\\\\]' : '$1\\\\[');\n            count2++;\n        } else {\n            mystring = mystring.replace(/([^\\\\]|^)(\\$)/, count % 2 ? '$1\\\\)' : '$1\\\\(');\n            count++;\n        }\n        loc = mystring.search(/([^\\\\]|^)(\\$)/);\n        loc2 = mystring.search(/([^\\\\]|^)(\\$\\$)/);\n    }\n    // Replace markdown links\n    mystring = mystring.replace(/<http(.*?)>/g, '<a href=\"http$1\" target=\"_blank\" class=\"Link\">http$1</a>');\n    mystring = mystring.replace(/\\[(.*?)\\]\\((.*?)\\)/g, '<a href=\"$2\" target=\"_blank\" class=\"Link\">$1</a>');\n    return mystring;\n}\n\n// Base class for question types\nclass Question {\n    static registry = {};\n    static register(type, cls) {\n        Question.registry[type] = cls;\n    }\n    static create(qa, id, index, options, rootDiv) {\n        const Cls = Question.registry[qa.type];\n        if (!Cls) {\n            console.error(`No question class registered for type \"${qa.type}\"`);\n            return;\n        }\n        const q = new Cls(qa, id, index, options, rootDiv);\n        q.render();\n    }\n\n    constructor(qa, id, index, options, rootDiv) {\n        this.qa = qa;\n        this.id = id;\n        this.index = index;\n        this.options = options;\n        this.rootDiv = rootDiv;\n        // wrapper\n        this.wrapper = document.createElement('div');\n        this.wrapper.id = `quizWrap${id}`;\n        this.wrapper.className = 'Quiz';\n        this.wrapper.dataset.qnum = index;\n        this.wrapper.style.maxWidth = `${options.maxWidth}px`;\n        rootDiv.appendChild(this.wrapper);\n        // question container\n        this.outerqDiv = document.createElement('div');\n        this.outerqDiv.id = `OuterquizQn${id}${index}`;\n        this.wrapper.appendChild(this.outerqDiv);\n        // question text\n        this.qDiv = document.createElement('div');\n        this.qDiv.id = `quizQn${id}${index}`;\n        if (qa.question) {\n            this.qDiv.innerHTML = jaxify(qa.question);\n            this.outerqDiv.appendChild(this.qDiv);\n        }\n        // code block\n        if (qa.code) {\n            const codeDiv = document.createElement('div');\n            codeDiv.id = `code${id}${index}`;\n            codeDiv.className = 'QuizCode';\n            const pre = document.createElement('pre');\n            const codeEl = document.createElement('code');\n            codeEl.innerHTML = qa.code;\n            pre.appendChild(codeEl);\n            codeDiv.appendChild(pre);\n            this.outerqDiv.appendChild(codeDiv);\n        }\n        // answer container\n        this.aDiv = document.createElement('div');\n        this.aDiv.id = `quizAns${id}${index}`;\n        this.aDiv.className = 'Answer';\n        this.wrapper.appendChild(this.aDiv);\n        // feedback container (append after answers)\n        this.fbDiv = document.createElement('div');\n        this.fbDiv.id = `fb${id}`;\n        this.fbDiv.className = 'Feedback';\n        this.fbDiv.dataset.answeredcorrect = 0;\n    }\n\n    render() {\n        throw new Error('render() not implemented');\n    }\n\n    preserveResponse(val) {\n        if (!this.options.preserveResponses) return;\n        const resp = document.getElementById(`responses${this.rootDiv.id}`);\n        if (!resp) return;\n        const arr = JSON.parse(resp.dataset.responses);\n        arr[this.index] = val;\n        resp.dataset.responses = JSON.stringify(arr);\n        printResponses(resp);\n    }\n\n    typeset(container) {\n        if (typeof MathJax !== 'undefined') {\n            const v = MathJax.version;\n            if (v[0] === '2') {\n                MathJax.Hub.Queue(['Typeset', MathJax.Hub]);\n            } else {\n                MathJax.typeset([container]);\n            }\n        }\n    }\n}\n\n// Choose a random subset of an array. Can also be used to shuffle the array\nfunction getRandomSubarray(arr, size) {\n    var shuffled = arr.slice(0), i = arr.length, temp, index;\n    while (i--) {\n        index = Math.floor((i + 1) * Math.random());\n        temp = shuffled[index];\n        shuffled[index] = shuffled[i];\n        shuffled[i] = temp;\n    }\n    return shuffled.slice(0, size);\n}\n\nfunction printResponses(responsesContainer) {\n    var responses=JSON.parse(responsesContainer.dataset.responses);\n    var stringResponses='<B>IMPORTANT!</B>To preserve this answer sequence for submission, when you have finalized your answers: <ol> <li> Copy the text in this cell below \"Answer String\"</li> <li> Double click on the cell directly below the Answer String, labeled \"Replace Me\"</li> <li> Select the whole \"Replace Me\" text</li> <li> Paste in your answer string and press shift-Enter.</li><li>Save the notebook using the save icon or File->Save Notebook menu item</li></ul><br><br><br><b>Answer String:</b><br> ';\n    console.log(responses);\n    responses.forEach((response, index) => {\n        if (response) {\n            console.log(index + ': ' + response);\n            stringResponses+= index + ': ' + response +\"<BR>\";\n        }\n    });\n    responsesContainer.innerHTML=stringResponses;\n}\n/* Callback function to determine whether a selected multiple-choice\n   button corresponded to a correct answer and to provide feedback\n   based on the answer */\nfunction check_mc() {\n    var id = this.id.split('-')[0];\n    //var response = this.id.split('-')[1];\n    //console.log(response);\n    //console.log(\"In check_mc(), id=\"+id);\n    //console.log(event.srcElement.id)           \n    //console.log(event.srcElement.dataset.correct)   \n    //console.log(event.srcElement.dataset.feedback)\n\n    var label = event.srcElement;\n    //console.log(label, label.nodeName);\n    var depth = 0;\n    while ((label.nodeName != \"LABEL\") && (depth < 20)) {\n        label = label.parentElement;\n        console.log(depth, label);\n        depth++;\n    }\n\n\n\n    var answers = label.parentElement.children;\n    //console.log(answers);\n\n    // Split behavior based on multiple choice vs many choice:\n    var fb = document.getElementById(\"fb\" + id);\n\n\n\n    /* Multiple choice (1 answer). Allow for 0 correct\n       answers as an edge case */\n    if (fb.dataset.numcorrect <= 1) {\n        // What follows is for the saved responses stuff\n        var outerContainer = fb.parentElement.parentElement;\n        var responsesContainer = document.getElementById(\"responses\" + outerContainer.id);\n        if (responsesContainer) {\n            //console.log(responsesContainer);\n            var response = label.firstChild.innerText;\n            if (label.querySelector(\".QuizCode\")){\n                response+= label.querySelector(\".QuizCode\").firstChild.innerText;\n            }\n            console.log(response);\n            //console.log(document.getElementById(\"quizWrap\"+id));\n            var qnum = document.getElementById(\"quizWrap\"+id).dataset.qnum;\n            console.log(\"Question \" + qnum);\n            //console.log(id, \", got numcorrect=\",fb.dataset.numcorrect);\n            var responses=JSON.parse(responsesContainer.dataset.responses);\n            console.log(responses);\n            responses[qnum]= response;\n            responsesContainer.setAttribute('data-responses', JSON.stringify(responses));\n            printResponses(responsesContainer);\n        }\n        // End code to preserve responses\n\n        for (var i = 0; i < answers.length; i++) {\n            var child = answers[i];\n            //console.log(child);\n            child.className = \"MCButton\";\n        }\n\n\n\n        if (label.dataset.correct == \"true\") {\n            // console.log(\"Correct action\");\n            if (\"feedback\" in label.dataset) {\n                fb.innerHTML = jaxify(label.dataset.feedback);\n            } else {\n                fb.innerHTML = \"Correct!\";\n            }\n            label.classList.add(\"correctButton\");\n\n            fb.className = \"Feedback\";\n            fb.classList.add(\"correct\");\n\n        } else {\n            if (\"feedback\" in label.dataset) {\n                fb.innerHTML = jaxify(label.dataset.feedback);\n            } else {\n                fb.innerHTML = \"Incorrect -- try again.\";\n            }\n            //console.log(\"Error action\");\n            label.classList.add(\"incorrectButton\");\n            fb.className = \"Feedback\";\n            fb.classList.add(\"incorrect\");\n        }\n    }\n    else { /* Many choice (more than 1 correct answer) */\n        var reset = false;\n        var feedback;\n         if (label.dataset.correct == \"true\") {\n            if (\"feedback\" in label.dataset) {\n                feedback = jaxify(label.dataset.feedback);\n            } else {\n                feedback = \"Correct!\";\n            }\n            if (label.dataset.answered <= 0) {\n                if (fb.dataset.answeredcorrect < 0) {\n                    fb.dataset.answeredcorrect = 1;\n                    reset = true;\n                } else {\n                    fb.dataset.answeredcorrect++;\n                }\n                if (reset) {\n                    for (var i = 0; i < answers.length; i++) {\n                        var child = answers[i];\n                        child.className = \"MCButton\";\n                        child.dataset.answered = 0;\n                    }\n                }\n                label.classList.add(\"correctButton\");\n                label.dataset.answered = 1;\n                fb.className = \"Feedback\";\n                fb.classList.add(\"correct\");\n\n            }\n        } else {\n            if (\"feedback\" in label.dataset) {\n                feedback = jaxify(label.dataset.feedback);\n            } else {\n                feedback = \"Incorrect -- try again.\";\n            }\n            if (fb.dataset.answeredcorrect > 0) {\n                fb.dataset.answeredcorrect = -1;\n                reset = true;\n            } else {\n                fb.dataset.answeredcorrect--;\n            }\n\n            if (reset) {\n                for (var i = 0; i < answers.length; i++) {\n                    var child = answers[i];\n                    child.className = \"MCButton\";\n                    child.dataset.answered = 0;\n                }\n            }\n            label.classList.add(\"incorrectButton\");\n            fb.className = \"Feedback\";\n            fb.classList.add(\"incorrect\");\n        }\n        // What follows is for the saved responses stuff\n        var outerContainer = fb.parentElement.parentElement;\n        var responsesContainer = document.getElementById(\"responses\" + outerContainer.id);\n        if (responsesContainer) {\n            //console.log(responsesContainer);\n            var response = label.firstChild.innerText;\n            if (label.querySelector(\".QuizCode\")){\n                response+= label.querySelector(\".QuizCode\").firstChild.innerText;\n            }\n            console.log(response);\n            //console.log(document.getElementById(\"quizWrap\"+id));\n            var qnum = document.getElementById(\"quizWrap\"+id).dataset.qnum;\n            console.log(\"Question \" + qnum);\n            //console.log(id, \", got numcorrect=\",fb.dataset.numcorrect);\n            var responses=JSON.parse(responsesContainer.dataset.responses);\n            if (label.dataset.correct == \"true\") {\n                if (typeof(responses[qnum]) == \"object\"){\n                    if (!responses[qnum].includes(response))\n                        responses[qnum].push(response);\n                } else{\n                    responses[qnum]= [ response ];\n                }\n            } else {\n                responses[qnum]= response;\n            }\n            console.log(responses);\n            responsesContainer.setAttribute('data-responses', JSON.stringify(responses));\n            printResponses(responsesContainer);\n        }\n        // End save responses stuff\n\n\n\n        var numcorrect = fb.dataset.numcorrect;\n        var answeredcorrect = fb.dataset.answeredcorrect;\n        if (answeredcorrect >= 0) {\n            fb.innerHTML = feedback + \" [\" + answeredcorrect + \"/\" + numcorrect + \"]\";\n        } else {\n            fb.innerHTML = feedback + \" [\" + 0 + \"/\" + numcorrect + \"]\";\n        }\n\n\n    }\n\n    if (typeof MathJax != 'undefined') {\n        var version = MathJax.version;\n        console.log('MathJax version', version);\n        if (version[0] == \"2\") {\n            MathJax.Hub.Queue([\"Typeset\", MathJax.Hub]);\n        } else if (version[0] == \"3\") {\n            MathJax.typeset([fb]);\n        }\n    } else {\n        console.log('MathJax not detected');\n    }\n\n}\n\n\n/* Function to produce the HTML buttons for a multiple choice/\n   many choice question  and to update the CSS tags based on\n   the question type */\nfunction make_mc(qa, shuffle_answers, outerqDiv, qDiv, aDiv, id) {\n\n    var shuffled;\n    if (shuffle_answers == true) {\n        //console.log(shuffle_answers+\" read as true\");\n        shuffled = getRandomSubarray(qa.answers, qa.answers.length);\n    } else {\n        //console.log(shuffle_answers+\" read as false\");\n        shuffled = qa.answers;\n    }\n\n\n    var num_correct = 0;\n\n    shuffled.forEach((item, index, ans_array) => {\n        //console.log(answer);\n\n        // Make input element\n        var inp = document.createElement(\"input\");\n        inp.type = \"radio\";\n        inp.id = \"quizo\" + id + index;\n        inp.style = \"display:none;\";\n        aDiv.append(inp);\n\n        //Make label for input element\n        var lab = document.createElement(\"label\");\n        lab.className = \"MCButton\";\n        lab.id = id + '-' + index;\n        lab.onclick = check_mc;\n        var aSpan = document.createElement('span');\n        aSpan.classsName = \"\";\n        //qDiv.id=\"quizQn\"+id+index;\n        if (\"answer\" in item) {\n            aSpan.innerHTML = jaxify(item.answer);\n            //aSpan.innerHTML=item.answer;\n        }\n        lab.append(aSpan);\n\n        // Create div for code inside question\n        var codeSpan;\n        if (\"code\" in item) {\n            codeSpan = document.createElement('span');\n            codeSpan.id = \"code\" + id + index;\n            codeSpan.className = \"QuizCode\";\n            var codePre = document.createElement('pre');\n            codeSpan.append(codePre);\n            var codeCode = document.createElement('code');\n            codePre.append(codeCode);\n            codeCode.innerHTML = item.code;\n            lab.append(codeSpan);\n            //console.log(codeSpan);\n        }\n\n        //lab.textContent=item.answer;\n\n        // Set the data attributes for the answer\n        lab.setAttribute('data-correct', item.correct);\n        if (item.correct) {\n            num_correct++;\n        }\n        if (\"feedback\" in item) {\n            lab.setAttribute('data-feedback', item.feedback);\n        }\n        lab.setAttribute('data-answered', 0);\n\n        aDiv.append(lab);\n\n    });\n\n    if (num_correct > 1) {\n        outerqDiv.className = \"ManyChoiceQn\";\n    } else {\n        outerqDiv.className = \"MultipleChoiceQn\";\n    }\n\n    return num_correct;\n\n}\n// Object-oriented wrapper for MC/MANY choice\nclass MCQuestion extends Question {\n    constructor(qa, id, idx, opts, rootDiv) { super(qa, id, idx, opts, rootDiv); }\n    render() {\n        //console.log(\"options.shuffleAnswers \" + this.options.shuffleAnswers);\n        const numCorrect = make_mc(\n            this.qa,\n            this.options.shuffleAnswers,\n            this.outerqDiv,\n            this.qDiv,\n            this.aDiv,\n            this.id\n        );\n        if ('answer_cols' in this.qa) {\n            this.aDiv.style.gridTemplateColumns =\n                'repeat(' + this.qa.answer_cols + ', 1fr)';\n        }\n        this.fbDiv.dataset.numcorrect = numCorrect;\n        this.wrapper.appendChild(this.fbDiv);\n    }\n}\nQuestion.register('multiple_choice', MCQuestion);\nQuestion.register('many_choice', MCQuestion);\nfunction check_numeric(ths, event) {\n\n    if (event.keyCode === 13) {\n        ths.blur();\n\n        var id = ths.id.split('-')[0];\n\n        var submission = ths.value;\n        if (submission.indexOf('/') != -1) {\n            var sub_parts = submission.split('/');\n            //console.log(sub_parts);\n            submission = sub_parts[0] / sub_parts[1];\n        }\n        //console.log(\"Reader entered\", submission);\n\n        if (\"precision\" in ths.dataset) {\n            var precision = ths.dataset.precision;\n            submission = Number(Number(submission).toPrecision(precision));\n        }\n\n\n        //console.log(\"In check_numeric(), id=\"+id);\n        //console.log(event.srcElement.id)           \n        //console.log(event.srcElement.dataset.feedback)\n\n        var fb = document.getElementById(\"fb\" + id);\n        fb.style.display = \"none\";\n        fb.innerHTML = \"Incorrect -- try again.\";\n\n        var answers = JSON.parse(ths.dataset.answers);\n        //console.log(answers);\n\n        var defaultFB = \"Incorrect. Try again.\";\n        var correct;\n        var done = false;\n        answers.every(answer => {\n            //console.log(answer.type);\n\n            correct = false;\n            // if (answer.type==\"value\"){\n            if ('value' in answer) {\n                var value;\n                if (\"precision\" in ths.dataset) {\n                    value = answer.value.toPrecision(ths.dataset.precision);\n                } else {\n                    value = answer.value;\n                }\n                if (submission == value) {\n                    if (\"feedback\" in answer) {\n                        fb.innerHTML = jaxify(answer.feedback);\n                    } else {\n                        fb.innerHTML = jaxify(\"Correct\");\n                    }\n                    correct = answer.correct;\n                    //console.log(answer.correct);\n                    done = true;\n                }\n\n                // } else if (answer.type==\"range\") {\n            } else if ('range' in answer) {\n                console.log(answer.range);\n                console.log(submission, submission >=answer.range[0], submission < answer.range[1])\n                if ((submission >= answer.range[0]) && (submission < answer.range[1])) {\n                    fb.innerHTML = jaxify(answer.feedback);\n                    correct = answer.correct;\n                    console.log(answer.correct);\n                    done = true;\n                }\n            } else if (answer.type == \"default\") {\n                if (\"feedback\" in answer) {\n                    defaultFB = answer.feedback;\n                } \n            }\n            if (done) {\n                return false; // Break out of loop if this has been marked correct\n            } else {\n                return true; // Keep looking for case that includes this as a correct answer\n            }\n        });\n        console.log(\"done:\", done);\n\n        if ((!done) && (defaultFB != \"\")) {\n            fb.innerHTML = jaxify(defaultFB);\n            //console.log(\"Default feedback\", defaultFB);\n        }\n\n        fb.style.display = \"block\";\n        if (correct) {\n            ths.className = \"Input-text\";\n            ths.classList.add(\"correctButton\");\n            fb.className = \"Feedback\";\n            fb.classList.add(\"correct\");\n        } else {\n            ths.className = \"Input-text\";\n            ths.classList.add(\"incorrectButton\");\n            fb.className = \"Feedback\";\n            fb.classList.add(\"incorrect\");\n        }\n\n        // What follows is for the saved responses stuff\n        var outerContainer = fb.parentElement.parentElement;\n        var responsesContainer = document.getElementById(\"responses\" + outerContainer.id);\n        if (responsesContainer) {\n            console.log(submission);\n            var qnum = document.getElementById(\"quizWrap\"+id).dataset.qnum;\n            //console.log(\"Question \" + qnum);\n            //console.log(id, \", got numcorrect=\",fb.dataset.numcorrect);\n            var responses=JSON.parse(responsesContainer.dataset.responses);\n            console.log(responses);\n            if (submission == ths.value){\n                responses[qnum]= submission;\n            } else {\n                responses[qnum]= ths.value + \"(\" + submission +\")\";\n            }\n            responsesContainer.setAttribute('data-responses', JSON.stringify(responses));\n            printResponses(responsesContainer);\n        }\n        // End code to preserve responses\n\n        if (typeof MathJax != 'undefined') {\n            var version = MathJax.version;\n            console.log('MathJax version', version);\n            if (version[0] == \"2\") {\n                MathJax.Hub.Queue([\"Typeset\", MathJax.Hub]);\n            } else if (version[0] == \"3\") {\n                MathJax.typeset([fb]);\n            }\n        } else {\n            console.log('MathJax not detected');\n        }\n        // After correct answer, if next JupyterQuiz question exists and has a text input, scroll by current question height\n        if (correct) {\n            // find the current question wrapper\n            var wrapper = ths.closest('.Quiz');\n            if (wrapper) {\n                var nextWrapper = wrapper.nextElementSibling;\n                if (nextWrapper && nextWrapper.classList.contains('Quiz')) {\n                    var nextInput = nextWrapper.querySelector('input.Input-text');\n                    if (nextInput) {\n                        var height = wrapper.getBoundingClientRect().height;\n                        console.log(height);\n                        nextInput.focus();\n                    }\n                }\n            }\n        }\n        return false;\n    }\n\n}\n// Object-oriented wrapper for numeric questions\nclass NumericQuestion extends Question {\n    constructor(qa, id, idx, opts, rootDiv) {\n        super(qa, id, idx, opts, rootDiv);\n    }\n    render() {\n        make_numeric(this.qa, this.outerqDiv, this.qDiv, this.aDiv, this.id);\n        this.wrapper.appendChild(this.fbDiv);\n    }\n}\nQuestion.register('numeric', NumericQuestion);\n\nfunction isValid(el, charC) {\n    //console.log(\"Input char: \", charC);\n    if (charC == 46) {\n        if (el.value.indexOf('.') === -1) {\n            return true;\n        } else if (el.value.indexOf('/') != -1) {\n            var parts = el.value.split('/');\n            if (parts[1].indexOf('.') === -1) {\n                return true;\n            }\n        }\n        else {\n            return false;\n        }\n    } else if (charC == 47) {\n        if (el.value.indexOf('/') === -1) {\n            if ((el.value != \"\") && (el.value != \".\")) {\n                return true;\n            } else {\n                return false;\n            }\n        } else {\n            return false;\n        }\n    } else if (charC == 45) {\n        var edex = el.value.indexOf('e');\n        if (edex == -1) {\n            edex = el.value.indexOf('E');\n        }\n\n        if (el.value == \"\") {\n            return true;\n        } else if (edex == (el.value.length - 1)) { // If just after e or E\n            return true;\n        } else {\n            return false;\n        }\n    } else if (charC == 101) { // \"e\"\n        if ((el.value.indexOf('e') === -1) && (el.value.indexOf('E') === -1) && (el.value.indexOf('/') == -1)) {\n            // Prev symbol must be digit or decimal point:\n            if (el.value.slice(-1).search(/\\d/) >= 0) {\n                return true;\n            } else if (el.value.slice(-1).search(/\\./) >= 0) {\n                return true;\n            } else {\n                return false;\n            }\n        } else {\n            return false;\n        }\n    } else {\n        if (charC > 31 && (charC < 48 || charC > 57))\n            return false;\n    }\n    return true;\n}\n\nfunction numeric_keypress(evnt) {\n    var charC = (evnt.which) ? evnt.which : evnt.keyCode;\n\n    if (charC == 13) {\n        check_numeric(this, evnt);\n    } else {\n        return isValid(this, charC);\n    }\n}\n\n\n\n\n\nfunction make_numeric(qa, outerqDiv, qDiv, aDiv, id) {\n\n\n\n    //console.log(answer);\n\n\n    outerqDiv.className = \"NumericQn\";\n    aDiv.style.display = 'block';\n\n    var lab = document.createElement(\"label\");\n    lab.className = \"InpLabel\";\n    lab.innerHTML = \"Type numeric answer here:\";\n    aDiv.append(lab);\n\n    var inp = document.createElement(\"input\");\n    inp.type = \"text\";\n    //inp.id=\"input-\"+id;\n    inp.id = id + \"-0\";\n    inp.className = \"Input-text\";\n    inp.setAttribute('data-answers', JSON.stringify(qa.answers));\n    if (\"precision\" in qa) {\n        inp.setAttribute('data-precision', qa.precision);\n    }\n    aDiv.append(inp);\n    //console.log(inp);\n\n    //inp.addEventListener(\"keypress\", check_numeric);\n    //inp.addEventListener(\"keypress\", numeric_keypress);\n    /*\n    inp.addEventListener(\"keypress\", function(event) {\n        return numeric_keypress(this, event);\n    }\n                        );\n                        */\n    //inp.onkeypress=\"return numeric_keypress(this, event)\";\n    inp.onkeypress = numeric_keypress;\n    inp.onpaste = event => false;\n\n    inp.addEventListener(\"focus\", function (event) {\n        this.value = \"\";\n        return false;\n    }\n    );\n\n\n}\n// Override show_questions to use object-oriented Question API\nfunction show_questions(json, container) {\n    // Accept container element or element ID\n    if (typeof container === 'string') {\n        container = document.getElementById(container);\n    }\n    if (!container) {\n        console.error('show_questions: invalid container', container);\n        return;\n    }\n\n    const shuffleQuestions = container.dataset.shufflequestions === 'True';\n    const shuffleAnswers = container.dataset.shuffleanswers === 'True';\n    const preserveResponses = container.dataset.preserveresponses === 'true';\n    const maxWidth = parseInt(container.dataset.maxwidth, 10) || 0;\n    let numQuestions = parseInt(container.dataset.numquestions, 10) || json.length;\n    if (numQuestions > json.length) numQuestions = json.length;\n\n    let questions = json;\n    if (shuffleQuestions || numQuestions < json.length) {\n        questions = getRandomSubarray(json, numQuestions);\n    }\n\n    questions.forEach((qa, index) => {\n        const id = makeid(8);\n        const options = {\n            shuffleAnswers: shuffleAnswers,\n            preserveResponses: preserveResponses,\n            maxWidth: maxWidth\n        };\n        Question.create(qa, id, index, options, container);\n    });\n\n    if (preserveResponses) {\n        const respDiv = document.createElement('div');\n        respDiv.id = 'responses' + container.id;\n        respDiv.className = 'JCResponses';\n        respDiv.dataset.responses = JSON.stringify([]);\n        respDiv.innerHTML = '<b>Select your answers and then follow the directions that will appear here.</b>';\n        container.appendChild(respDiv);\n    }\n\n    // Trigger MathJax typesetting if available\n    if (typeof MathJax != 'undefined') {\n        console.log(\"MathJax version\", MathJax.version);\n        var version = MathJax.version;\n        setTimeout(function(){\n            var version = MathJax.version;\n            console.log('After sleep, MathJax version', version);\n            if (version[0] == \"2\") {\n                MathJax.Hub.Queue([\"Typeset\", MathJax.Hub]);\n            } else if (version[0] == \"3\") {\n                if (MathJax.hasOwnProperty('typeset') ) {\n                    MathJax.typeset([container]);\n                } else {\n                    console.log('WARNING: Trying to force load MathJax 3');\n                    window.MathJax = {\n                        tex: {\n                            inlineMath: [['$', '$'], ['\\\\(', '\\\\)']]\n                        },\n                        svg: {\n                            fontCache: 'global'\n                        }\n                    };\n\n                    (function () {\n                        var script = document.createElement('script');\n                        script.src = 'https://cdn.jsdelivr.net/npm/mathjax@3/es5/tex-svg.js';\n                        script.async = true;\n                        document.head.appendChild(script);\n                    })();\n                }\n            }\n        }, 500);\nif (typeof version == 'undefined') {\n        } else\n        {\n            if (version[0] == \"2\") {\n                MathJax.Hub.Queue([\"Typeset\", MathJax.Hub]);\n            } else if (version[0] == \"3\") {\n                if (MathJax.hasOwnProperty('typeset') ) {\n                    MathJax.typeset([container]);\n                } else {\n                    console.log('WARNING: Trying to force load MathJax 3');\n                    window.MathJax = {\n                        tex: {\n                            inlineMath: [['$', '$'], ['\\\\(', '\\\\)']]\n                        },\n                        svg: {\n                            fontCache: 'global'\n                        }\n                    };\n\n                    (function () {\n                        var script = document.createElement('script');\n                        script.src = 'https://cdn.jsdelivr.net/npm/mathjax@3/es5/tex-svg.js';\n                        script.async = true;\n                        document.head.appendChild(script);\n                    })();\n                }\n            } else {\n                console.log(\"MathJax not found\");\n            }\n        }\n    }\n    // if (typeof MathJax !== 'undefined') {\n    //     const v = MathJax.version;\n    //     if (v[0] === '2') {\n    //         MathJax.Hub.Queue(['Typeset', MathJax.Hub]);\n    //     } else if (v[0] === '3') {\n    //         MathJax.typeset([container]);\n    //     }\n    // }\n\n    // Prevent link clicks from bubbling up\n    Array.from(container.getElementsByClassName('Link')).forEach(link => {\n        link.addEventListener('click', e => e.stopPropagation());\n    });\n}\nfunction levenshteinDistance(a, b) {\n    if (a.length === 0) return b.length;\n    if (b.length === 0) return a.length;\n\n    const matrix = Array(b.length + 1).fill(null).map(() => Array(a.length + 1).fill(null));\n\n    for (let i = 0; i <= a.length; i++) {\n        matrix[0][i] = i;\n    }\n\n    for (let j = 0; j <= b.length; j++) {\n        matrix[j][0] = j;\n    }\n\n    for (let j = 1; j <= b.length; j++) {\n        for (let i = 1; i <= a.length; i++) {\n            const cost = a[i - 1] === b[j - 1] ? 0 : 1;\n            matrix[j][i] = Math.min(\n                matrix[j - 1][i] + 1, // Deletion\n                matrix[j][i - 1] + 1, // Insertion\n                matrix[j - 1][i - 1] + cost // Substitution\n            );\n        }\n    }\n    return matrix[b.length][a.length];\n}\n// Object-oriented wrapper for string input questions\nclass StringQuestion extends Question {\n    constructor(qa, id, idx, opts, rootDiv) {\n        super(qa, id, idx, opts, rootDiv);\n    }\n    render() {\n        make_string(this.qa, this.outerqDiv, this.qDiv, this.aDiv, this.id);\n        this.wrapper.appendChild(this.fbDiv);\n    }\n}\nQuestion.register('string', StringQuestion);\n\nfunction check_string(ths, event) {\n    if (event.keyCode === 13) {\n        ths.blur();\n\n        var id = ths.id.split('-')[0];\n        var submission = ths.value.trim();\n        var fb = document.getElementById(\"fb\" + id);\n        fb.style.display = \"none\";\n        fb.innerHTML = \"Incorrect -- try again.\";\n\n        var answers = JSON.parse(ths.dataset.answers);\n        var defaultFB = \"Incorrect. Try again.\";\n        var correct;\n        var done = false;\n\n        // Handle default answer pattern: filter out and capture default feedback\n        var filteredAnswers = [];\n        answers.forEach(answer => {\n            if (answer.type === \"default\") {\n                defaultFB = answer.feedback;\n            } else {\n                filteredAnswers.push(answer);\n            }\n        });\n        answers = filteredAnswers;\n\n        answers.every(answer => {\n            correct = false;\n\n            let match = false;\n            if (answer.match_case) {\n                match = submission === answer.answer;\n            } else {\n                match = submission.toLowerCase() === answer.answer.toLowerCase();\n            }\n            console.log(submission);\n            console.log(answer.answer);\n            console.log(match);\n\n            if (match) {\n                if (\"feedback\" in answer) {\n                    fb.innerHTML = jaxify(answer.feedback);\n                } else {\n                    fb.innerHTML = jaxify(\"Correct\");\n                }\n                correct = answer.correct;\n                done = true;\n            } else if (answer.fuzzy_threshold) {\n                var max_length = Math.max(submission.length, answer.answer.length);\n                var ratio;\n                if (answer.match_case) {\n                    ratio = 1- (levenshteinDistance(submission, answer.answer) / max_length);\n                } else {\n                    ratio = 1- (levenshteinDistance(submission.toLowerCase(),\n                                                    answer.answer.toLowerCase()) / max_length);\n                }\n                if (ratio >= answer.fuzzy_threshold) {\n                    if (\"feedback\" in answer) {\n                        fb.innerHTML = jaxify(\"(Fuzzy) \" + answer.feedback);\n                    } else {\n                        fb.innerHTML = jaxify(\"Correct\");\n                    }\n                    correct = answer.correct;\n                    done = true;\n                }\n\n            }\n\n            if (done) {\n                return false;\n            } else {\n                return true;\n            }\n        });\n\n        if ((!done) && (defaultFB != \"\")) {\n            fb.innerHTML = jaxify(defaultFB);\n        }\n\n        fb.style.display = \"block\";\n        if (correct) {\n            ths.className = \"Input-text\";\n            ths.classList.add(\"correctButton\");\n            fb.className = \"Feedback\";\n            fb.classList.add(\"correct\");\n        } else {\n            ths.className = \"Input-text\";\n            ths.classList.add(\"incorrectButton\");\n            fb.className = \"Feedback\";\n            fb.classList.add(\"incorrect\");\n        }\n\n        var outerContainer = fb.parentElement.parentElement;\n        var responsesContainer = document.getElementById(\"responses\" + outerContainer.id);\n        if (responsesContainer) {\n            var qnum = document.getElementById(\"quizWrap\" + id).dataset.qnum;\n            var responses = JSON.parse(responsesContainer.dataset.responses);\n            responses[qnum] = submission;\n            responsesContainer.setAttribute('data-responses', JSON.stringify(responses));\n            printResponses(responsesContainer);\n        }\n\n        if (typeof MathJax != 'undefined') {\n            var version = MathJax.version;\n            if (version[0] == \"2\") {\n                MathJax.Hub.Queue([\"Typeset\", MathJax.Hub]);\n            } else if (version[0] == \"3\") {\n                MathJax.typeset([fb]);\n            }\n        } else {\n            console.log('MathJax not detected');\n        }\n        // After correct answer, if next JupyterQuiz question exists and has a text input, scroll by current question height\n        if (correct) {\n            var wrapper = ths.closest('.Quiz');\n            if (wrapper) {\n                var nextWrapper = wrapper.nextElementSibling;\n                if (nextWrapper && nextWrapper.classList.contains('Quiz')) {\n                    var nextInput = nextWrapper.querySelector('input.Input-text');\n                    if (nextInput) {\n                        var height = wrapper.getBoundingClientRect().height;\n                        nextInput.focus();\n                    }\n                }\n            }\n        }\n        return false;\n    }\n}\n\nfunction string_keypress(evnt) {\n    var charC = (evnt.which) ? evnt.which : evnt.keyCode;\n\n    if (charC == 13) {\n        check_string(this, evnt);\n    } \n}\n\n\nfunction make_string(qa, outerqDiv, qDiv, aDiv, id) {\n    outerqDiv.className = \"StringQn\";\n    aDiv.style.display = 'block';\n\n    var lab = document.createElement(\"label\");\n    lab.className = \"InpLabel\";\n    lab.innerHTML = \"Type your answer here:\";\n    aDiv.append(lab);\n\n    var inp = document.createElement(\"input\");\n    inp.type = \"text\";\n    inp.id = id + \"-0\";\n    inp.className = \"Input-text\";\n    inp.setAttribute('data-answers', JSON.stringify(qa.answers));\n    // Apply optional input width (approx. number of characters, in em units)\n    if (qa.input_width != null) {\n        inp.style['min-width'] = qa.input_width + 'em';\n    }\n    aDiv.append(inp);\n\n    inp.onkeypress = string_keypress;\n    inp.onpaste = event => false;\n\n    inp.addEventListener(\"focus\", function (event) {\n        this.value = \"\";\n        return false;\n    });\n}\n/*\n * Handle asynchrony issues when re-running quizzes in Jupyter notebooks.\n * Ensures show_questions is called after the container div is in the DOM.\n */\nfunction try_show() {\n  if (document.getElementById(\"aTLFLfoGAKLj\")) {\n    show_questions(questionsaTLFLfoGAKLj, aTLFLfoGAKLj);\n  } else {\n    setTimeout(try_show, 200);\n  }\n};\n// Invoke immediately\n{\n  try_show();\n}\n}\n",
      "text/plain": [
       "<IPython.core.display.Javascript object>"
      ]
     },
     "metadata": {},
     "output_type": "display_data"
    }
   ],
   "source": [
    "display_quiz(\"quiz/quiz_gpcm.json\")\n"
   ]
  }
 ],
 "metadata": {
  "kernelspec": {
   "display_name": "psy126",
   "language": "python",
   "name": "python3"
  },
  "language_info": {
   "codemirror_mode": {
    "name": "ipython",
    "version": 3
   },
   "file_extension": ".py",
   "mimetype": "text/x-python",
   "name": "python",
   "nbconvert_exporter": "python",
   "pygments_lexer": "ipython3",
   "version": "3.13.3"
  }
 },
 "nbformat": 4,
 "nbformat_minor": 5
}
