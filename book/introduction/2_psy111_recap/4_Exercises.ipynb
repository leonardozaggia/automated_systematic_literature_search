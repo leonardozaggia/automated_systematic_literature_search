{
 "cells": [
  {
   "cell_type": "markdown",
   "id": "0385e5a4",
   "metadata": {},
   "source": [
    "# 2.4 Exercises\n",
    "## Data Curation and Exploration\n",
    "We will now solve practical data analysis tasks. Try to reason through each step before running the code. "
   ]
  },
  {
   "cell_type": "markdown",
   "id": "0c71a852",
   "metadata": {},
   "source": [
    "## 1️⃣ Load and Inspect the Data\n",
    "**Instructions:**\n",
    "- Download data [here](https://github.com/leonardozaggia/psy126/tree/main/book/introduction/2_psy111_recap/data) and store it in your **Test_Theory_and_Costruction** folder.\n",
    "- Load the `child_num_skills.csv` dataset\n",
    "- Load the Yeatman (`subject.csv`) dataset  \n",
    "- Print the shape and column names in a *clear format* for both datasets"
   ]
  },
  {
   "cell_type": "code",
   "execution_count": 21,
   "id": "ad5864f5",
   "metadata": {},
   "outputs": [],
   "source": [
    "# Import packages\n",
    "\n",
    "\n",
    "# Load datasets\n",
    "\n",
    "\n",
    "# Inspect datasets\n"
   ]
  },
  {
   "cell_type": "markdown",
   "id": "ddd0854c",
   "metadata": {},
   "source": [
    "## 2️⃣: Missing Data Detection with Logical indexing\n",
    "**Instructions:**\n",
    "- Create a loop that goes through each column in the `df_y`\n",
    "- Store in an array whether the column had missing values or not:\n",
    "    - Ex. `bool_arr = [True, False, ...]`\n",
    "- Use this array to count how many columns have missing values\n",
    "- Replace missing `Handedness` with `'Unknown'`\n",
    "- Drop remaining rows with missing values\n",
    "- How many participant did you have to exclude from your dataset?"
   ]
  },
  {
   "cell_type": "code",
   "execution_count": 22,
   "id": "448511b2",
   "metadata": {},
   "outputs": [],
   "source": [
    "# Loop through df_y\n",
    "\n",
    "\n",
    "# Replace and drop\n",
    "\n",
    "\n",
    "# Print the results"
   ]
  },
  {
   "cell_type": "markdown",
   "id": "3b28ac0e",
   "metadata": {},
   "source": [
    "## 3️⃣ Summary Statistics and Interpretation\n",
    "**Instructions:**\n",
    "- Calculate and interpret the mean, median, and standard deviation for `addit1` and `subtr1`\n",
    "- Calculate the correlation between all addition items.\n",
    "- Load the dataset once more, but this time shuffle its columns using the [`.sample()` method](https://medium.com/@heyamit10/how-to-shuffle-a-pandas-dataframe-60678a3fb94b#:~:text=Pandas%20makes%20it%20simple%3A%20use%20sample()%20with%20axis%3D1%20.&text=What's%20Happening%3F,1%20%E2%86%92%20Shuffles%20columns%20instead.)\n",
    "- Once that is done, calculate the correlation betwen all subtraction items\n",
    "    - This time do not explicitly specify `df_c[[\"subit1\", \"subit2\", ...]]`\n",
    "    - You can use loops, logical indexing, or a combination of both "
   ]
  },
  {
   "cell_type": "code",
   "execution_count": 23,
   "id": "573b8697",
   "metadata": {},
   "outputs": [],
   "source": [
    "# Calculate the statistics\n",
    "\n",
    "\n",
    "# Print the statistics\n",
    "\n",
    "\n",
    "# Inspect the results"
   ]
  },
  {
   "cell_type": "code",
   "execution_count": 24,
   "id": "7472467f",
   "metadata": {},
   "outputs": [],
   "source": [
    "# Calculate the correlation between \"addit\" items"
   ]
  },
  {
   "cell_type": "code",
   "execution_count": null,
   "id": "1b726ad6",
   "metadata": {},
   "outputs": [],
   "source": [
    "# Calculate teh correlation between all subtraction items (after shuffle)"
   ]
  },
  {
   "cell_type": "markdown",
   "id": "e45bed20",
   "metadata": {},
   "source": [
    "## 4️⃣ Visualization\n",
    "**Instructions:**\n",
    "- Use either `matplotlib` or `seaborn` to create a boxplot of IQ scores by gender\n",
    "- Include IQ, Matrix, and Vocab scores\n",
    "- Include two more rows to your subplots\n",
    "- `ax[1]`: same data, customize the plot to have a minimal style\n",
    "- `ax[2]`: same data, customize the plot to be as informative and refined as possible\n",
    "\n",
    "- You can use:\n",
    "    - Matplotlib [Cheat Sheets](https://matplotlib.org/cheatsheets/)\n",
    "    - Matplotlib [Documentation](https://matplotlib.org/stable/index.html)\n",
    "    - Seaborn [Cheat Sheets](https://media.datacamp.com/legacy/image/upload/v1676302629/Marketing/Blog/Seaborn_Cheat_Sheet.pdf)\n",
    "    - Seaborn [Documentation](https://seaborn.pydata.org/tutorial.html)\n"
   ]
  },
  {
   "cell_type": "code",
   "execution_count": 26,
   "id": "27d0eef7",
   "metadata": {},
   "outputs": [],
   "source": [
    "# Import necessary packages\n",
    "\n",
    "\n",
    "# Create your fig and ax objects\n",
    "\n",
    "\n",
    "# Plot the data\n"
   ]
  },
  {
   "cell_type": "markdown",
   "id": "f6b9e945",
   "metadata": {},
   "source": [
    "## Volountary Exercise: Full Pipeline — Participant-Level Visualization with Time and Accuracy\n",
    "\n",
    "**Instructions:**\n",
    "- Use the `df_c` dataset (Child Numeracy Skills)\n",
    "- Plot each participant's total time to complete the test as a **scatter plot**\n",
    "- Overlay three horizontal lines (in red) indicating:\n",
    "  - The **mean** completion time\n",
    "  - The **first quartile** (25th percentile)\n",
    "  - The **last quartile** (75th percentile)\n",
    "- On the **same plot**, draw a second line (in a different color) that represents the **total number of correct responses** for each participant\n",
    "- Bonus: Try adding a legend to clarify the plot\n",
    "- Bonus: Try sorting participant in the dataset by class, can you detect any pattern in the plot\n",
    "- Finally, explain what you see in the plot - what other kind of plot could you use for further investigation?"
   ]
  },
  {
   "cell_type": "code",
   "execution_count": 27,
   "id": "2ed99730",
   "metadata": {},
   "outputs": [],
   "source": [
    "# Specify variables you are interested in\n",
    "\n",
    "\n",
    "# Plot the data"
   ]
  }
 ],
 "metadata": {
  "kernelspec": {
   "display_name": "psy126",
   "language": "python",
   "name": "python3"
  },
  "language_info": {
   "codemirror_mode": {
    "name": "ipython",
    "version": 3
   },
   "file_extension": ".py",
   "mimetype": "text/x-python",
   "name": "python",
   "nbconvert_exporter": "python",
   "pygments_lexer": "ipython3",
   "version": "3.13.2"
  }
 },
 "nbformat": 4,
 "nbformat_minor": 5
}
